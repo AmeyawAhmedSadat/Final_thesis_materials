{
 "cells": [
  {
   "cell_type": "markdown",
   "id": "379e6be2-3b9c-470f-bb8c-c4e9d5657ec6",
   "metadata": {},
   "source": [
    "### Directory Setup and Clearing"
   ]
  },
  {
   "cell_type": "code",
   "execution_count": 15,
   "id": "cb4b0593-c91b-46d0-9e9e-f78bb0ca4186",
   "metadata": {},
   "outputs": [
    {
     "name": "stdout",
     "output_type": "stream",
     "text": [
      "Path verification:\n",
      "Original images: /home/jovyan/__ANIMALS/images (exists: True)\n",
      "Base directory: /home/jovyan/__ANIMALS/datasets/ds8_auto_label_yolo_architectures (exists: True)\n",
      "\n",
      "Planned working directories:\n",
      "train_images: /home/jovyan/__ANIMALS/datasets/ds8_auto_label_yolo_architectures/train/images\n",
      "train_labels: /home/jovyan/__ANIMALS/datasets/ds8_auto_label_yolo_architectures/train/labels\n",
      "val_images: /home/jovyan/__ANIMALS/datasets/ds8_auto_label_yolo_architectures/val/images\n",
      "val_labels: /home/jovyan/__ANIMALS/datasets/ds8_auto_label_yolo_architectures/val/labels\n",
      "augmented: /home/jovyan/__ANIMALS/datasets/ds8_auto_label_yolo_architectures/augmented\n"
     ]
    }
   ],
   "source": [
    "import os\n",
    "\n",
    "# ======================================\n",
    "# STEP 1: ONLY DEFINE PATHS (NO OPERATIONS)\n",
    "# ======================================\n",
    "\n",
    "# Base directory\n",
    "base_dir = \"/home/jovyan/__ANIMALS/datasets/ds8_auto_label_yolo_architectures\"\n",
    "\n",
    "# \n",
    "working_dirs = {\n",
    "    'train_images': os.path.join(base_dir, \"train/images\"),\n",
    "    'train_labels': os.path.join(base_dir, \"train/labels\"),\n",
    "    'val_images': os.path.join(base_dir, \"val/images\"), \n",
    "    'val_labels': os.path.join(base_dir, \"val/labels\"),\n",
    "    'augmented': os.path.join(base_dir, \"augmented\")  \n",
    "}\n",
    "\n",
    "# Original images (READ ONLY)\n",
    "original_images_dir = \"/home/jovyan/__ANIMALS/images\"\n",
    "\n",
    "# Verify paths (read-only check)\n",
    "print(\"Path verification:\")\n",
    "print(f\"Original images: {original_images_dir} (exists: {os.path.exists(original_images_dir)})\")\n",
    "print(f\"Base directory: {base_dir} (exists: {os.path.exists(base_dir)})\")\n",
    "\n",
    "# Show planned working directories\n",
    "print(\"\\nPlanned working directories:\")\n",
    "for name, path in working_dirs.items():\n",
    "    print(f\"{name}: {path}\")"
   ]
  },
  {
   "cell_type": "code",
   "execution_count": 16,
   "id": "5bb99c89-8ee1-44b6-8e72-f6f437bfeac0",
   "metadata": {},
   "outputs": [
    {
     "name": "stdout",
     "output_type": "stream",
     "text": [
      "\n",
      "Directory preparation:\n",
      "✓ Cleared: /home/jovyan/__ANIMALS/datasets/ds8_auto_label_yolo_architectures/train/images\n",
      "✓ Created: /home/jovyan/__ANIMALS/datasets/ds8_auto_label_yolo_architectures/train/images\n",
      "✓ Cleared: /home/jovyan/__ANIMALS/datasets/ds8_auto_label_yolo_architectures/train/labels\n",
      "✓ Created: /home/jovyan/__ANIMALS/datasets/ds8_auto_label_yolo_architectures/train/labels\n",
      "✓ Cleared: /home/jovyan/__ANIMALS/datasets/ds8_auto_label_yolo_architectures/val/images\n",
      "✓ Created: /home/jovyan/__ANIMALS/datasets/ds8_auto_label_yolo_architectures/val/images\n",
      "✓ Cleared: /home/jovyan/__ANIMALS/datasets/ds8_auto_label_yolo_architectures/val/labels\n",
      "✓ Created: /home/jovyan/__ANIMALS/datasets/ds8_auto_label_yolo_architectures/val/labels\n",
      "\n",
      "Original images directory remains untouched:\n",
      "/home/jovyan/__ANIMALS/images (exists: True)\n",
      "\n",
      "SUCCESS: Working directories ready\n"
     ]
    }
   ],
   "source": [
    "import shutil\n",
    "\n",
    "# ======================================\n",
    "# SAFE DIRECTORY PREPARATION\n",
    "# ======================================\n",
    "\n",
    "def clean_and_create_dirs(dirs_to_clean):\n",
    "    \"\"\"Cleans and recreates ONLY specified directories\"\"\"\n",
    "    print(\"\\nDirectory preparation:\")\n",
    "    \n",
    "    # Only clean these specific directories\n",
    "    allowed_to_clean = {\n",
    "        'train_images', 'train_labels', \n",
    "        'val_images', 'val_labels',\n",
    "        'augmented'\n",
    "    }\n",
    "    \n",
    "    # Validate requested directories\n",
    "    invalid = set(dirs_to_clean) - allowed_to_clean\n",
    "    if invalid:\n",
    "        raise ValueError(f\"Cannot clean these directories: {invalid}\")\n",
    "    \n",
    "    # Process each directory\n",
    "    for dir_name in dirs_to_clean:\n",
    "        path = working_dirs[dir_name]\n",
    "        \n",
    "        # Clean if exists\n",
    "        if os.path.exists(path):\n",
    "            shutil.rmtree(path)\n",
    "            print(f\"✓ Cleared: {path}\")\n",
    "        \n",
    "        # Create fresh\n",
    "        os.makedirs(path, exist_ok=True)\n",
    "        print(f\"✓ Created: {path}\")\n",
    "    \n",
    "    print(\"\\nOriginal images directory remains untouched:\")\n",
    "    print(f\"{original_images_dir} (exists: {os.path.exists(original_images_dir)})\")\n",
    "\n",
    "# List of directories to reset\n",
    "directories_to_reset = [\n",
    "    'train_images',\n",
    "    'train_labels', \n",
    "    'val_images',\n",
    "    'val_labels'\n",
    "    # Omit 'augmented' for now - we'll create it later if needed\n",
    "]\n",
    "\n",
    "# Execute cleaning\n",
    "try:\n",
    "    clean_and_create_dirs(directories_to_reset)\n",
    "    print(\"\\nSUCCESS: Working directories ready\")\n",
    "except Exception as e:\n",
    "    print(f\"\\nERROR: {str(e)}\")\n",
    "    print(\"Please verify the directory list and try again\")"
   ]
  },
  {
   "cell_type": "markdown",
   "id": "5784da85-0c73-488f-a447-0dd35af6184c",
   "metadata": {},
   "source": [
    "### Data Validation and Cleaning"
   ]
  },
  {
   "cell_type": "code",
   "execution_count": 20,
   "id": "690cf468-ad19-41b0-9bb4-f42285749d1b",
   "metadata": {},
   "outputs": [
    {
     "ename": "OSError",
     "evalue": "[Errno 116] Stale file handle: 'result.json'",
     "output_type": "error",
     "traceback": [
      "\u001b[0;31m---------------------------------------------------------------------------\u001b[0m",
      "\u001b[0;31mOSError\u001b[0m                                   Traceback (most recent call last)",
      "Cell \u001b[0;32mIn[20], line 7\u001b[0m\n\u001b[1;32m      4\u001b[0m json_file \u001b[38;5;241m=\u001b[39m \u001b[38;5;124m\"\u001b[39m\u001b[38;5;124mresult.json\u001b[39m\u001b[38;5;124m\"\u001b[39m\n\u001b[1;32m      6\u001b[0m \u001b[38;5;66;03m# Load JSON file\u001b[39;00m\n\u001b[0;32m----> 7\u001b[0m \u001b[38;5;28;01mwith\u001b[39;00m \u001b[38;5;28;43mopen\u001b[39;49m\u001b[43m(\u001b[49m\u001b[43mjson_file\u001b[49m\u001b[43m,\u001b[49m\u001b[43m \u001b[49m\u001b[38;5;124;43m\"\u001b[39;49m\u001b[38;5;124;43mr\u001b[39;49m\u001b[38;5;124;43m\"\u001b[39;49m\u001b[43m)\u001b[49m \u001b[38;5;28;01mas\u001b[39;00m f:\n\u001b[1;32m      8\u001b[0m     coco_data \u001b[38;5;241m=\u001b[39m json\u001b[38;5;241m.\u001b[39mload(f)\n\u001b[1;32m     10\u001b[0m \u001b[38;5;66;03m# Extract image and annotation data\u001b[39;00m\n",
      "File \u001b[0;32m/opt/conda/lib/python3.12/site-packages/IPython/core/interactiveshell.py:324\u001b[0m, in \u001b[0;36m_modified_open\u001b[0;34m(file, *args, **kwargs)\u001b[0m\n\u001b[1;32m    317\u001b[0m \u001b[38;5;28;01mif\u001b[39;00m file \u001b[38;5;129;01min\u001b[39;00m {\u001b[38;5;241m0\u001b[39m, \u001b[38;5;241m1\u001b[39m, \u001b[38;5;241m2\u001b[39m}:\n\u001b[1;32m    318\u001b[0m     \u001b[38;5;28;01mraise\u001b[39;00m \u001b[38;5;167;01mValueError\u001b[39;00m(\n\u001b[1;32m    319\u001b[0m         \u001b[38;5;124mf\u001b[39m\u001b[38;5;124m\"\u001b[39m\u001b[38;5;124mIPython won\u001b[39m\u001b[38;5;124m'\u001b[39m\u001b[38;5;124mt let you open fd=\u001b[39m\u001b[38;5;132;01m{\u001b[39;00mfile\u001b[38;5;132;01m}\u001b[39;00m\u001b[38;5;124m by default \u001b[39m\u001b[38;5;124m\"\u001b[39m\n\u001b[1;32m    320\u001b[0m         \u001b[38;5;124m\"\u001b[39m\u001b[38;5;124mas it is likely to crash IPython. If you know what you are doing, \u001b[39m\u001b[38;5;124m\"\u001b[39m\n\u001b[1;32m    321\u001b[0m         \u001b[38;5;124m\"\u001b[39m\u001b[38;5;124myou can use builtins\u001b[39m\u001b[38;5;124m'\u001b[39m\u001b[38;5;124m open.\u001b[39m\u001b[38;5;124m\"\u001b[39m\n\u001b[1;32m    322\u001b[0m     )\n\u001b[0;32m--> 324\u001b[0m \u001b[38;5;28;01mreturn\u001b[39;00m \u001b[43mio_open\u001b[49m\u001b[43m(\u001b[49m\u001b[43mfile\u001b[49m\u001b[43m,\u001b[49m\u001b[43m \u001b[49m\u001b[38;5;241;43m*\u001b[39;49m\u001b[43margs\u001b[49m\u001b[43m,\u001b[49m\u001b[43m \u001b[49m\u001b[38;5;241;43m*\u001b[39;49m\u001b[38;5;241;43m*\u001b[39;49m\u001b[43mkwargs\u001b[49m\u001b[43m)\u001b[49m\n",
      "\u001b[0;31mOSError\u001b[0m: [Errno 116] Stale file handle: 'result.json'"
     ]
    }
   ],
   "source": [
    "import json\n",
    "\n",
    "# Paths\n",
    "json_file = \"result.json\"\n",
    "\n",
    "# Load JSON file\n",
    "with open(json_file, \"r\") as f:\n",
    "    coco_data = json.load(f)\n",
    "\n",
    "# Extract image and annotation data\n",
    "images = {img[\"id\"]: img[\"file_name\"].split(\"/\")[-1] for img in coco_data[\"images\"]}\n",
    "annotations = coco_data[\"annotations\"]\n",
    "categories = {cat[\"id\"]: cat[\"name\"] for cat in coco_data[\"categories\"]}\n",
    "\n",
    "# Filter images to include only those with annotations\n",
    "annotated_images = set(ann[\"image_id\"] for ann in annotations)\n",
    "filtered_images = {img_id: images[img_id] for img_id in images if img_id in annotated_images}\n",
    "\n",
    "# Group images by category\n",
    "category_to_image_ids = {name: set() for name in categories.values()}\n",
    "\n",
    "for annotation in annotations:\n",
    "    image_id = annotation[\"image_id\"]\n",
    "    category_id = annotation[\"category_id\"]\n",
    "    category_name = categories[category_id]\n",
    "    \n",
    "    # Add the image ID to the corresponding category\n",
    "    category_to_image_ids[category_name].add(image_id)\n",
    "\n",
    "# Convert sets to lists for splitting\n",
    "category_to_image_ids = {k: list(v) for k, v in category_to_image_ids.items()}"
   ]
  },
  {
   "cell_type": "code",
   "execution_count": 19,
   "id": "c23af9cc-f048-4961-a2f8-bf8506191c19",
   "metadata": {},
   "outputs": [
    {
     "name": "stdout",
     "output_type": "stream",
     "text": [
      "\n",
      "Starting validation...\n",
      "\n",
      "ERROR: Error loading result.json: [Errno 116] Stale file handle: 'result.json'\n",
      "Please check:\n",
      "1. result.json exists in current directory\n",
      "2. Original images are accessible\n"
     ]
    }
   ],
   "source": [
    "import json\n",
    "from tqdm import tqdm\n",
    "from PIL import Image\n",
    "from collections import defaultdict\n",
    "\n",
    "# ======================================\n",
    "# STEP 3: SAFE DATA VALIDATION\n",
    "# ======================================\n",
    "\n",
    "def validate_dataset(annotation_path):\n",
    "    \"\"\"Validates images without modifying originals\"\"\"\n",
    "    print(\"\\nStarting validation...\")\n",
    "    \n",
    "    # 1. Load annotations\n",
    "    try:\n",
    "        with open(annotation_path) as f:\n",
    "            coco_data = json.load(f)\n",
    "        print(f\"Loaded annotations with {len(coco_data['images'])} images\")\n",
    "    except Exception as e:\n",
    "        raise ValueError(f\"Error loading {annotation_path}: {str(e)}\")\n",
    "\n",
    "    # 2. Validate each image\n",
    "    valid_images = []\n",
    "    invalid_images = []\n",
    "    corrupt_files = []\n",
    "\n",
    "    for img in tqdm(coco_data['images'], desc=\"Validating\"):\n",
    "        try:\n",
    "            # Get actual filename (handles cases with prefixes)\n",
    "            filename = img['file_name'].split('__')[-1]\n",
    "            img_path = os.path.join(original_images_dir, filename)\n",
    "            \n",
    "            # Check existence\n",
    "            if not os.path.exists(img_path):\n",
    "                invalid_images.append(img['id'])\n",
    "                continue\n",
    "                \n",
    "            # Verify image integrity\n",
    "            with Image.open(img_path) as im:\n",
    "                im.verify()  # Verify without loading pixels\n",
    "                \n",
    "                # Check dimensions match metadata\n",
    "                if im.size != (img['width'], img['height']):\n",
    "                    print(f\"Size mismatch: {filename} (metadata {img['width']}x{img['height']} vs actual {im.size})\")\n",
    "                    invalid_images.append(img['id'])\n",
    "                    continue\n",
    "                    \n",
    "            valid_images.append(img)\n",
    "            \n",
    "        except Exception as e:\n",
    "            corrupt_files.append(filename)\n",
    "            invalid_images.append(img['id'])\n",
    "\n",
    "    # 3. Filter annotations\n",
    "    valid_annotations = [\n",
    "        ann for ann in coco_data['annotations'] \n",
    "        if ann['image_id'] not in invalid_images\n",
    "    ]\n",
    "    \n",
    "    # 4. Print report\n",
    "    print(\"\\nValidation Report:\")\n",
    "    print(f\"Valid images: {len(valid_images)}\")\n",
    "    print(f\"Invalid/corrupt: {len(invalid_images)}\")\n",
    "    if corrupt_files:\n",
    "        print(f\"Corrupt files (sample): {corrupt_files[:5]}\")\n",
    "\n",
    "    return coco_data, valid_images, valid_annotations\n",
    "\n",
    "# Run validation\n",
    "try:\n",
    "    coco_data, valid_images, valid_annotations = validate_dataset(\"result.json\")\n",
    "    print(\"\\nSUCCESS: Validation complete\")\n",
    "    print(f\"Ready to process {len(valid_images)} valid images\")\n",
    "except Exception as e:\n",
    "    print(f\"\\nERROR: {str(e)}\")\n",
    "    print(\"Please check:\")\n",
    "    print(\"1. result.json exists in current directory\")\n",
    "    print(\"2. Original images are accessible\")"
   ]
  },
  {
   "cell_type": "markdown",
   "id": "6ca65e63-e305-4038-8f23-2a9d27c153b1",
   "metadata": {},
   "source": [
    "### Create Balanced Dataset Split"
   ]
  },
  {
   "cell_type": "code",
   "execution_count": 3,
   "id": "d48c7a84-a30b-4ee5-a7c3-95e6bdd68e50",
   "metadata": {},
   "outputs": [
    {
     "name": "stderr",
     "output_type": "stream",
     "text": [
      "Copying train images: 100%|██████████| 1891/1891 [04:08<00:00,  7.61it/s]\n",
      "Copying val images: 100%|██████████| 518/518 [00:38<00:00, 13.43it/s]"
     ]
    },
    {
     "name": "stdout",
     "output_type": "stream",
     "text": [
      "\n",
      "Dataset split created at /home/jovyan/__ANIMALS/datasets/ds8_auto_label_yolo_architectures/\n",
      "Training images: 1891\n",
      "Validation images: 518\n",
      "Split ratio: 78.5% train, 21.5% val\n"
     ]
    },
    {
     "name": "stderr",
     "output_type": "stream",
     "text": [
      "\n"
     ]
    }
   ],
   "source": [
    "import os\n",
    "import shutil\n",
    "from sklearn.model_selection import train_test_split\n",
    "\n",
    "def create_balanced_split(coco_data, valid_images, valid_annotations, output_dir):\n",
    "    \"\"\"Create balanced train/val split without modifying originals\"\"\"\n",
    "    # 1. Create output directories\n",
    "    os.makedirs(os.path.join(output_dir, \"train/images\"), exist_ok=True)\n",
    "    os.makedirs(os.path.join(output_dir, \"train/labels\"), exist_ok=True)\n",
    "    os.makedirs(os.path.join(output_dir, \"val/images\"), exist_ok=True)\n",
    "    os.makedirs(os.path.join(output_dir, \"val/labels\"), exist_ok=True)\n",
    "\n",
    "    # Group images by category for balanced split\n",
    "    category_to_images = defaultdict(list)\n",
    "    for ann in valid_annotations:\n",
    "        category_to_images[ann['category_id']].append(ann['image_id'])\n",
    "\n",
    "    # Create balanced split (80% train, 20% val)\n",
    "    train_ids, val_ids = set(), set()\n",
    "    \n",
    "    for cat_id, img_ids in category_to_images.items():\n",
    "        # Ensure each class has at least 1 validation sample\n",
    "        if len(img_ids) > 4:  # Only split if we have enough samples\n",
    "            train, val = train_test_split(img_ids, test_size=0.2, random_state=42)\n",
    "            train_ids.update(train)\n",
    "            val_ids.update(val)\n",
    "        else:\n",
    "            # For rare classes, put all in training and we'll augment later\n",
    "            train_ids.update(img_ids)\n",
    "\n",
    "    # Copy files to new directories (not moving - preserving originals)\n",
    "    def copy_files(image_ids, split_name):\n",
    "        copied = 0\n",
    "        for img_id in tqdm(image_ids, desc=f\"Copying {split_name} images\"):\n",
    "            img_info = next(img for img in valid_images if img['id'] == img_id)\n",
    "            src_path = os.path.join(\"/home/jovyan/__ANIMALS/images\", \n",
    "                                  img_info['file_name'].split('__')[-1])\n",
    "            dest_path = os.path.join(output_dir, split_name, \"images\", \n",
    "                                   os.path.basename(src_path))\n",
    "            \n",
    "            # Copy image\n",
    "            shutil.copyfile(src_path, dest_path)\n",
    "            copied += 1\n",
    "        return copied\n",
    "\n",
    "    train_count = copy_files(train_ids, \"train\")\n",
    "    val_count = copy_files(val_ids, \"val\")\n",
    "\n",
    "    print(f\"\\nDataset split created at {output_dir}\")\n",
    "    print(f\"Training images: {train_count}\")\n",
    "    print(f\"Validation images: {val_count}\")\n",
    "    print(f\"Split ratio: {train_count/(train_count+val_count):.1%} train, {val_count/(train_count+val_count):.1%} val\")\n",
    "\n",
    "    return train_ids, val_ids\n",
    "\n",
    "# Usage:\n",
    "output_dir = \"/home/jovyan/__ANIMALS/datasets/ds8_auto_label_yolo_architectures/\"\n",
    "train_ids, val_ids = create_balanced_split(coco_data, valid_images, valid_annotations, output_dir)"
   ]
  },
  {
   "cell_type": "code",
   "execution_count": null,
   "id": "63f5ffff-e270-4965-b94a-d23679dceb36",
   "metadata": {},
   "outputs": [],
   "source": []
  },
  {
   "cell_type": "markdown",
   "id": "0abf9c6d-8414-43bb-8544-6bb4db2dad85",
   "metadata": {},
   "source": [
    "### Create YOLO Format Labels and Verify Class Balance"
   ]
  },
  {
   "cell_type": "code",
   "execution_count": 4,
   "id": "496f59ee-327a-4583-9d86-90c160824002",
   "metadata": {},
   "outputs": [
    {
     "name": "stderr",
     "output_type": "stream",
     "text": [
      "Creating train labels: 100%|██████████| 1891/1891 [03:20<00:00,  9.44it/s]\n"
     ]
    },
    {
     "data": {
      "image/png": "[encoded data removed]",
      "text/plain": [
       "<Figure size 1200x600 with 1 Axes>"
      ]
     },
     "metadata": {},
     "output_type": "display_data"
    },
    {
     "name": "stderr",
     "output_type": "stream",
     "text": [
      "Creating val labels: 100%|██████████| 518/518 [00:00<00:00, 1798.59it/s]\n"
     ]
    },
    {
     "data": {
      "image/png": "[encoded data removed]",
      "text/plain": [
       "<Figure size 1200x600 with 1 Axes>"
      ]
     },
     "metadata": {},
     "output_type": "display_data"
    },
    {
     "name": "stdout",
     "output_type": "stream",
     "text": [
      "\n",
      "Class Balance Report:\n",
      "Class\n",
      "sika_deer_female    1131\n",
      "tiger                499\n",
      "roe_deer_female      329\n",
      "sika_deer_male       225\n",
      "boar                 223\n",
      "badger               173\n",
      "lynx                  93\n",
      "roe_deer_male         86\n",
      "red_fox               38\n",
      "raccoon               37\n",
      "sable                 35\n",
      "wild_cat              15\n",
      "yellow_marten         12\n",
      "hare                   8\n",
      "ussuri_bear            4\n",
      "brown_bear             3\n",
      "otter                  2\n",
      "musk_deer              2\n",
      "Name: Count, dtype: int64\n",
      "\n",
      "Most common class: sika_deer_female (1131 instances)\n",
      "Least common class: otter (2 instances)\n",
      "Imbalance ratio: 565.5x\n"
     ]
    }
   ],
   "source": [
    "import pandas as pd\n",
    "import matplotlib.pyplot as plt\n",
    "\n",
    "def create_yolo_labels(coco_data, valid_annotations, image_ids, output_dir, split_name):\n",
    "    \"\"\"Convert COCO annotations to YOLO format and analyze class distribution\"\"\"\n",
    "    # Prepare paths\n",
    "    label_dir = os.path.join(output_dir, split_name, \"labels\")\n",
    "    os.makedirs(label_dir, exist_ok=True)\n",
    "    \n",
    "    # Create category mapping\n",
    "    cat_id_to_yolo = {cat['id']: idx for idx, cat in enumerate(sorted(coco_data['categories'], key=lambda x: x['id']))}\n",
    "    \n",
    "    # Convert annotations and track class counts\n",
    "    class_counts = defaultdict(int)\n",
    "    \n",
    "    for img_id in tqdm(image_ids, desc=f\"Creating {split_name} labels\"):\n",
    "        img_info = next(img for img in valid_images if img['id'] == img_id)\n",
    "        img_anns = [ann for ann in valid_annotations if ann['image_id'] == img_id]\n",
    "        \n",
    "        # Create label file\n",
    "        label_path = os.path.join(label_dir, os.path.splitext(img_info['file_name'].split('__')[-1])[0] + '.txt')\n",
    "        \n",
    "        with open(label_path, 'w') as f:\n",
    "            for ann in img_anns:\n",
    "                # Convert bbox to YOLO format\n",
    "                x, y, w, h = ann['bbox']\n",
    "                img_w, img_h = img_info['width'], img_info['height']\n",
    "                x_center = (x + w/2) / img_w\n",
    "                y_center = (y + h/2) / img_h\n",
    "                width = w / img_w\n",
    "                height = h / img_h\n",
    "                \n",
    "                # Write to file\n",
    "                f.write(f\"{cat_id_to_yolo[ann['category_id']]} {x_center:.6f} {y_center:.6f} {width:.6f} {height:.6f}\\n\")\n",
    "                \n",
    "                # Count classes\n",
    "                class_counts[ann['category_id']] += 1\n",
    "    \n",
    "    # Analyze and visualize class distribution\n",
    "    class_names = {cat['id']: cat['name'] for cat in coco_data['categories']}\n",
    "    df = pd.DataFrame({\n",
    "        'Class': [class_names[cat_id] for cat_id in class_counts],\n",
    "        'Count': list(class_counts.values()),\n",
    "        'Split': split_name\n",
    "    }).sort_values('Count', ascending=False)\n",
    "    \n",
    "    plt.figure(figsize=(12, 6))\n",
    "    plt.bar(df['Class'], df['Count'])\n",
    "    plt.title(f'Class Distribution - {split_name} Set')\n",
    "    plt.xticks(rotation=90)\n",
    "    plt.ylabel('Number of Instances')\n",
    "    plt.show()\n",
    "    \n",
    "    return df\n",
    "\n",
    "# Create labels for both sets\n",
    "train_df = create_yolo_labels(coco_data, valid_annotations, train_ids, output_dir, \"train\")\n",
    "val_df = create_yolo_labels(coco_data, valid_annotations, val_ids, output_dir, \"val\")\n",
    "\n",
    "# Show combined statistics\n",
    "combined_df = pd.concat([train_df, val_df])\n",
    "class_balance = combined_df.groupby('Class')['Count'].sum().sort_values(ascending=False)\n",
    "\n",
    "print(\"\\nClass Balance Report:\")\n",
    "print(class_balance)\n",
    "print(f\"\\nMost common class: {class_balance.idxmax()} ({class_balance.max()} instances)\")\n",
    "print(f\"Least common class: {class_balance.idxmin()} ({class_balance.min()} instances)\")\n",
    "print(f\"Imbalance ratio: {class_balance.max()/class_balance.min():.1f}x\")"
   ]
  },
  {
   "cell_type": "markdown",
   "id": "400a1a76-649c-4566-a3d1-b421eef85670",
   "metadata": {},
   "source": [
    "### Targeted Augmentation for Rare Classes"
   ]
  },
  {
   "cell_type": "code",
   "execution_count": 6,
   "id": "ec5fe130-fcaf-4058-bb05-3a4752656816",
   "metadata": {},
   "outputs": [
    {
     "name": "stdout",
     "output_type": "stream",
     "text": [
      "Collecting albumentations\n",
      "  Downloading albumentations-2.0.5-py3-none-any.whl.metadata (41 kB)\n",
      "Requirement already satisfied: numpy>=1.24.4 in /opt/conda/lib/python3.12/site-packages (from albumentations) (1.26.4)\n",
      "Requirement already satisfied: scipy>=1.10.0 in /opt/conda/lib/python3.12/site-packages (from albumentations) (1.13.1)\n",
      "Requirement already satisfied: PyYAML in /opt/conda/lib/python3.12/site-packages (from albumentations) (6.0.2)\n",
      "Requirement already satisfied: pydantic>=2.9.2 in /opt/conda/lib/python3.12/site-packages (from albumentations) (2.10.2)\n",
      "Collecting albucore==0.0.23 (from albumentations)\n",
      "  Downloading albucore-0.0.23-py3-none-any.whl.metadata (5.3 kB)\n",
      "Collecting opencv-python-headless>=4.9.0.80 (from albumentations)\n",
      "  Downloading opencv_python_headless-4.11.0.86-cp37-abi3-manylinux_2_17_x86_64.manylinux2014_x86_64.whl.metadata (20 kB)\n",
      "Collecting stringzilla>=3.10.4 (from albucore==0.0.23->albumentations)\n",
      "  Downloading stringzilla-3.12.3-cp312-cp312-manylinux_2_5_x86_64.manylinux1_x86_64.manylinux_2_28_x86_64.whl.metadata (80 kB)\n",
      "Collecting simsimd>=5.9.2 (from albucore==0.0.23->albumentations)\n",
      "  Downloading simsimd-6.2.1-cp312-cp312-manylinux_2_28_x86_64.whl.metadata (66 kB)\n",
      "Requirement already satisfied: annotated-types>=0.6.0 in /opt/conda/lib/python3.12/site-packages (from pydantic>=2.9.2->albumentations) (0.7.0)\n",
      "Requirement already satisfied: pydantic-core==2.27.1 in /opt/conda/lib/python3.12/site-packages (from pydantic>=2.9.2->albumentations) (2.27.1)\n",
      "Requirement already satisfied: typing-extensions>=4.12.2 in /opt/conda/lib/python3.12/site-packages (from pydantic>=2.9.2->albumentations) (4.12.2)\n",
      "Downloading albumentations-2.0.5-py3-none-any.whl (290 kB)\n",
      "Downloading albucore-0.0.23-py3-none-any.whl (14 kB)\n",
      "Downloading opencv_python_headless-4.11.0.86-cp37-abi3-manylinux_2_17_x86_64.manylinux2014_x86_64.whl (50.0 MB)\n",
      "\u001b[2K   \u001b[90m━━━━━━━━━━━━━━━━━━━━━━━━━━━━━━━━━━━━━━━━\u001b[0m \u001b[32m50.0/50.0 MB\u001b[0m \u001b[31m38.4 MB/s\u001b[0m eta \u001b[36m0:00:00\u001b[0m00:01\u001b[0m00:01\u001b[0m\n",
      "\u001b[?25hDownloading simsimd-6.2.1-cp312-cp312-manylinux_2_28_x86_64.whl (633 kB)\n",
      "\u001b[2K   \u001b[90m━━━━━━━━━━━━━━━━━━━━━━━━━━━━━━━━━━━━━━━━\u001b[0m \u001b[32m633.1/633.1 kB\u001b[0m \u001b[31m42.6 MB/s\u001b[0m eta \u001b[36m0:00:00\u001b[0m\n",
      "\u001b[?25hDownloading stringzilla-3.12.3-cp312-cp312-manylinux_2_5_x86_64.manylinux1_x86_64.manylinux_2_28_x86_64.whl (308 kB)\n",
      "Installing collected packages: stringzilla, simsimd, opencv-python-headless, albucore, albumentations\n",
      "Successfully installed albucore-0.0.23 albumentations-2.0.5 opencv-python-headless-4.11.0.86 simsimd-6.2.1 stringzilla-3.12.3\n",
      "\n",
      "\u001b[1m[\u001b[0m\u001b[34;49mnotice\u001b[0m\u001b[1;39;49m]\u001b[0m\u001b[39;49m A new release of pip is available: \u001b[0m\u001b[31;49m25.0\u001b[0m\u001b[39;49m -> \u001b[0m\u001b[32;49m25.0.1\u001b[0m\n",
      "\u001b[1m[\u001b[0m\u001b[34;49mnotice\u001b[0m\u001b[1;39;49m]\u001b[0m\u001b[39;49m To update, run: \u001b[0m\u001b[32;49mpip install --upgrade pip\u001b[0m\n"
     ]
    }
   ],
   "source": [
    "!pip install albumentations"
   ]
  },
  {
   "cell_type": "code",
   "execution_count": 10,
   "id": "cc716922-2bf7-4f97-8d5b-991755391864",
   "metadata": {
    "scrolled": true
   },
   "outputs": [
    {
     "name": "stdout",
     "output_type": "stream",
     "text": [
      "Rare classes to augment: ['brown_bear', 'hare', 'musk_deer', 'otter', 'raccoon', 'red_fox', 'red_squirrel', 'sable', 'ussuri_bear', 'wild_cat', 'wolf', 'wolverine', 'yellow_marten']\n",
      "\n",
      "Augmenting brown_bear (current: 3 samples)\n"
     ]
    },
    {
     "name": "stderr",
     "output_type": "stream",
     "text": [
      "Processing brown_bear: 100%|██████████| 1890/1890 [00:01<00:00, 1527.39it/s]\n"
     ]
    },
    {
     "name": "stdout",
     "output_type": "stream",
     "text": [
      "Created 3 new samples for brown_bear\n",
      "\n",
      "Augmenting hare (current: 8 samples)\n"
     ]
    },
    {
     "name": "stderr",
     "output_type": "stream",
     "text": [
      "Processing hare: 100%|██████████| 1893/1893 [00:02<00:00, 870.38it/s] \n"
     ]
    },
    {
     "name": "stdout",
     "output_type": "stream",
     "text": [
      "Created 6 new samples for hare\n",
      "\n",
      "Augmenting musk_deer (current: 2 samples)\n"
     ]
    },
    {
     "name": "stderr",
     "output_type": "stream",
     "text": [
      "Processing musk_deer: 100%|██████████| 1899/1899 [00:00<00:00, 1986.46it/s]\n"
     ]
    },
    {
     "name": "stdout",
     "output_type": "stream",
     "text": [
      "Created 2 new samples for musk_deer\n",
      "\n",
      "Augmenting otter (current: 2 samples)\n"
     ]
    },
    {
     "name": "stderr",
     "output_type": "stream",
     "text": [
      "Processing otter: 100%|██████████| 1901/1901 [00:01<00:00, 1751.77it/s]\n"
     ]
    },
    {
     "name": "stdout",
     "output_type": "stream",
     "text": [
      "Created 2 new samples for otter\n",
      "\n",
      "Augmenting raccoon (current: 35 samples)\n"
     ]
    },
    {
     "name": "stderr",
     "output_type": "stream",
     "text": [
      "Processing raccoon:  57%|█████▋    | 1077/1903 [00:04<00:03, 228.90it/s]\n"
     ]
    },
    {
     "name": "stdout",
     "output_type": "stream",
     "text": [
      "Created 15 new samples for raccoon\n",
      "\n",
      "Augmenting red_fox (current: 36 samples)\n"
     ]
    },
    {
     "name": "stderr",
     "output_type": "stream",
     "text": [
      "Processing red_fox:  32%|███▏      | 609/1918 [00:04<00:09, 140.93it/s]\n"
     ]
    },
    {
     "name": "stdout",
     "output_type": "stream",
     "text": [
      "Created 14 new samples for red_fox\n",
      "\n",
      "Augmenting red_squirrel (current: 0 samples)\n"
     ]
    },
    {
     "name": "stderr",
     "output_type": "stream",
     "text": [
      "Processing red_squirrel: 100%|██████████| 1932/1932 [00:00<00:00, 5333.03it/s]\n"
     ]
    },
    {
     "name": "stdout",
     "output_type": "stream",
     "text": [
      "Created 0 new samples for red_squirrel\n",
      "\n",
      "Augmenting sable (current: 35 samples)\n"
     ]
    },
    {
     "name": "stderr",
     "output_type": "stream",
     "text": [
      "Processing sable:  82%|████████▏ | 1580/1932 [00:04<00:00, 352.69it/s]\n"
     ]
    },
    {
     "name": "stdout",
     "output_type": "stream",
     "text": [
      "Created 15 new samples for sable\n",
      "\n",
      "Augmenting ussuri_bear (current: 4 samples)\n"
     ]
    },
    {
     "name": "stderr",
     "output_type": "stream",
     "text": [
      "Processing ussuri_bear: 100%|██████████| 1947/1947 [00:01<00:00, 1177.92it/s]\n"
     ]
    },
    {
     "name": "stdout",
     "output_type": "stream",
     "text": [
      "Created 4 new samples for ussuri_bear\n",
      "\n",
      "Augmenting wild_cat (current: 15 samples)\n"
     ]
    },
    {
     "name": "stderr",
     "output_type": "stream",
     "text": [
      "Processing wild_cat: 100%|██████████| 1951/1951 [00:04<00:00, 487.56it/s]\n"
     ]
    },
    {
     "name": "stdout",
     "output_type": "stream",
     "text": [
      "Created 12 new samples for wild_cat\n",
      "\n",
      "Augmenting wolf (current: 0 samples)\n"
     ]
    },
    {
     "name": "stderr",
     "output_type": "stream",
     "text": [
      "Processing wolf: 100%|██████████| 1963/1963 [00:00<00:00, 5208.56it/s]\n"
     ]
    },
    {
     "name": "stdout",
     "output_type": "stream",
     "text": [
      "Created 0 new samples for wolf\n",
      "\n",
      "Augmenting wolverine (current: 0 samples)\n"
     ]
    },
    {
     "name": "stderr",
     "output_type": "stream",
     "text": [
      "Processing wolverine: 100%|██████████| 1963/1963 [00:00<00:00, 5139.54it/s]\n"
     ]
    },
    {
     "name": "stdout",
     "output_type": "stream",
     "text": [
      "Created 0 new samples for wolverine\n",
      "\n",
      "Augmenting yellow_marten (current: 12 samples)\n"
     ]
    },
    {
     "name": "stderr",
     "output_type": "stream",
     "text": [
      "Processing yellow_marten: 100%|██████████| 1963/1963 [00:03<00:00, 615.73it/s]"
     ]
    },
    {
     "name": "stdout",
     "output_type": "stream",
     "text": [
      "Created 9 new samples for yellow_marten\n",
      "\n",
      "Updated class counts:\n",
      "red_squirrel: 0\n",
      "wolf: 0\n",
      "wolverine: 0\n",
      "musk_deer: 4\n",
      "otter: 4\n",
      "brown_bear: 6\n",
      "ussuri_bear: 8\n",
      "hare: 14\n",
      "yellow_marten: 21\n",
      "wild_cat: 27\n",
      "raccoon: 50\n",
      "red_fox: 50\n",
      "sable: 50\n",
      "roe_deer_male: 80\n",
      "lynx: 93\n",
      "boar: 172\n",
      "badger: 173\n",
      "sika_deer_male: 214\n",
      "roe_deer_female: 314\n",
      "tiger: 499\n",
      "sika_deer_female: 1002\n"
     ]
    },
    {
     "name": "stderr",
     "output_type": "stream",
     "text": [
      "\n"
     ]
    }
   ],
   "source": [
    "import albumentations as A\n",
    "import numpy as np\n",
    "import cv2\n",
    "\n",
    "def augment_rare_classes(output_dir, class_counts, min_samples=50):\n",
    "    \"\"\"Augment rare classes until they reach minimum samples\"\"\"\n",
    "    # 1. Identify rare classes\n",
    "    rare_classes = [cat_id for cat_id, count in class_counts.items() if count < min_samples]\n",
    "    print(f\"Rare classes to augment: {[coco_data['categories'][cat_id]['name'] for cat_id in rare_classes]}\")\n",
    "    \n",
    "    # Define augmentations\n",
    "    transform = A.Compose([\n",
    "        A.HorizontalFlip(p=0.5),\n",
    "        A.RandomBrightnessContrast(p=0.5),\n",
    "        A.Rotate(limit=15, p=0.5),\n",
    "        A.HueSaturationValue(p=0.5),\n",
    "    ], bbox_params=A.BboxParams(format='yolo'))\n",
    "    \n",
    "    # Process each rare class\n",
    "    for cat_id in rare_classes:\n",
    "        class_name = coco_data['categories'][cat_id]['name']\n",
    "        print(f\"\\nAugmenting {class_name} (current: {class_counts[cat_id]} samples)\")\n",
    "        \n",
    "        # Find all images containing this class\n",
    "        train_label_dir = os.path.join(output_dir, \"train\", \"labels\")\n",
    "        image_files = [f for f in os.listdir(train_label_dir) if f.endswith('.txt')]\n",
    "        \n",
    "        samples_created = 0\n",
    "        for label_file in tqdm(image_files, desc=f\"Processing {class_name}\"):\n",
    "            with open(os.path.join(train_label_dir, label_file)) as f:\n",
    "                lines = f.readlines()\n",
    "            \n",
    "            # Check if this image contains the rare class\n",
    "            has_rare_class = any(int(line.split()[0]) == cat_id for line in lines)\n",
    "            if not has_rare_class:\n",
    "                continue\n",
    "            \n",
    "            # Load image and annotations\n",
    "            img_path = os.path.join(output_dir, \"train\", \"images\", label_file.replace('.txt', '.JPG'))\n",
    "            image = cv2.imread(img_path)\n",
    "            image = cv2.cvtColor(image, cv2.COLOR_BGR2RGB)\n",
    "            \n",
    "            # Parse bounding boxes\n",
    "            bboxes = []\n",
    "            for line in lines:\n",
    "                class_id, xc, yc, w, h = map(float, line.split())\n",
    "                bboxes.append([xc, yc, w, h, int(class_id)])\n",
    "            \n",
    "            # Apply augmentations\n",
    "            augmented = transform(image=image, bboxes=bboxes)\n",
    "            \n",
    "            # Save new sample\n",
    "            new_img_path = os.path.join(output_dir, \"train\", \"images\", f\"aug_{class_name}_{samples_created}.JPG\")\n",
    "            cv2.imwrite(new_img_path, cv2.cvtColor(augmented['image'], cv2.COLOR_RGB2BGR))\n",
    "            \n",
    "            # Save new labels\n",
    "            with open(os.path.join(train_label_dir, f\"aug_{class_name}_{samples_created}.txt\"), 'w') as f:\n",
    "                for bbox in augmented['bboxes']:\n",
    "                    f.write(f\"{int(bbox[4])} {bbox[0]:.6f} {bbox[1]:.6f} {bbox[2]:.6f} {bbox[3]:.6f}\\n\")\n",
    "            \n",
    "            samples_created += 1\n",
    "            if class_counts[cat_id] + samples_created >= min_samples:\n",
    "                break\n",
    "        \n",
    "        print(f\"Created {samples_created} new samples for {class_name}\")\n",
    "        class_counts[cat_id] += samples_created\n",
    "\n",
    "# Get current class counts (from previous step)\n",
    "class_counts = {cat['id']: 0 for cat in coco_data['categories']}\n",
    "for ann in valid_annotations:\n",
    "    class_counts[ann['category_id']] += 1\n",
    "\n",
    "# Run augmentation (target minimum 50 samples per class)\n",
    "augment_rare_classes(output_dir, class_counts, min_samples=50)\n",
    "\n",
    "# Verify new counts\n",
    "print(\"\\nUpdated class counts:\")\n",
    "for cat_id, count in sorted(class_counts.items(), key=lambda x: x[1]):\n",
    "    print(f\"{coco_data['categories'][cat_id]['name']}: {count}\")"
   ]
  },
  {
   "cell_type": "markdown",
   "id": "2f0e3b2d-23ef-4202-8a8b-2f3f38657656",
   "metadata": {},
   "source": [
    "### Optimized Training Configuration with Class Weighting"
   ]
  },
  {
   "cell_type": "code",
   "execution_count": 11,
   "id": "58e45038-ab02-4a09-9417-cef3e97ed462",
   "metadata": {},
   "outputs": [
    {
     "name": "stdout",
     "output_type": "stream",
     "text": [
      "Requirement already satisfied: ultralytics in /opt/conda/lib/python3.12/site-packages (8.3.99)\n",
      "Requirement already satisfied: numpy<=2.1.1,>=1.23.0 in /opt/conda/lib/python3.12/site-packages (from ultralytics) (1.26.4)\n",
      "Requirement already satisfied: matplotlib>=3.3.0 in /opt/conda/lib/python3.12/site-packages (from ultralytics) (3.9.3)\n",
      "Requirement already satisfied: opencv-python>=4.6.0 in /opt/conda/lib/python3.12/site-packages (from ultralytics) (4.11.0.86)\n",
      "Requirement already satisfied: pillow>=7.1.2 in /opt/conda/lib/python3.12/site-packages (from ultralytics) (11.0.0)\n",
      "Requirement already satisfied: pyyaml>=5.3.1 in /opt/conda/lib/python3.12/site-packages (from ultralytics) (6.0.2)\n",
      "Requirement already satisfied: requests>=2.23.0 in /opt/conda/lib/python3.12/site-packages (from ultralytics) (2.32.3)\n",
      "Requirement already satisfied: scipy>=1.4.1 in /opt/conda/lib/python3.12/site-packages (from ultralytics) (1.13.1)\n",
      "Requirement already satisfied: torch>=1.8.0 in /opt/conda/lib/python3.12/site-packages (from ultralytics) (2.6.0)\n",
      "Requirement already satisfied: torchvision>=0.9.0 in /opt/conda/lib/python3.12/site-packages (from ultralytics) (0.21.0)\n",
      "Requirement already satisfied: tqdm>=4.64.0 in /opt/conda/lib/python3.12/site-packages (from ultralytics) (4.67.1)\n",
      "Requirement already satisfied: psutil in /opt/conda/lib/python3.12/site-packages (from ultralytics) (6.1.0)\n",
      "Requirement already satisfied: py-cpuinfo in /opt/conda/lib/python3.12/site-packages (from ultralytics) (9.0.0)\n",
      "Requirement already satisfied: pandas>=1.1.4 in /opt/conda/lib/python3.12/site-packages (from ultralytics) (2.2.3)\n",
      "Requirement already satisfied: seaborn>=0.11.0 in /opt/conda/lib/python3.12/site-packages (from ultralytics) (0.13.2)\n",
      "Requirement already satisfied: ultralytics-thop>=2.0.0 in /opt/conda/lib/python3.12/site-packages (from ultralytics) (2.0.14)\n",
      "Requirement already satisfied: contourpy>=1.0.1 in /opt/conda/lib/python3.12/site-packages (from matplotlib>=3.3.0->ultralytics) (1.3.1)\n",
      "Requirement already satisfied: cycler>=0.10 in /opt/conda/lib/python3.12/site-packages (from matplotlib>=3.3.0->ultralytics) (0.12.1)\n",
      "Requirement already satisfied: fonttools>=4.22.0 in /opt/conda/lib/python3.12/site-packages (from matplotlib>=3.3.0->ultralytics) (4.55.1)\n",
      "Requirement already satisfied: kiwisolver>=1.3.1 in /opt/conda/lib/python3.12/site-packages (from matplotlib>=3.3.0->ultralytics) (1.4.7)\n",
      "Requirement already satisfied: packaging>=20.0 in /opt/conda/lib/python3.12/site-packages (from matplotlib>=3.3.0->ultralytics) (24.2)\n",
      "Requirement already satisfied: pyparsing>=2.3.1 in /opt/conda/lib/python3.12/site-packages (from matplotlib>=3.3.0->ultralytics) (3.2.0)\n",
      "Requirement already satisfied: python-dateutil>=2.7 in /opt/conda/lib/python3.12/site-packages (from matplotlib>=3.3.0->ultralytics) (2.9.0.post0)\n",
      "Requirement already satisfied: pytz>=2020.1 in /opt/conda/lib/python3.12/site-packages (from pandas>=1.1.4->ultralytics) (2024.1)\n",
      "Requirement already satisfied: tzdata>=2022.7 in /opt/conda/lib/python3.12/site-packages (from pandas>=1.1.4->ultralytics) (2024.2)\n",
      "Requirement already satisfied: charset_normalizer<4,>=2 in /opt/conda/lib/python3.12/site-packages (from requests>=2.23.0->ultralytics) (3.4.0)\n",
      "Requirement already satisfied: idna<4,>=2.5 in /opt/conda/lib/python3.12/site-packages (from requests>=2.23.0->ultralytics) (3.10)\n",
      "Requirement already satisfied: urllib3<3,>=1.21.1 in /opt/conda/lib/python3.12/site-packages (from requests>=2.23.0->ultralytics) (2.2.3)\n",
      "Requirement already satisfied: certifi>=2017.4.17 in /opt/conda/lib/python3.12/site-packages (from requests>=2.23.0->ultralytics) (2024.8.30)\n",
      "Requirement already satisfied: filelock in /opt/conda/lib/python3.12/site-packages (from torch>=1.8.0->ultralytics) (3.17.0)\n",
      "Requirement already satisfied: typing-extensions>=4.10.0 in /opt/conda/lib/python3.12/site-packages (from torch>=1.8.0->ultralytics) (4.12.2)\n",
      "Requirement already satisfied: networkx in /opt/conda/lib/python3.12/site-packages (from torch>=1.8.0->ultralytics) (3.4.2)\n",
      "Requirement already satisfied: jinja2 in /opt/conda/lib/python3.12/site-packages (from torch>=1.8.0->ultralytics) (3.1.4)\n",
      "Requirement already satisfied: fsspec in /opt/conda/lib/python3.12/site-packages (from torch>=1.8.0->ultralytics) (2024.10.0)\n",
      "Requirement already satisfied: nvidia-cuda-nvrtc-cu12==12.4.127 in /opt/conda/lib/python3.12/site-packages (from torch>=1.8.0->ultralytics) (12.4.127)\n",
      "Requirement already satisfied: nvidia-cuda-runtime-cu12==12.4.127 in /opt/conda/lib/python3.12/site-packages (from torch>=1.8.0->ultralytics) (12.4.127)\n",
      "Requirement already satisfied: nvidia-cuda-cupti-cu12==12.4.127 in /opt/conda/lib/python3.12/site-packages (from torch>=1.8.0->ultralytics) (12.4.127)\n",
      "Requirement already satisfied: nvidia-cudnn-cu12==9.1.0.70 in /opt/conda/lib/python3.12/site-packages (from torch>=1.8.0->ultralytics) (9.1.0.70)\n",
      "Requirement already satisfied: nvidia-cublas-cu12==12.4.5.8 in /opt/conda/lib/python3.12/site-packages (from torch>=1.8.0->ultralytics) (12.4.5.8)\n",
      "Requirement already satisfied: nvidia-cufft-cu12==11.2.1.3 in /opt/conda/lib/python3.12/site-packages (from torch>=1.8.0->ultralytics) (11.2.1.3)\n",
      "Requirement already satisfied: nvidia-curand-cu12==10.3.5.147 in /opt/conda/lib/python3.12/site-packages (from torch>=1.8.0->ultralytics) (10.3.5.147)\n",
      "Requirement already satisfied: nvidia-cusolver-cu12==11.6.1.9 in /opt/conda/lib/python3.12/site-packages (from torch>=1.8.0->ultralytics) (11.6.1.9)\n",
      "Requirement already satisfied: nvidia-cusparse-cu12==12.3.1.170 in /opt/conda/lib/python3.12/site-packages (from torch>=1.8.0->ultralytics) (12.3.1.170)\n",
      "Requirement already satisfied: nvidia-cusparselt-cu12==0.6.2 in /opt/conda/lib/python3.12/site-packages (from torch>=1.8.0->ultralytics) (0.6.2)\n",
      "Requirement already satisfied: nvidia-nccl-cu12==2.21.5 in /opt/conda/lib/python3.12/site-packages (from torch>=1.8.0->ultralytics) (2.21.5)\n",
      "Requirement already satisfied: nvidia-nvtx-cu12==12.4.127 in /opt/conda/lib/python3.12/site-packages (from torch>=1.8.0->ultralytics) (12.4.127)\n",
      "Requirement already satisfied: nvidia-nvjitlink-cu12==12.4.127 in /opt/conda/lib/python3.12/site-packages (from torch>=1.8.0->ultralytics) (12.4.127)\n",
      "Requirement already satisfied: triton==3.2.0 in /opt/conda/lib/python3.12/site-packages (from torch>=1.8.0->ultralytics) (3.2.0)\n",
      "Requirement already satisfied: setuptools in /opt/conda/lib/python3.12/site-packages (from torch>=1.8.0->ultralytics) (75.6.0)\n",
      "Requirement already satisfied: sympy==1.13.1 in /opt/conda/lib/python3.12/site-packages (from torch>=1.8.0->ultralytics) (1.13.1)\n",
      "Requirement already satisfied: mpmath<1.4,>=1.1.0 in /opt/conda/lib/python3.12/site-packages (from sympy==1.13.1->torch>=1.8.0->ultralytics) (1.3.0)\n",
      "Requirement already satisfied: six>=1.5 in /opt/conda/lib/python3.12/site-packages (from python-dateutil>=2.7->matplotlib>=3.3.0->ultralytics) (1.16.0)\n",
      "Requirement already satisfied: MarkupSafe>=2.0 in /opt/conda/lib/python3.12/site-packages (from jinja2->torch>=1.8.0->ultralytics) (3.0.2)\n",
      "\n",
      "\u001b[1m[\u001b[0m\u001b[34;49mnotice\u001b[0m\u001b[1;39;49m]\u001b[0m\u001b[39;49m A new release of pip is available: \u001b[0m\u001b[31;49m25.0\u001b[0m\u001b[39;49m -> \u001b[0m\u001b[32;49m25.0.1\u001b[0m\n",
      "\u001b[1m[\u001b[0m\u001b[34;49mnotice\u001b[0m\u001b[1;39;49m]\u001b[0m\u001b[39;49m To update, run: \u001b[0m\u001b[32;49mpip install --upgrade pip\u001b[0m\n"
     ]
    }
   ],
   "source": [
    "!pip install ultralytics"
   ]
  },
  {
   "cell_type": "code",
   "execution_count": 13,
   "id": "ed228a56-b037-43bb-96fd-b7e34cb95421",
   "metadata": {},
   "outputs": [
    {
     "name": "stdout",
     "output_type": "stream",
     "text": [
      "Requirement already satisfied: torch in /opt/conda/lib/python3.12/site-packages (2.6.0)\n",
      "Requirement already satisfied: torchvision in /opt/conda/lib/python3.12/site-packages (0.21.0)\n",
      "Collecting torchaudio\n",
      "  Downloading torchaudio-2.6.0-cp312-cp312-manylinux1_x86_64.whl.metadata (6.6 kB)\n",
      "Requirement already satisfied: filelock in /opt/conda/lib/python3.12/site-packages (from torch) (3.17.0)\n",
      "Requirement already satisfied: typing-extensions>=4.10.0 in /opt/conda/lib/python3.12/site-packages (from torch) (4.12.2)\n",
      "Requirement already satisfied: networkx in /opt/conda/lib/python3.12/site-packages (from torch) (3.4.2)\n",
      "Requirement already satisfied: jinja2 in /opt/conda/lib/python3.12/site-packages (from torch) (3.1.4)\n",
      "Requirement already satisfied: fsspec in /opt/conda/lib/python3.12/site-packages (from torch) (2024.10.0)\n",
      "Requirement already satisfied: nvidia-cuda-nvrtc-cu12==12.4.127 in /opt/conda/lib/python3.12/site-packages (from torch) (12.4.127)\n",
      "Requirement already satisfied: nvidia-cuda-runtime-cu12==12.4.127 in /opt/conda/lib/python3.12/site-packages (from torch) (12.4.127)\n",
      "Requirement already satisfied: nvidia-cuda-cupti-cu12==12.4.127 in /opt/conda/lib/python3.12/site-packages (from torch) (12.4.127)\n",
      "Requirement already satisfied: nvidia-cudnn-cu12==9.1.0.70 in /opt/conda/lib/python3.12/site-packages (from torch) (9.1.0.70)\n",
      "Requirement already satisfied: nvidia-cublas-cu12==12.4.5.8 in /opt/conda/lib/python3.12/site-packages (from torch) (12.4.5.8)\n",
      "Requirement already satisfied: nvidia-cufft-cu12==11.2.1.3 in /opt/conda/lib/python3.12/site-packages (from torch) (11.2.1.3)\n",
      "Requirement already satisfied: nvidia-curand-cu12==10.3.5.147 in /opt/conda/lib/python3.12/site-packages (from torch) (10.3.5.147)\n",
      "Requirement already satisfied: nvidia-cusolver-cu12==11.6.1.9 in /opt/conda/lib/python3.12/site-packages (from torch) (11.6.1.9)\n",
      "Requirement already satisfied: nvidia-cusparse-cu12==12.3.1.170 in /opt/conda/lib/python3.12/site-packages (from torch) (12.3.1.170)\n",
      "Requirement already satisfied: nvidia-cusparselt-cu12==0.6.2 in /opt/conda/lib/python3.12/site-packages (from torch) (0.6.2)\n",
      "Requirement already satisfied: nvidia-nccl-cu12==2.21.5 in /opt/conda/lib/python3.12/site-packages (from torch) (2.21.5)\n",
      "Requirement already satisfied: nvidia-nvtx-cu12==12.4.127 in /opt/conda/lib/python3.12/site-packages (from torch) (12.4.127)\n",
      "Requirement already satisfied: nvidia-nvjitlink-cu12==12.4.127 in /opt/conda/lib/python3.12/site-packages (from torch) (12.4.127)\n",
      "Requirement already satisfied: triton==3.2.0 in /opt/conda/lib/python3.12/site-packages (from torch) (3.2.0)\n",
      "Requirement already satisfied: setuptools in /opt/conda/lib/python3.12/site-packages (from torch) (75.6.0)\n",
      "Requirement already satisfied: sympy==1.13.1 in /opt/conda/lib/python3.12/site-packages (from torch) (1.13.1)\n",
      "Requirement already satisfied: mpmath<1.4,>=1.1.0 in /opt/conda/lib/python3.12/site-packages (from sympy==1.13.1->torch) (1.3.0)\n",
      "Requirement already satisfied: numpy in /opt/conda/lib/python3.12/site-packages (from torchvision) (1.26.4)\n",
      "Requirement already satisfied: pillow!=8.3.*,>=5.3.0 in /opt/conda/lib/python3.12/site-packages (from torchvision) (11.0.0)\n",
      "Requirement already satisfied: MarkupSafe>=2.0 in /opt/conda/lib/python3.12/site-packages (from jinja2->torch) (3.0.2)\n",
      "Downloading torchaudio-2.6.0-cp312-cp312-manylinux1_x86_64.whl (3.4 MB)\n",
      "\u001b[2K   \u001b[90m━━━━━━━━━━━━━━━━━━━━━━━━━━━━━━━━━━━━━━━━\u001b[0m \u001b[32m3.4/3.4 MB\u001b[0m \u001b[31m13.5 MB/s\u001b[0m eta \u001b[36m0:00:00\u001b[0ma \u001b[36m0:00:01\u001b[0m\n",
      "\u001b[?25hInstalling collected packages: torchaudio\n",
      "Successfully installed torchaudio-2.6.0\n",
      "\n",
      "\u001b[1m[\u001b[0m\u001b[34;49mnotice\u001b[0m\u001b[1;39;49m]\u001b[0m\u001b[39;49m A new release of pip is available: \u001b[0m\u001b[31;49m25.0\u001b[0m\u001b[39;49m -> \u001b[0m\u001b[32;49m25.0.1\u001b[0m\n",
      "\u001b[1m[\u001b[0m\u001b[34;49mnotice\u001b[0m\u001b[1;39;49m]\u001b[0m\u001b[39;49m To update, run: \u001b[0m\u001b[32;49mpip install --upgrade pip\u001b[0m\n"
     ]
    }
   ],
   "source": [
    "!pip install torch torchvision torchaudio"
   ]
  },
  {
   "cell_type": "code",
   "execution_count": 1,
   "id": "ddbacecf-871f-4eac-8ea6-4f190baeb259",
   "metadata": {},
   "outputs": [],
   "source": [
    "import os\n",
    "import torch\n",
    "import numpy as np\n",
    "from ultralytics import YOLO\n",
    "from datetime import datetime\n",
    "from collections import defaultdict"
   ]
  },
  {
   "cell_type": "code",
   "execution_count": 2,
   "id": "35f4af32-89ce-43f1-9a4e-00c81ba06522",
   "metadata": {},
   "outputs": [],
   "source": [
    "# ======================\n",
    "# 1. CPU Configuration\n",
    "# ======================\n",
    "os.environ[\"OMP_NUM_THREADS\"] = \"6\"  # Use 6 cores\n",
    "os.environ[\"KMP_AFFINITY\"] = \"granularity=fine,compact,1,0\"\n",
    "torch.set_num_threads(6)  # Prevent overallocation"
   ]
  },
  {
   "cell_type": "code",
   "execution_count": 3,
   "id": "6a2cc601-e68b-4dbc-b7ef-25ea7d6cb881",
   "metadata": {},
   "outputs": [
    {
     "name": "stdout",
     "output_type": "stream",
     "text": [
      "CPU-Optimized Class Weights:\n",
      "musk_deer: 1.00\n",
      "otter: 1.00\n",
      "brown_bear: 0.87\n",
      "ussuri_bear: 0.72\n",
      "hare: 0.49\n",
      "yellow_marten: 0.37\n",
      "wild_cat: 0.31\n",
      "raccoon: 0.20\n",
      "red_fox: 0.20\n",
      "sable: 0.20\n",
      "roe_deer_male: 0.14\n",
      "lynx: 0.12\n",
      "boar: 0.08\n",
      "badger: 0.08\n",
      "sika_deer_male: 0.07\n",
      "roe_deer_female: 0.05\n",
      "tiger: 0.04\n",
      "sika_deer_female: 0.02\n"
     ]
    }
   ],
   "source": [
    "# ======================\n",
    "# 2. Class Weight Calculation\n",
    "# ======================\n",
    "class_counts = {\n",
    "    'badger': 173, 'boar': 172, 'brown_bear': 6, 'hare': 14, \n",
    "    'lynx': 93, 'musk_deer': 4, 'otter': 4, 'raccoon': 50,\n",
    "    'red_fox': 50, 'roe_deer_female': 314, 'roe_deer_male': 80,\n",
    "    'sable': 50, 'sika_deer_female': 1002, 'sika_deer_male': 214,\n",
    "    'tiger': 499, 'ussuri_bear': 8, 'wild_cat': 27, \n",
    "    'yellow_marten': 21\n",
    "}\n",
    "\n",
    "def calculate_cpu_weights(counts, power=0.75, max_weight=5.0):\n",
    "    median = np.median(list(counts.values()))\n",
    "    weights = {}\n",
    "    for cls, count in counts.items():\n",
    "        if count == 0:\n",
    "            weights[cls] = max_weight\n",
    "        else:\n",
    "            weight = (median / (count + 1)) ** power\n",
    "            weights[cls] = min(weight, max_weight)\n",
    "    \n",
    "    # Normalize weights\n",
    "    max_w = max(weights.values())\n",
    "    return {cls: w/max_w for cls, w in weights.items()}\n",
    "\n",
    "class_weights = calculate_cpu_weights(class_counts)\n",
    "print(\"CPU-Optimized Class Weights:\")\n",
    "for cls, weight in sorted(class_weights.items(), key=lambda x: x[1], reverse=True):\n",
    "    print(f\"{cls}: {weight:.2f}\")"
   ]
  },
  {
   "cell_type": "code",
   "execution_count": 9,
   "id": "b20fdeb9-8a2a-497d-9448-2a0a4b690005",
   "metadata": {},
   "outputs": [],
   "source": [
    "\n",
    "\n",
    "# ======================\n",
    "# 2. Training Configuration (VALID PARAMS ONLY)\n",
    "# ======================\n",
    "output_dir = \"/home/jovyan/__ANIMALS/datasets/ds8_auto_label_yolo_architectures/\"\n",
    "\n",
    "training_config = {\n",
    "    \"data\": os.path.join(output_dir, \"dataset.yaml\"),\n",
    "    \"epochs\": 250,\n",
    "    \"batch\": 4,          # Optimized for CPU memory\n",
    "    \"imgsz\": 512,        # Reduced from 640\n",
    "    \"device\": \"cpu\",\n",
    "    \"workers\": 6,        # 6 cores dedicated\n",
    "    \"optimizer\": \"Adam\", # Better for CPU than AdamW\n",
    "    \"lr0\": 0.001,\n",
    "    \"lrf\": 0.01,\n",
    "    \"cls\": 3.0,          # Class loss weight\n",
    "    \"box\": 7.5,          # Box loss weight\n",
    "    \"augment\": True,     # Basic augmentations\n",
    "    \"fliplr\": 0.5,       # Horizontal flip\n",
    "    \"mosaic\": 0.3,       # Reduced for CPU\n",
    "    \"mixup\": 0.1,        # Reduced for CPU\n",
    "    \"close_mosaic\": 10,\n",
    "    \"resume\": True,\n",
    "    \"save_period\": 10,   # Save every 10 epochs\n",
    "    \"patience\": 75,      # Longer patience for CPU\n",
    "    \"name\": \"wildlife_cpu\",\n",
    "    \"overlap_mask\": True,\n",
    "    \"iou\": 0.6           # Slightly lower threshold\n",
    "}\n",
    "\n",
    "# Remove unsupported parameters\n",
    "training_config.pop('fl_gamma', None)\n",
    "training_config.pop('copy_paste', None)\n"
   ]
  },
  {
   "cell_type": "code",
   "execution_count": 10,
   "id": "202b278b-a984-4d3b-8bdd-1ce6c5c3647b",
   "metadata": {},
   "outputs": [],
   "source": [
    "# ======================\n",
    "# 4. Training Phases Manager\n",
    "# ======================\n",
    "class PhaseManager:\n",
    "    def __init__(self):\n",
    "        self.phases = {\n",
    "            0: {\"mosaic\": 0.0, \"mixup\": 0.0, \"lr\": 0.001},    # Epochs 1-75\n",
    "            75: {\"mosaic\": 0.3, \"mixup\": 0.1, \"lr\": 0.0002},   # Epochs 76-150\n",
    "            150: {\"mosaic\": 0.1, \"mixup\": 0.05, \"lr\": 0.00005} # Epochs 151-250\n",
    "        }\n",
    "    \n",
    "    def on_train_epoch_start(self, trainer):\n",
    "        current_epoch = trainer.epoch\n",
    "        for start_epoch, config in sorted(self.phases.items(), reverse=True):\n",
    "            if current_epoch >= start_epoch:\n",
    "                trainer.args.mosaic = config[\"mosaic\"]\n",
    "                trainer.args.mixup = config[\"mixup\"]\n",
    "                trainer.lr = config[\"lr\"]\n",
    "                break\n"
   ]
  },
  {
   "cell_type": "code",
   "execution_count": 7,
   "id": "7353d578-8d81-42de-a426-2eaacd323ad9",
   "metadata": {},
   "outputs": [],
   "source": [
    "# ======================\n",
    "# 5. CPU Monitoring\n",
    "# ======================\n",
    "class CPUMonitor:\n",
    "    def __init__(self):\n",
    "        self.best_ap = 0\n",
    "        self.class_history = defaultdict(list)\n",
    "    \n",
    "    def on_val_end(self, trainer):\n",
    "        # Track best AP\n",
    "        current_ap = trainer.metrics.ap50\n",
    "        if current_ap > self.best_ap:\n",
    "            self.best_ap = current_ap\n",
    "        \n",
    "        # Track class-wise performance\n",
    "        for i, ap in enumerate(trainer.metrics.ap_class):\n",
    "            cls_name = trainer.data['names'][i]\n",
    "            self.class_history[cls_name].append(ap)\n",
    "        \n",
    "        # Print diagnostics\n",
    "        print(f\"\\n[Epoch {trainer.epoch}] Best mAP50: {self.best_ap:.3f}\")\n",
    "        print(\"Top 5 improving classes:\")\n",
    "        improving = sorted([(k, v[-1]-v[-2]) for k,v in self.class_history.items() \n",
    "                          if len(v) > 1], key=lambda x: x[1], reverse=True)[:5]\n",
    "        for cls, gain in improving:\n",
    "            print(f\"{cls}: +{gain:.3f}\")"
   ]
  },
  {
   "cell_type": "code",
   "execution_count": null,
   "id": "3107fb34-60f9-47c0-9318-130b8e5e44fa",
   "metadata": {},
   "outputs": [
    {
     "name": "stdout",
     "output_type": "stream",
     "text": [
      "Ultralytics 8.3.99 🚀 Python-3.12.7 torch-2.6.0+cu124 CPU (Intel Xeon Processor (Icelake))\n",
      "\u001b[34m\u001b[1mengine/trainer: \u001b[0mtask=detect, mode=train, model=yolov8s.pt, data=/home/jovyan/__ANIMALS/datasets/ds8_auto_label_yolo_architectures/dataset.yaml, epochs=500, time=None, patience=50, batch=4, imgsz=512, save=True, save_period=-1, cache=disk, device=cpu, workers=8, project=YOLOv8, name=yolov8s, exist_ok=False, pretrained=False, optimizer=SGD, verbose=False, seed=0, deterministic=True, single_cls=False, rect=False, cos_lr=False, close_mosaic=10, resume=yolov8s.pt, amp=True, fraction=1.0, profile=False, freeze=None, multi_scale=False, overlap_mask=True, mask_ratio=4, dropout=False, val=True, split=val, save_json=False, save_hybrid=False, conf=0.001, iou=0.7, max_det=300, half=True, dnn=False, plots=False, source=ultralytics/assets/, vid_stride=1, stream_buffer=False, visualize=False, augment=False, agnostic_nms=False, classes=None, retina_masks=False, embed=None, show=False, save_frames=False, save_txt=False, save_conf=False, save_crop=False, show_labels=True, show_conf=True, show_boxes=True, line_width=None, format=torchscript, keras=False, optimize=False, int8=False, dynamic=False, simplify=False, opset=17, workspace=4, nms=False, lr0=0.01, lrf=0.01, momentum=0.937, weight_decay=0.001, warmup_epochs=3.0, warmup_momentum=0.8, warmup_bias_lr=0.1, box=7.5, cls=0.5, dfl=1.5, pose=12.0, kobj=1.0, nbs=64, hsv_h=0.015, hsv_s=0.7, hsv_v=0.4, degrees=0.0, translate=0.1, scale=0.5, shear=0.0, perspective=0.0, flipud=0.0, fliplr=0.5, bgr=0.0, mosaic=1.0, mixup=0.0, copy_paste=0.0, copy_paste_mode=flip, auto_augment=randaugment, erasing=0.4, crop_fraction=1.0, cfg=None, tracker=botsort.yaml, label_smoothing=0.0, save_dir=YOLOv8/yolov8s\n",
      "\u001b[34m\u001b[1mTensorBoard: \u001b[0mStart with 'tensorboard --logdir YOLOv8/yolov8s', view at http://localhost:6006/\n",
      "Overriding model.yaml nc=80 with nc=18\n",
      "\n",
      "                   from  n    params  module                                       arguments                     \n",
      "  0                  -1  1       928  ultralytics.nn.modules.conv.Conv             [3, 32, 3, 2]                 \n",
      "  1                  -1  1     18560  ultralytics.nn.modules.conv.Conv             [32, 64, 3, 2]                \n",
      "  2                  -1  1     29056  ultralytics.nn.modules.block.C2f             [64, 64, 1, True]             \n",
      "  3                  -1  1     73984  ultralytics.nn.modules.conv.Conv             [64, 128, 3, 2]               \n",
      "  4                  -1  2    197632  ultralytics.nn.modules.block.C2f             [128, 128, 2, True]           \n",
      "  5                  -1  1    295424  ultralytics.nn.modules.conv.Conv             [128, 256, 3, 2]              \n",
      "  6                  -1  2    788480  ultralytics.nn.modules.block.C2f             [256, 256, 2, True]           \n",
      "  7                  -1  1   1180672  ultralytics.nn.modules.conv.Conv             [256, 512, 3, 2]              \n",
      "  8                  -1  1   1838080  ultralytics.nn.modules.block.C2f             [512, 512, 1, True]           \n",
      "  9                  -1  1    656896  ultralytics.nn.modules.block.SPPF            [512, 512, 5]                 \n",
      " 10                  -1  1         0  torch.nn.modules.upsampling.Upsample         [None, 2, 'nearest']          \n",
      " 11             [-1, 6]  1         0  ultralytics.nn.modules.conv.Concat           [1]                           \n",
      " 12                  -1  1    591360  ultralytics.nn.modules.block.C2f             [768, 256, 1]                 \n",
      " 13                  -1  1         0  torch.nn.modules.upsampling.Upsample         [None, 2, 'nearest']          \n",
      " 14             [-1, 4]  1         0  ultralytics.nn.modules.conv.Concat           [1]                           \n",
      " 15                  -1  1    148224  ultralytics.nn.modules.block.C2f             [384, 128, 1]                 \n",
      " 16                  -1  1    147712  ultralytics.nn.modules.conv.Conv             [128, 128, 3, 2]              \n",
      " 17            [-1, 12]  1         0  ultralytics.nn.modules.conv.Concat           [1]                           \n",
      " 18                  -1  1    493056  ultralytics.nn.modules.block.C2f             [384, 256, 1]                 \n",
      " 19                  -1  1    590336  ultralytics.nn.modules.conv.Conv             [256, 256, 3, 2]              \n",
      " 20             [-1, 9]  1         0  ultralytics.nn.modules.conv.Concat           [1]                           \n",
      " 21                  -1  1   1969152  ultralytics.nn.modules.block.C2f             [768, 512, 1]                 \n",
      " 22        [15, 18, 21]  1   2123014  ultralytics.nn.modules.head.Detect           [18, [128, 256, 512]]         \n",
      "Model summary: 129 layers, 11,142,566 parameters, 11,142,550 gradients, 28.7 GFLOPs\n",
      "\n",
      "Transferred 349/355 items from pretrained weights\n",
      "Freezing layer 'model.22.dfl.conv.weight'\n"
     ]
    },
    {
     "name": "stderr",
     "output_type": "stream",
     "text": [
      "\u001b[34m\u001b[1mtrain: \u001b[0mScanning /home/jovyan/__ANIMALS/datasets/ds8_auto_label_yolo_architectures/train/labels.cache... 1972 images, 0 backgrounds, 18 corrupt: 100%|██████████| 1972/1972 [00:00<?, ?it/s]"
     ]
    },
    {
     "name": "stdout",
     "output_type": "stream",
     "text": [
      "\u001b[34m\u001b[1mtrain: \u001b[0mWARNING ⚠️ /home/jovyan/__ANIMALS/datasets/ds8_auto_label_yolo_architectures/train/images/Uss-1.AnikinRidge_006_1-13-2024_13-12.JPG: ignoring corrupt image/label: Label class 20 exceeds dataset class count 18. Possible class labels are 0-17\n",
      "\u001b[34m\u001b[1mtrain: \u001b[0mWARNING ⚠️ /home/jovyan/__ANIMALS/datasets/ds8_auto_label_yolo_architectures/train/images/Uss-1.AnikinRidge_007_1-13-2024_13-12.JPG: ignoring corrupt image/label: Label class 20 exceeds dataset class count 18. Possible class labels are 0-17\n",
      "\u001b[34m\u001b[1mtrain: \u001b[0mWARNING ⚠️ /home/jovyan/__ANIMALS/datasets/ds8_auto_label_yolo_architectures/train/images/Uss-13.1.KomarovskayaPad_025_3-16-2024_08-40.JPG: ignoring corrupt image/label: Label class 20 exceeds dataset class count 18. Possible class labels are 0-17\n",
      "\u001b[34m\u001b[1mtrain: \u001b[0mWARNING ⚠️ /home/jovyan/__ANIMALS/datasets/ds8_auto_label_yolo_architectures/train/images/Uss-13.KomarovskayaPad_041_3-16-2024_08-40.JPG: ignoring corrupt image/label: Label class 20 exceeds dataset class count 18. Possible class labels are 0-17\n",
      "\u001b[34m\u001b[1mtrain: \u001b[0mWARNING ⚠️ /home/jovyan/__ANIMALS/datasets/ds8_auto_label_yolo_architectures/train/images/Uss-14.1.KoryavayaPad_004_12-14-2023_15-10.JPG: ignoring corrupt image/label: Label class 20 exceeds dataset class count 18. Possible class labels are 0-17\n",
      "\u001b[34m\u001b[1mtrain: \u001b[0mWARNING ⚠️ /home/jovyan/__ANIMALS/datasets/ds8_auto_label_yolo_architectures/train/images/Uss-14.1.KoryavayaPad_005_12-14-2023_15-10.JPG: ignoring corrupt image/label: Label class 20 exceeds dataset class count 18. Possible class labels are 0-17\n",
      "\u001b[34m\u001b[1mtrain: \u001b[0mWARNING ⚠️ /home/jovyan/__ANIMALS/datasets/ds8_auto_label_yolo_architectures/train/images/Uss-14.1.KoryavayaPad_009_12-30-2023_18-44.JPG: ignoring corrupt image/label: Label class 20 exceeds dataset class count 18. Possible class labels are 0-17\n",
      "\u001b[34m\u001b[1mtrain: \u001b[0mWARNING ⚠️ /home/jovyan/__ANIMALS/datasets/ds8_auto_label_yolo_architectures/train/images/Uss-16.1.DubovyCreek_005_2-9-2024_23-30.JPG: corrupt JPEG restored and saved\n",
      "\u001b[34m\u001b[1mtrain: \u001b[0mWARNING ⚠️ /home/jovyan/__ANIMALS/datasets/ds8_auto_label_yolo_architectures/train/images/Uss-16.1.DubovyCreek_008_3-15-2024_18-33.JPG: corrupt JPEG restored and saved\n",
      "\u001b[34m\u001b[1mtrain: \u001b[0mWARNING ⚠️ /home/jovyan/__ANIMALS/datasets/ds8_auto_label_yolo_architectures/train/images/Uss-16.1.DubovyCreek_009_3-19-2024_15-26.JPG: corrupt JPEG restored and saved\n",
      "\u001b[34m\u001b[1mtrain: \u001b[0mWARNING ⚠️ /home/jovyan/__ANIMALS/datasets/ds8_auto_label_yolo_architectures/train/images/Uss-16.1.DubovyCreek_011_3-27-2024_21-30.JPG: corrupt JPEG restored and saved\n",
      "\u001b[34m\u001b[1mtrain: \u001b[0mWARNING ⚠️ /home/jovyan/__ANIMALS/datasets/ds8_auto_label_yolo_architectures/train/images/Uss-17.1.Volkha_029_3-24-2024_11-58.JPG: ignoring corrupt image/label: Label class 20 exceeds dataset class count 18. Possible class labels are 0-17\n",
      "\u001b[34m\u001b[1mtrain: \u001b[0mWARNING ⚠️ /home/jovyan/__ANIMALS/datasets/ds8_auto_label_yolo_architectures/train/images/Uss-2.1.PetrovskyPass_085_12-30-2023_17-50.JPG: corrupt JPEG restored and saved\n",
      "\u001b[34m\u001b[1mtrain: \u001b[0mWARNING ⚠️ /home/jovyan/__ANIMALS/datasets/ds8_auto_label_yolo_architectures/train/images/Uss-2.1.PetrovskyPass_127_1-8-2024_09-22.JPG: corrupt JPEG restored and saved\n",
      "\u001b[34m\u001b[1mtrain: \u001b[0mWARNING ⚠️ /home/jovyan/__ANIMALS/datasets/ds8_auto_label_yolo_architectures/train/images/Uss-2.1.PetrovskyPass_130_1-8-2024_15-57.JPG: corrupt JPEG restored and saved\n",
      "\u001b[34m\u001b[1mtrain: \u001b[0mWARNING ⚠️ /home/jovyan/__ANIMALS/datasets/ds8_auto_label_yolo_architectures/train/images/Uss-2.1.PetrovskyPass_143_1-10-2024_10-09.JPG: corrupt JPEG restored and saved\n",
      "\u001b[34m\u001b[1mtrain: \u001b[0mWARNING ⚠️ /home/jovyan/__ANIMALS/datasets/ds8_auto_label_yolo_architectures/train/images/Uss-2.1.PetrovskyPass_150_1-11-2024_01-19.JPG: corrupt JPEG restored and saved\n",
      "\u001b[34m\u001b[1mtrain: \u001b[0mWARNING ⚠️ /home/jovyan/__ANIMALS/datasets/ds8_auto_label_yolo_architectures/train/images/Uss-2.1.PetrovskyPass_151_1-11-2024_01-27.JPG: corrupt JPEG restored and saved\n",
      "\u001b[34m\u001b[1mtrain: \u001b[0mWARNING ⚠️ /home/jovyan/__ANIMALS/datasets/ds8_auto_label_yolo_architectures/train/images/Uss-2.1.PetrovskyPass_155_1-11-2024_09-51.JPG: corrupt JPEG restored and saved\n",
      "\u001b[34m\u001b[1mtrain: \u001b[0mWARNING ⚠️ /home/jovyan/__ANIMALS/datasets/ds8_auto_label_yolo_architectures/train/images/Uss-2.1.PetrovskyPass_159_1-11-2024_10-10.JPG: corrupt JPEG restored and saved\n",
      "\u001b[34m\u001b[1mtrain: \u001b[0mWARNING ⚠️ /home/jovyan/__ANIMALS/datasets/ds8_auto_label_yolo_architectures/train/images/Uss-2.1.PetrovskyPass_160_1-11-2024_10-15.JPG: corrupt JPEG restored and saved\n",
      "\u001b[34m\u001b[1mtrain: \u001b[0mWARNING ⚠️ /home/jovyan/__ANIMALS/datasets/ds8_auto_label_yolo_architectures/train/images/Uss-2.1.PetrovskyPass_171_1-11-2024_11-23.JPG: corrupt JPEG restored and saved\n",
      "\u001b[34m\u001b[1mtrain: \u001b[0mWARNING ⚠️ /home/jovyan/__ANIMALS/datasets/ds8_auto_label_yolo_architectures/train/images/Uss-2.1.PetrovskyPass_176_1-11-2024_11-50.JPG: corrupt JPEG restored and saved\n",
      "\u001b[34m\u001b[1mtrain: \u001b[0mWARNING ⚠️ /home/jovyan/__ANIMALS/datasets/ds8_auto_label_yolo_architectures/train/images/Uss-2.1.PetrovskyPass_177_1-11-2024_11-57.JPG: corrupt JPEG restored and saved\n",
      "\u001b[34m\u001b[1mtrain: \u001b[0mWARNING ⚠️ /home/jovyan/__ANIMALS/datasets/ds8_auto_label_yolo_architectures/train/images/Uss-2.1.PetrovskyPass_178_1-11-2024_12-09.JPG: corrupt JPEG restored and saved\n",
      "\u001b[34m\u001b[1mtrain: \u001b[0mWARNING ⚠️ /home/jovyan/__ANIMALS/datasets/ds8_auto_label_yolo_architectures/train/images/Uss-2.1.PetrovskyPass_184_1-11-2024_17-16.JPG: corrupt JPEG restored and saved\n",
      "\u001b[34m\u001b[1mtrain: \u001b[0mWARNING ⚠️ /home/jovyan/__ANIMALS/datasets/ds8_auto_label_yolo_architectures/train/images/Uss-2.1.PetrovskyPass_190_1-11-2024_17-35.JPG: corrupt JPEG restored and saved\n",
      "\u001b[34m\u001b[1mtrain: \u001b[0mWARNING ⚠️ /home/jovyan/__ANIMALS/datasets/ds8_auto_label_yolo_architectures/train/images/Uss-2.1.PetrovskyPass_200_1-12-2024_09-45.JPG: corrupt JPEG restored and saved\n",
      "\u001b[34m\u001b[1mtrain: \u001b[0mWARNING ⚠️ /home/jovyan/__ANIMALS/datasets/ds8_auto_label_yolo_architectures/train/images/Uss-2.1.PetrovskyPass_207_1-12-2024_17-45.JPG: corrupt JPEG restored and saved\n",
      "\u001b[34m\u001b[1mtrain: \u001b[0mWARNING ⚠️ /home/jovyan/__ANIMALS/datasets/ds8_auto_label_yolo_architectures/train/images/Uss-2.1.PetrovskyPass_208_1-12-2024_17-45.JPG: corrupt JPEG restored and saved\n",
      "\u001b[34m\u001b[1mtrain: \u001b[0mWARNING ⚠️ /home/jovyan/__ANIMALS/datasets/ds8_auto_label_yolo_architectures/train/images/Uss-2.1.PetrovskyPass_209_1-12-2024_17-45.JPG: corrupt JPEG restored and saved\n",
      "\u001b[34m\u001b[1mtrain: \u001b[0mWARNING ⚠️ /home/jovyan/__ANIMALS/datasets/ds8_auto_label_yolo_architectures/train/images/Uss-2.1.PetrovskyPass_219_1-13-2024_23-32.JPG: corrupt JPEG restored and saved\n",
      "\u001b[34m\u001b[1mtrain: \u001b[0mWARNING ⚠️ /home/jovyan/__ANIMALS/datasets/ds8_auto_label_yolo_architectures/train/images/Uss-2.1.PetrovskyPass_222_1-14-2024_10-08.JPG: corrupt JPEG restored and saved\n",
      "\u001b[34m\u001b[1mtrain: \u001b[0mWARNING ⚠️ /home/jovyan/__ANIMALS/datasets/ds8_auto_label_yolo_architectures/train/images/Uss-2.1.PetrovskyPass_248_1-18-2024_04-57.JPG: corrupt JPEG restored and saved\n",
      "\u001b[34m\u001b[1mtrain: \u001b[0mWARNING ⚠️ /home/jovyan/__ANIMALS/datasets/ds8_auto_label_yolo_architectures/train/images/Uss-2.1.PetrovskyPass_266_1-20-2024_00-21.JPG: corrupt JPEG restored and saved\n",
      "\u001b[34m\u001b[1mtrain: \u001b[0mWARNING ⚠️ /home/jovyan/__ANIMALS/datasets/ds8_auto_label_yolo_architectures/train/images/Uss-2.1.PetrovskyPass_269_1-20-2024_00-44.JPG: corrupt JPEG restored and saved\n",
      "\u001b[34m\u001b[1mtrain: \u001b[0mWARNING ⚠️ /home/jovyan/__ANIMALS/datasets/ds8_auto_label_yolo_architectures/train/images/Uss-2.1.PetrovskyPass_270_1-20-2024_00-44.JPG: corrupt JPEG restored and saved\n",
      "\u001b[34m\u001b[1mtrain: \u001b[0mWARNING ⚠️ /home/jovyan/__ANIMALS/datasets/ds8_auto_label_yolo_architectures/train/images/Uss-2.1.PetrovskyPass_271_1-20-2024_00-45.JPG: corrupt JPEG restored and saved\n",
      "\u001b[34m\u001b[1mtrain: \u001b[0mWARNING ⚠️ /home/jovyan/__ANIMALS/datasets/ds8_auto_label_yolo_architectures/train/images/Uss-2.1.PetrovskyPass_281_1-25-2024_16-20.JPG: corrupt JPEG restored and saved\n",
      "\u001b[34m\u001b[1mtrain: \u001b[0mWARNING ⚠️ /home/jovyan/__ANIMALS/datasets/ds8_auto_label_yolo_architectures/train/images/Uss-2.1.PetrovskyPass_283_1-25-2024_16-21.JPG: corrupt JPEG restored and saved\n",
      "\u001b[34m\u001b[1mtrain: \u001b[0mWARNING ⚠️ /home/jovyan/__ANIMALS/datasets/ds8_auto_label_yolo_architectures/train/images/Uss-2.1.PetrovskyPass_323_1-27-2024_14-27.JPG: corrupt JPEG restored and saved\n",
      "\u001b[34m\u001b[1mtrain: \u001b[0mWARNING ⚠️ /home/jovyan/__ANIMALS/datasets/ds8_auto_label_yolo_architectures/train/images/Uss-2.1.PetrovskyPass_330_1-28-2024_04-43.JPG: corrupt JPEG restored and saved\n",
      "\u001b[34m\u001b[1mtrain: \u001b[0mWARNING ⚠️ /home/jovyan/__ANIMALS/datasets/ds8_auto_label_yolo_architectures/train/images/Uss-2.1.PetrovskyPass_337_1-29-2024_11-11.JPG: corrupt JPEG restored and saved\n",
      "\u001b[34m\u001b[1mtrain: \u001b[0mWARNING ⚠️ /home/jovyan/__ANIMALS/datasets/ds8_auto_label_yolo_architectures/train/images/Uss-2.1.PetrovskyPass_340_1-29-2024_16-52.JPG: corrupt JPEG restored and saved\n",
      "\u001b[34m\u001b[1mtrain: \u001b[0mWARNING ⚠️ /home/jovyan/__ANIMALS/datasets/ds8_auto_label_yolo_architectures/train/images/Uss-2.1.PetrovskyPass_342_1-29-2024_16-52.JPG: corrupt JPEG restored and saved\n",
      "\u001b[34m\u001b[1mtrain: \u001b[0mWARNING ⚠️ /home/jovyan/__ANIMALS/datasets/ds8_auto_label_yolo_architectures/train/images/Uss-2.1.PetrovskyPass_345_1-29-2024_16-56.JPG: corrupt JPEG restored and saved\n",
      "\u001b[34m\u001b[1mtrain: \u001b[0mWARNING ⚠️ /home/jovyan/__ANIMALS/datasets/ds8_auto_label_yolo_architectures/train/images/Uss-2.1.PetrovskyPass_346_1-29-2024_16-56.JPG: corrupt JPEG restored and saved\n",
      "\u001b[34m\u001b[1mtrain: \u001b[0mWARNING ⚠️ /home/jovyan/__ANIMALS/datasets/ds8_auto_label_yolo_architectures/train/images/Uss-2.1.PetrovskyPass_348_1-29-2024_17-01.JPG: corrupt JPEG restored and saved\n",
      "\u001b[34m\u001b[1mtrain: \u001b[0mWARNING ⚠️ /home/jovyan/__ANIMALS/datasets/ds8_auto_label_yolo_architectures/train/images/Uss-2.1.PetrovskyPass_349_1-29-2024_17-03.JPG: corrupt JPEG restored and saved\n",
      "\u001b[34m\u001b[1mtrain: \u001b[0mWARNING ⚠️ /home/jovyan/__ANIMALS/datasets/ds8_auto_label_yolo_architectures/train/images/Uss-2.1.PetrovskyPass_354_1-29-2024_19-01.JPG: corrupt JPEG restored and saved\n",
      "\u001b[34m\u001b[1mtrain: \u001b[0mWARNING ⚠️ /home/jovyan/__ANIMALS/datasets/ds8_auto_label_yolo_architectures/train/images/Uss-2.1.PetrovskyPass_359_1-29-2024_20-40.JPG: corrupt JPEG restored and saved\n",
      "\u001b[34m\u001b[1mtrain: \u001b[0mWARNING ⚠️ /home/jovyan/__ANIMALS/datasets/ds8_auto_label_yolo_architectures/train/images/Uss-2.1.PetrovskyPass_362_1-29-2024_21-29.JPG: corrupt JPEG restored and saved\n",
      "\u001b[34m\u001b[1mtrain: \u001b[0mWARNING ⚠️ /home/jovyan/__ANIMALS/datasets/ds8_auto_label_yolo_architectures/train/images/Uss-2.1.PetrovskyPass_364_1-29-2024_22-24.JPG: corrupt JPEG restored and saved\n",
      "\u001b[34m\u001b[1mtrain: \u001b[0mWARNING ⚠️ /home/jovyan/__ANIMALS/datasets/ds8_auto_label_yolo_architectures/train/images/Uss-2.1.PetrovskyPass_365_1-29-2024_22-26.JPG: corrupt JPEG restored and saved\n",
      "\u001b[34m\u001b[1mtrain: \u001b[0mWARNING ⚠️ /home/jovyan/__ANIMALS/datasets/ds8_auto_label_yolo_architectures/train/images/Uss-2.1.PetrovskyPass_375_1-29-2024_23-06.JPG: corrupt JPEG restored and saved\n",
      "\u001b[34m\u001b[1mtrain: \u001b[0mWARNING ⚠️ /home/jovyan/__ANIMALS/datasets/ds8_auto_label_yolo_architectures/train/images/Uss-2.1.PetrovskyPass_377_1-30-2024_02-24.JPG: corrupt JPEG restored and saved\n",
      "\u001b[34m\u001b[1mtrain: \u001b[0mWARNING ⚠️ /home/jovyan/__ANIMALS/datasets/ds8_auto_label_yolo_architectures/train/images/Uss-2.1.PetrovskyPass_381_1-30-2024_10-02.JPG: corrupt JPEG restored and saved\n",
      "\u001b[34m\u001b[1mtrain: \u001b[0mWARNING ⚠️ /home/jovyan/__ANIMALS/datasets/ds8_auto_label_yolo_architectures/train/images/Uss-2.1.PetrovskyPass_382_1-30-2024_10-03.JPG: corrupt JPEG restored and saved\n",
      "\u001b[34m\u001b[1mtrain: \u001b[0mWARNING ⚠️ /home/jovyan/__ANIMALS/datasets/ds8_auto_label_yolo_architectures/train/images/Uss-2.1.PetrovskyPass_383_1-30-2024_10-04.JPG: corrupt JPEG restored and saved\n",
      "\u001b[34m\u001b[1mtrain: \u001b[0mWARNING ⚠️ /home/jovyan/__ANIMALS/datasets/ds8_auto_label_yolo_architectures/train/images/Uss-2.1.PetrovskyPass_384_1-30-2024_10-04.JPG: corrupt JPEG restored and saved\n",
      "\u001b[34m\u001b[1mtrain: \u001b[0mWARNING ⚠️ /home/jovyan/__ANIMALS/datasets/ds8_auto_label_yolo_architectures/train/images/Uss-2.1.PetrovskyPass_386_1-30-2024_10-13.JPG: corrupt JPEG restored and saved\n",
      "\u001b[34m\u001b[1mtrain: \u001b[0mWARNING ⚠️ /home/jovyan/__ANIMALS/datasets/ds8_auto_label_yolo_architectures/train/images/Uss-2.1.PetrovskyPass_387_1-30-2024_10-17.JPG: corrupt JPEG restored and saved\n",
      "\u001b[34m\u001b[1mtrain: \u001b[0mWARNING ⚠️ /home/jovyan/__ANIMALS/datasets/ds8_auto_label_yolo_architectures/train/images/Uss-2.1.PetrovskyPass_388_1-30-2024_10-17.JPG: corrupt JPEG restored and saved\n",
      "\u001b[34m\u001b[1mtrain: \u001b[0mWARNING ⚠️ /home/jovyan/__ANIMALS/datasets/ds8_auto_label_yolo_architectures/train/images/Uss-2.1.PetrovskyPass_389_1-30-2024_10-19.JPG: corrupt JPEG restored and saved\n",
      "\u001b[34m\u001b[1mtrain: \u001b[0mWARNING ⚠️ /home/jovyan/__ANIMALS/datasets/ds8_auto_label_yolo_architectures/train/images/Uss-2.1.PetrovskyPass_390_1-30-2024_10-31.JPG: corrupt JPEG restored and saved\n",
      "\u001b[34m\u001b[1mtrain: \u001b[0mWARNING ⚠️ /home/jovyan/__ANIMALS/datasets/ds8_auto_label_yolo_architectures/train/images/Uss-2.1.PetrovskyPass_391_1-30-2024_10-32.JPG: corrupt JPEG restored and saved\n",
      "\u001b[34m\u001b[1mtrain: \u001b[0mWARNING ⚠️ /home/jovyan/__ANIMALS/datasets/ds8_auto_label_yolo_architectures/train/images/Uss-2.1.PetrovskyPass_392_1-30-2024_10-32.JPG: corrupt JPEG restored and saved\n",
      "\u001b[34m\u001b[1mtrain: \u001b[0mWARNING ⚠️ /home/jovyan/__ANIMALS/datasets/ds8_auto_label_yolo_architectures/train/images/Uss-2.1.PetrovskyPass_404_1-31-2024_01-26.JPG: corrupt JPEG restored and saved\n",
      "\u001b[34m\u001b[1mtrain: \u001b[0mWARNING ⚠️ /home/jovyan/__ANIMALS/datasets/ds8_auto_label_yolo_architectures/train/images/Uss-2.1.PetrovskyPass_405_1-31-2024_01-31.JPG: corrupt JPEG restored and saved\n",
      "\u001b[34m\u001b[1mtrain: \u001b[0mWARNING ⚠️ /home/jovyan/__ANIMALS/datasets/ds8_auto_label_yolo_architectures/train/images/Uss-2.1.PetrovskyPass_413_1-31-2024_04-05.JPG: corrupt JPEG restored and saved\n",
      "\u001b[34m\u001b[1mtrain: \u001b[0mWARNING ⚠️ /home/jovyan/__ANIMALS/datasets/ds8_auto_label_yolo_architectures/train/images/Uss-2.1.PetrovskyPass_414_1-31-2024_04-11.JPG: corrupt JPEG restored and saved\n",
      "\u001b[34m\u001b[1mtrain: \u001b[0mWARNING ⚠️ /home/jovyan/__ANIMALS/datasets/ds8_auto_label_yolo_architectures/train/images/Uss-2.1.PetrovskyPass_415_1-31-2024_04-13.JPG: corrupt JPEG restored and saved\n",
      "\u001b[34m\u001b[1mtrain: \u001b[0mWARNING ⚠️ /home/jovyan/__ANIMALS/datasets/ds8_auto_label_yolo_architectures/train/images/Uss-2.1.PetrovskyPass_431_2-1-2024_17-44.JPG: corrupt JPEG restored and saved\n",
      "\u001b[34m\u001b[1mtrain: \u001b[0mWARNING ⚠️ /home/jovyan/__ANIMALS/datasets/ds8_auto_label_yolo_architectures/train/images/Uss-2.1.PetrovskyPass_432_2-1-2024_17-46.JPG: corrupt JPEG restored and saved\n",
      "\u001b[34m\u001b[1mtrain: \u001b[0mWARNING ⚠️ /home/jovyan/__ANIMALS/datasets/ds8_auto_label_yolo_architectures/train/images/Uss-2.1.PetrovskyPass_440_2-1-2024_18-56.JPG: corrupt JPEG restored and saved\n",
      "\u001b[34m\u001b[1mtrain: \u001b[0mWARNING ⚠️ /home/jovyan/__ANIMALS/datasets/ds8_auto_label_yolo_architectures/train/images/Uss-2.1.PetrovskyPass_442_2-2-2024_00-00.JPG: corrupt JPEG restored and saved\n",
      "\u001b[34m\u001b[1mtrain: \u001b[0mWARNING ⚠️ /home/jovyan/__ANIMALS/datasets/ds8_auto_label_yolo_architectures/train/images/Uss-2.1.PetrovskyPass_453_2-4-2024_05-05.JPG: corrupt JPEG restored and saved\n",
      "\u001b[34m\u001b[1mtrain: \u001b[0mWARNING ⚠️ /home/jovyan/__ANIMALS/datasets/ds8_auto_label_yolo_architectures/train/images/Uss-2.1.PetrovskyPass_454_2-4-2024_05-08.JPG: corrupt JPEG restored and saved\n",
      "\u001b[34m\u001b[1mtrain: \u001b[0mWARNING ⚠️ /home/jovyan/__ANIMALS/datasets/ds8_auto_label_yolo_architectures/train/images/Uss-2.1.PetrovskyPass_455_2-4-2024_05-10.JPG: corrupt JPEG restored and saved\n",
      "\u001b[34m\u001b[1mtrain: \u001b[0mWARNING ⚠️ /home/jovyan/__ANIMALS/datasets/ds8_auto_label_yolo_architectures/train/images/Uss-2.1.PetrovskyPass_461_2-5-2024_14-05.JPG: corrupt JPEG restored and saved\n",
      "\u001b[34m\u001b[1mtrain: \u001b[0mWARNING ⚠️ /home/jovyan/__ANIMALS/datasets/ds8_auto_label_yolo_architectures/train/images/Uss-2.1.PetrovskyPass_462_2-5-2024_14-45.JPG: corrupt JPEG restored and saved\n",
      "\u001b[34m\u001b[1mtrain: \u001b[0mWARNING ⚠️ /home/jovyan/__ANIMALS/datasets/ds8_auto_label_yolo_architectures/train/images/Uss-2.1.PetrovskyPass_463_2-5-2024_14-48.JPG: corrupt JPEG restored and saved\n",
      "\u001b[34m\u001b[1mtrain: \u001b[0mWARNING ⚠️ /home/jovyan/__ANIMALS/datasets/ds8_auto_label_yolo_architectures/train/images/Uss-2.1.PetrovskyPass_464_2-5-2024_14-48.JPG: corrupt JPEG restored and saved\n",
      "\u001b[34m\u001b[1mtrain: \u001b[0mWARNING ⚠️ /home/jovyan/__ANIMALS/datasets/ds8_auto_label_yolo_architectures/train/images/Uss-2.1.PetrovskyPass_465_2-5-2024_15-29.JPG: corrupt JPEG restored and saved\n",
      "\u001b[34m\u001b[1mtrain: \u001b[0mWARNING ⚠️ /home/jovyan/__ANIMALS/datasets/ds8_auto_label_yolo_architectures/train/images/Uss-2.1.PetrovskyPass_467_2-5-2024_16-05.JPG: corrupt JPEG restored and saved\n",
      "\u001b[34m\u001b[1mtrain: \u001b[0mWARNING ⚠️ /home/jovyan/__ANIMALS/datasets/ds8_auto_label_yolo_architectures/train/images/Uss-2.1.PetrovskyPass_470_2-6-2024_00-03.JPG: corrupt JPEG restored and saved\n",
      "\u001b[34m\u001b[1mtrain: \u001b[0mWARNING ⚠️ /home/jovyan/__ANIMALS/datasets/ds8_auto_label_yolo_architectures/train/images/Uss-2.1.PetrovskyPass_471_2-6-2024_00-08.JPG: corrupt JPEG restored and saved\n",
      "\u001b[34m\u001b[1mtrain: \u001b[0mWARNING ⚠️ /home/jovyan/__ANIMALS/datasets/ds8_auto_label_yolo_architectures/train/images/Uss-2.1.PetrovskyPass_472_2-6-2024_04-30.JPG: corrupt JPEG restored and saved\n",
      "\u001b[34m\u001b[1mtrain: \u001b[0mWARNING ⚠️ /home/jovyan/__ANIMALS/datasets/ds8_auto_label_yolo_architectures/train/images/Uss-2.1.PetrovskyPass_473_2-6-2024_04-30.JPG: corrupt JPEG restored and saved\n",
      "\u001b[34m\u001b[1mtrain: \u001b[0mWARNING ⚠️ /home/jovyan/__ANIMALS/datasets/ds8_auto_label_yolo_architectures/train/images/Uss-2.1.PetrovskyPass_475_2-6-2024_04-34.JPG: corrupt JPEG restored and saved\n",
      "\u001b[34m\u001b[1mtrain: \u001b[0mWARNING ⚠️ /home/jovyan/__ANIMALS/datasets/ds8_auto_label_yolo_architectures/train/images/Uss-2.1.PetrovskyPass_476_2-6-2024_08-40.JPG: corrupt JPEG restored and saved\n",
      "\u001b[34m\u001b[1mtrain: \u001b[0mWARNING ⚠️ /home/jovyan/__ANIMALS/datasets/ds8_auto_label_yolo_architectures/train/images/Uss-2.1.PetrovskyPass_477_2-6-2024_08-41.JPG: corrupt JPEG restored and saved\n",
      "\u001b[34m\u001b[1mtrain: \u001b[0mWARNING ⚠️ /home/jovyan/__ANIMALS/datasets/ds8_auto_label_yolo_architectures/train/images/Uss-2.1.PetrovskyPass_478_2-6-2024_09-24.JPG: corrupt JPEG restored and saved\n",
      "\u001b[34m\u001b[1mtrain: \u001b[0mWARNING ⚠️ /home/jovyan/__ANIMALS/datasets/ds8_auto_label_yolo_architectures/train/images/Uss-2.1.PetrovskyPass_479_2-6-2024_09-24.JPG: corrupt JPEG restored and saved\n",
      "\u001b[34m\u001b[1mtrain: \u001b[0mWARNING ⚠️ /home/jovyan/__ANIMALS/datasets/ds8_auto_label_yolo_architectures/train/images/Uss-2.1.PetrovskyPass_481_2-6-2024_11-44.JPG: corrupt JPEG restored and saved\n",
      "\u001b[34m\u001b[1mtrain: \u001b[0mWARNING ⚠️ /home/jovyan/__ANIMALS/datasets/ds8_auto_label_yolo_architectures/train/images/Uss-2.1.PetrovskyPass_482_2-6-2024_11-44.JPG: corrupt JPEG restored and saved\n",
      "\u001b[34m\u001b[1mtrain: \u001b[0mWARNING ⚠️ /home/jovyan/__ANIMALS/datasets/ds8_auto_label_yolo_architectures/train/images/Uss-2.1.PetrovskyPass_489_2-8-2024_04-58.JPG: corrupt JPEG restored and saved\n",
      "\u001b[34m\u001b[1mtrain: \u001b[0mWARNING ⚠️ /home/jovyan/__ANIMALS/datasets/ds8_auto_label_yolo_architectures/train/images/Uss-2.1.PetrovskyPass_500_2-11-2024_09-21.JPG: corrupt JPEG restored and saved\n",
      "\u001b[34m\u001b[1mtrain: \u001b[0mWARNING ⚠️ /home/jovyan/__ANIMALS/datasets/ds8_auto_label_yolo_architectures/train/images/Uss-2.1.PetrovskyPass_502_2-11-2024_09-24.JPG: corrupt JPEG restored and saved\n",
      "\u001b[34m\u001b[1mtrain: \u001b[0mWARNING ⚠️ /home/jovyan/__ANIMALS/datasets/ds8_auto_label_yolo_architectures/train/images/Uss-2.1.PetrovskyPass_503_2-11-2024_09-26.JPG: corrupt JPEG restored and saved\n",
      "\u001b[34m\u001b[1mtrain: \u001b[0mWARNING ⚠️ /home/jovyan/__ANIMALS/datasets/ds8_auto_label_yolo_architectures/train/images/Uss-2.1.PetrovskyPass_504_2-11-2024_18-42.JPG: corrupt JPEG restored and saved\n",
      "\u001b[34m\u001b[1mtrain: \u001b[0mWARNING ⚠️ /home/jovyan/__ANIMALS/datasets/ds8_auto_label_yolo_architectures/train/images/Uss-2.1.PetrovskyPass_506_2-12-2024_15-52.JPG: corrupt JPEG restored and saved\n",
      "\u001b[34m\u001b[1mtrain: \u001b[0mWARNING ⚠️ /home/jovyan/__ANIMALS/datasets/ds8_auto_label_yolo_architectures/train/images/Uss-2.1.PetrovskyPass_507_2-12-2024_15-52.JPG: corrupt JPEG restored and saved\n",
      "\u001b[34m\u001b[1mtrain: \u001b[0mWARNING ⚠️ /home/jovyan/__ANIMALS/datasets/ds8_auto_label_yolo_architectures/train/images/Uss-2.1.PetrovskyPass_508_2-12-2024_15-54.JPG: corrupt JPEG restored and saved\n",
      "\u001b[34m\u001b[1mtrain: \u001b[0mWARNING ⚠️ /home/jovyan/__ANIMALS/datasets/ds8_auto_label_yolo_architectures/train/images/Uss-2.1.PetrovskyPass_520_2-14-2024_18-39.JPG: corrupt JPEG restored and saved\n",
      "\u001b[34m\u001b[1mtrain: \u001b[0mWARNING ⚠️ /home/jovyan/__ANIMALS/datasets/ds8_auto_label_yolo_architectures/train/images/Uss-2.1.PetrovskyPass_523_2-17-2024_09-07.JPG: corrupt JPEG restored and saved\n",
      "\u001b[34m\u001b[1mtrain: \u001b[0mWARNING ⚠️ /home/jovyan/__ANIMALS/datasets/ds8_auto_label_yolo_architectures/train/images/Uss-2.1.PetrovskyPass_524_2-17-2024_09-08.JPG: corrupt JPEG restored and saved\n",
      "\u001b[34m\u001b[1mtrain: \u001b[0mWARNING ⚠️ /home/jovyan/__ANIMALS/datasets/ds8_auto_label_yolo_architectures/train/images/Uss-2.1.PetrovskyPass_525_2-17-2024_09-19.JPG: corrupt JPEG restored and saved\n",
      "\u001b[34m\u001b[1mtrain: \u001b[0mWARNING ⚠️ /home/jovyan/__ANIMALS/datasets/ds8_auto_label_yolo_architectures/train/images/Uss-2.1.PetrovskyPass_526_2-17-2024_09-38.JPG: corrupt JPEG restored and saved\n",
      "\u001b[34m\u001b[1mtrain: \u001b[0mWARNING ⚠️ /home/jovyan/__ANIMALS/datasets/ds8_auto_label_yolo_architectures/train/images/Uss-2.1.PetrovskyPass_527_2-17-2024_09-38.JPG: corrupt JPEG restored and saved\n",
      "\u001b[34m\u001b[1mtrain: \u001b[0mWARNING ⚠️ /home/jovyan/__ANIMALS/datasets/ds8_auto_label_yolo_architectures/train/images/Uss-2.1.PetrovskyPass_529_2-17-2024_13-09.JPG: corrupt JPEG restored and saved\n",
      "\u001b[34m\u001b[1mtrain: \u001b[0mWARNING ⚠️ /home/jovyan/__ANIMALS/datasets/ds8_auto_label_yolo_architectures/train/images/Uss-2.1.PetrovskyPass_530_2-17-2024_13-09.JPG: corrupt JPEG restored and saved\n",
      "\u001b[34m\u001b[1mtrain: \u001b[0mWARNING ⚠️ /home/jovyan/__ANIMALS/datasets/ds8_auto_label_yolo_architectures/train/images/Uss-2.1.PetrovskyPass_531_2-17-2024_13-18.JPG: corrupt JPEG restored and saved\n",
      "\u001b[34m\u001b[1mtrain: \u001b[0mWARNING ⚠️ /home/jovyan/__ANIMALS/datasets/ds8_auto_label_yolo_architectures/train/images/Uss-2.1.PetrovskyPass_532_2-17-2024_13-18.JPG: corrupt JPEG restored and saved\n",
      "\u001b[34m\u001b[1mtrain: \u001b[0mWARNING ⚠️ /home/jovyan/__ANIMALS/datasets/ds8_auto_label_yolo_architectures/train/images/Uss-2.1.PetrovskyPass_534_2-17-2024_13-23.JPG: corrupt JPEG restored and saved\n",
      "\u001b[34m\u001b[1mtrain: \u001b[0mWARNING ⚠️ /home/jovyan/__ANIMALS/datasets/ds8_auto_label_yolo_architectures/train/images/Uss-2.1.PetrovskyPass_535_2-17-2024_13-23.JPG: corrupt JPEG restored and saved\n",
      "\u001b[34m\u001b[1mtrain: \u001b[0mWARNING ⚠️ /home/jovyan/__ANIMALS/datasets/ds8_auto_label_yolo_architectures/train/images/Uss-2.1.PetrovskyPass_536_2-17-2024_14-01.JPG: corrupt JPEG restored and saved\n",
      "\u001b[34m\u001b[1mtrain: \u001b[0mWARNING ⚠️ /home/jovyan/__ANIMALS/datasets/ds8_auto_label_yolo_architectures/train/images/Uss-2.1.PetrovskyPass_537_2-17-2024_14-02.JPG: corrupt JPEG restored and saved\n",
      "\u001b[34m\u001b[1mtrain: \u001b[0mWARNING ⚠️ /home/jovyan/__ANIMALS/datasets/ds8_auto_label_yolo_architectures/train/images/Uss-2.1.PetrovskyPass_539_2-17-2024_14-24.JPG: corrupt JPEG restored and saved\n",
      "\u001b[34m\u001b[1mtrain: \u001b[0mWARNING ⚠️ /home/jovyan/__ANIMALS/datasets/ds8_auto_label_yolo_architectures/train/images/Uss-2.1.PetrovskyPass_541_2-17-2024_18-13.JPG: corrupt JPEG restored and saved\n",
      "\u001b[34m\u001b[1mtrain: \u001b[0mWARNING ⚠️ /home/jovyan/__ANIMALS/datasets/ds8_auto_label_yolo_architectures/train/images/Uss-2.1.PetrovskyPass_542_2-17-2024_18-13.JPG: corrupt JPEG restored and saved\n",
      "\u001b[34m\u001b[1mtrain: \u001b[0mWARNING ⚠️ /home/jovyan/__ANIMALS/datasets/ds8_auto_label_yolo_architectures/train/images/Uss-2.1.PetrovskyPass_543_2-17-2024_18-13.JPG: corrupt JPEG restored and saved\n",
      "\u001b[34m\u001b[1mtrain: \u001b[0mWARNING ⚠️ /home/jovyan/__ANIMALS/datasets/ds8_auto_label_yolo_architectures/train/images/Uss-2.1.PetrovskyPass_544_2-17-2024_18-14.JPG: corrupt JPEG restored and saved\n",
      "\u001b[34m\u001b[1mtrain: \u001b[0mWARNING ⚠️ /home/jovyan/__ANIMALS/datasets/ds8_auto_label_yolo_architectures/train/images/Uss-2.1.PetrovskyPass_545_2-17-2024_18-14.JPG: corrupt JPEG restored and saved\n",
      "\u001b[34m\u001b[1mtrain: \u001b[0mWARNING ⚠️ /home/jovyan/__ANIMALS/datasets/ds8_auto_label_yolo_architectures/train/images/Uss-2.1.PetrovskyPass_546_2-17-2024_18-15.JPG: corrupt JPEG restored and saved\n",
      "\u001b[34m\u001b[1mtrain: \u001b[0mWARNING ⚠️ /home/jovyan/__ANIMALS/datasets/ds8_auto_label_yolo_architectures/train/images/Uss-2.1.PetrovskyPass_547_2-17-2024_18-15.JPG: corrupt JPEG restored and saved\n",
      "\u001b[34m\u001b[1mtrain: \u001b[0mWARNING ⚠️ /home/jovyan/__ANIMALS/datasets/ds8_auto_label_yolo_architectures/train/images/Uss-2.1.PetrovskyPass_548_2-17-2024_20-59.JPG: corrupt JPEG restored and saved\n",
      "\u001b[34m\u001b[1mtrain: \u001b[0mWARNING ⚠️ /home/jovyan/__ANIMALS/datasets/ds8_auto_label_yolo_architectures/train/images/Uss-2.1.PetrovskyPass_549_2-17-2024_20-59.JPG: corrupt JPEG restored and saved\n",
      "\u001b[34m\u001b[1mtrain: \u001b[0mWARNING ⚠️ /home/jovyan/__ANIMALS/datasets/ds8_auto_label_yolo_architectures/train/images/Uss-2.1.PetrovskyPass_550_2-17-2024_21-00.JPG: corrupt JPEG restored and saved\n",
      "\u001b[34m\u001b[1mtrain: \u001b[0mWARNING ⚠️ /home/jovyan/__ANIMALS/datasets/ds8_auto_label_yolo_architectures/train/images/Uss-2.1.PetrovskyPass_551_2-18-2024_09-10.JPG: corrupt JPEG restored and saved\n",
      "\u001b[34m\u001b[1mtrain: \u001b[0mWARNING ⚠️ /home/jovyan/__ANIMALS/datasets/ds8_auto_label_yolo_architectures/train/images/Uss-2.1.PetrovskyPass_552_2-18-2024_09-56.JPG: corrupt JPEG restored and saved\n",
      "\u001b[34m\u001b[1mtrain: \u001b[0mWARNING ⚠️ /home/jovyan/__ANIMALS/datasets/ds8_auto_label_yolo_architectures/train/images/Uss-2.1.PetrovskyPass_553_2-18-2024_09-57.JPG: corrupt JPEG restored and saved\n",
      "\u001b[34m\u001b[1mtrain: \u001b[0mWARNING ⚠️ /home/jovyan/__ANIMALS/datasets/ds8_auto_label_yolo_architectures/train/images/Uss-2.1.PetrovskyPass_554_2-18-2024_09-58.JPG: corrupt JPEG restored and saved\n",
      "\u001b[34m\u001b[1mtrain: \u001b[0mWARNING ⚠️ /home/jovyan/__ANIMALS/datasets/ds8_auto_label_yolo_architectures/train/images/Uss-2.1.PetrovskyPass_556_2-18-2024_10-59.JPG: corrupt JPEG restored and saved\n",
      "\u001b[34m\u001b[1mtrain: \u001b[0mWARNING ⚠️ /home/jovyan/__ANIMALS/datasets/ds8_auto_label_yolo_architectures/train/images/Uss-2.1.PetrovskyPass_557_2-18-2024_10-59.JPG: corrupt JPEG restored and saved\n",
      "\u001b[34m\u001b[1mtrain: \u001b[0mWARNING ⚠️ /home/jovyan/__ANIMALS/datasets/ds8_auto_label_yolo_architectures/train/images/Uss-2.1.PetrovskyPass_558_2-18-2024_11-15.JPG: corrupt JPEG restored and saved\n",
      "\u001b[34m\u001b[1mtrain: \u001b[0mWARNING ⚠️ /home/jovyan/__ANIMALS/datasets/ds8_auto_label_yolo_architectures/train/images/Uss-2.1.PetrovskyPass_561_2-18-2024_11-34.JPG: corrupt JPEG restored and saved\n",
      "\u001b[34m\u001b[1mtrain: \u001b[0mWARNING ⚠️ /home/jovyan/__ANIMALS/datasets/ds8_auto_label_yolo_architectures/train/images/Uss-2.1.PetrovskyPass_562_2-18-2024_11-38.JPG: corrupt JPEG restored and saved\n",
      "\u001b[34m\u001b[1mtrain: \u001b[0mWARNING ⚠️ /home/jovyan/__ANIMALS/datasets/ds8_auto_label_yolo_architectures/train/images/Uss-2.1.PetrovskyPass_563_2-18-2024_11-38.JPG: corrupt JPEG restored and saved\n",
      "\u001b[34m\u001b[1mtrain: \u001b[0mWARNING ⚠️ /home/jovyan/__ANIMALS/datasets/ds8_auto_label_yolo_architectures/train/images/Uss-2.1.PetrovskyPass_564_2-18-2024_12-21.JPG: corrupt JPEG restored and saved\n",
      "\u001b[34m\u001b[1mtrain: \u001b[0mWARNING ⚠️ /home/jovyan/__ANIMALS/datasets/ds8_auto_label_yolo_architectures/train/images/Uss-2.1.PetrovskyPass_565_2-18-2024_14-32.JPG: corrupt JPEG restored and saved\n",
      "\u001b[34m\u001b[1mtrain: \u001b[0mWARNING ⚠️ /home/jovyan/__ANIMALS/datasets/ds8_auto_label_yolo_architectures/train/images/Uss-2.1.PetrovskyPass_567_2-18-2024_15-07.JPG: corrupt JPEG restored and saved\n",
      "\u001b[34m\u001b[1mtrain: \u001b[0mWARNING ⚠️ /home/jovyan/__ANIMALS/datasets/ds8_auto_label_yolo_architectures/train/images/Uss-2.1.PetrovskyPass_570_2-19-2024_04-21.JPG: corrupt JPEG restored and saved\n",
      "\u001b[34m\u001b[1mtrain: \u001b[0mWARNING ⚠️ /home/jovyan/__ANIMALS/datasets/ds8_auto_label_yolo_architectures/train/images/Uss-2.1.PetrovskyPass_571_2-19-2024_06-29.JPG: corrupt JPEG restored and saved\n",
      "\u001b[34m\u001b[1mtrain: \u001b[0mWARNING ⚠️ /home/jovyan/__ANIMALS/datasets/ds8_auto_label_yolo_architectures/train/images/Uss-2.1.PetrovskyPass_572_2-19-2024_06-36.JPG: corrupt JPEG restored and saved\n",
      "\u001b[34m\u001b[1mtrain: \u001b[0mWARNING ⚠️ /home/jovyan/__ANIMALS/datasets/ds8_auto_label_yolo_architectures/train/images/Uss-2.1.PetrovskyPass_575_2-19-2024_21-58.JPG: corrupt JPEG restored and saved\n",
      "\u001b[34m\u001b[1mtrain: \u001b[0mWARNING ⚠️ /home/jovyan/__ANIMALS/datasets/ds8_auto_label_yolo_architectures/train/images/Uss-2.1.PetrovskyPass_577_2-19-2024_21-58.JPG: corrupt JPEG restored and saved\n",
      "\u001b[34m\u001b[1mtrain: \u001b[0mWARNING ⚠️ /home/jovyan/__ANIMALS/datasets/ds8_auto_label_yolo_architectures/train/images/Uss-2.1.PetrovskyPass_578_2-19-2024_21-58.JPG: corrupt JPEG restored and saved\n",
      "\u001b[34m\u001b[1mtrain: \u001b[0mWARNING ⚠️ /home/jovyan/__ANIMALS/datasets/ds8_auto_label_yolo_architectures/train/images/Uss-2.1.PetrovskyPass_579_2-19-2024_21-58.JPG: corrupt JPEG restored and saved\n",
      "\u001b[34m\u001b[1mtrain: \u001b[0mWARNING ⚠️ /home/jovyan/__ANIMALS/datasets/ds8_auto_label_yolo_architectures/train/images/Uss-2.1.PetrovskyPass_580_2-19-2024_22-51.JPG: corrupt JPEG restored and saved\n",
      "\u001b[34m\u001b[1mtrain: \u001b[0mWARNING ⚠️ /home/jovyan/__ANIMALS/datasets/ds8_auto_label_yolo_architectures/train/images/Uss-2.1.PetrovskyPass_581_2-19-2024_22-51.JPG: corrupt JPEG restored and saved\n",
      "\u001b[34m\u001b[1mtrain: \u001b[0mWARNING ⚠️ /home/jovyan/__ANIMALS/datasets/ds8_auto_label_yolo_architectures/train/images/Uss-2.1.PetrovskyPass_582_2-20-2024_03-58.JPG: corrupt JPEG restored and saved\n",
      "\u001b[34m\u001b[1mtrain: \u001b[0mWARNING ⚠️ /home/jovyan/__ANIMALS/datasets/ds8_auto_label_yolo_architectures/train/images/Uss-2.1.PetrovskyPass_587_2-20-2024_20-24.JPG: corrupt JPEG restored and saved\n",
      "\u001b[34m\u001b[1mtrain: \u001b[0mWARNING ⚠️ /home/jovyan/__ANIMALS/datasets/ds8_auto_label_yolo_architectures/train/images/Uss-2.1.PetrovskyPass_596_2-25-2024_10-00.JPG: corrupt JPEG restored and saved\n",
      "\u001b[34m\u001b[1mtrain: \u001b[0mWARNING ⚠️ /home/jovyan/__ANIMALS/datasets/ds8_auto_label_yolo_architectures/train/images/Uss-2.1.PetrovskyPass_597_2-25-2024_10-01.JPG: corrupt JPEG restored and saved\n",
      "\u001b[34m\u001b[1mtrain: \u001b[0mWARNING ⚠️ /home/jovyan/__ANIMALS/datasets/ds8_auto_label_yolo_architectures/train/images/Uss-2.1.PetrovskyPass_599_2-25-2024_10-08.JPG: corrupt JPEG restored and saved\n",
      "\u001b[34m\u001b[1mtrain: \u001b[0mWARNING ⚠️ /home/jovyan/__ANIMALS/datasets/ds8_auto_label_yolo_architectures/train/images/Uss-2.1.PetrovskyPass_600_2-25-2024_10-11.JPG: corrupt JPEG restored and saved\n",
      "\u001b[34m\u001b[1mtrain: \u001b[0mWARNING ⚠️ /home/jovyan/__ANIMALS/datasets/ds8_auto_label_yolo_architectures/train/images/Uss-2.1.PetrovskyPass_601_2-25-2024_10-12.JPG: corrupt JPEG restored and saved\n",
      "\u001b[34m\u001b[1mtrain: \u001b[0mWARNING ⚠️ /home/jovyan/__ANIMALS/datasets/ds8_auto_label_yolo_architectures/train/images/Uss-2.1.PetrovskyPass_602_2-25-2024_10-12.JPG: corrupt JPEG restored and saved\n",
      "\u001b[34m\u001b[1mtrain: \u001b[0mWARNING ⚠️ /home/jovyan/__ANIMALS/datasets/ds8_auto_label_yolo_architectures/train/images/Uss-2.1.PetrovskyPass_603_2-25-2024_10-19.JPG: corrupt JPEG restored and saved\n",
      "\u001b[34m\u001b[1mtrain: \u001b[0mWARNING ⚠️ /home/jovyan/__ANIMALS/datasets/ds8_auto_label_yolo_architectures/train/images/Uss-2.1.PetrovskyPass_604_2-25-2024_10-22.JPG: corrupt JPEG restored and saved\n",
      "\u001b[34m\u001b[1mtrain: \u001b[0mWARNING ⚠️ /home/jovyan/__ANIMALS/datasets/ds8_auto_label_yolo_architectures/train/images/Uss-2.1.PetrovskyPass_605_2-25-2024_10-24.JPG: corrupt JPEG restored and saved\n",
      "\u001b[34m\u001b[1mtrain: \u001b[0mWARNING ⚠️ /home/jovyan/__ANIMALS/datasets/ds8_auto_label_yolo_architectures/train/images/Uss-2.1.PetrovskyPass_607_2-25-2024_10-26.JPG: corrupt JPEG restored and saved\n",
      "\u001b[34m\u001b[1mtrain: \u001b[0mWARNING ⚠️ /home/jovyan/__ANIMALS/datasets/ds8_auto_label_yolo_architectures/train/images/Uss-2.1.PetrovskyPass_608_2-25-2024_10-28.JPG: corrupt JPEG restored and saved\n",
      "\u001b[34m\u001b[1mtrain: \u001b[0mWARNING ⚠️ /home/jovyan/__ANIMALS/datasets/ds8_auto_label_yolo_architectures/train/images/Uss-2.1.PetrovskyPass_609_2-25-2024_10-28.JPG: corrupt JPEG restored and saved\n",
      "\u001b[34m\u001b[1mtrain: \u001b[0mWARNING ⚠️ /home/jovyan/__ANIMALS/datasets/ds8_auto_label_yolo_architectures/train/images/Uss-2.1.PetrovskyPass_610_2-25-2024_10-44.JPG: corrupt JPEG restored and saved\n",
      "\u001b[34m\u001b[1mtrain: \u001b[0mWARNING ⚠️ /home/jovyan/__ANIMALS/datasets/ds8_auto_label_yolo_architectures/train/images/Uss-2.1.PetrovskyPass_611_2-25-2024_10-45.JPG: corrupt JPEG restored and saved\n",
      "\u001b[34m\u001b[1mtrain: \u001b[0mWARNING ⚠️ /home/jovyan/__ANIMALS/datasets/ds8_auto_label_yolo_architectures/train/images/Uss-2.1.PetrovskyPass_612_2-25-2024_10-47.JPG: corrupt JPEG restored and saved\n",
      "\u001b[34m\u001b[1mtrain: \u001b[0mWARNING ⚠️ /home/jovyan/__ANIMALS/datasets/ds8_auto_label_yolo_architectures/train/images/Uss-2.1.PetrovskyPass_613_2-25-2024_10-49.JPG: corrupt JPEG restored and saved\n",
      "\u001b[34m\u001b[1mtrain: \u001b[0mWARNING ⚠️ /home/jovyan/__ANIMALS/datasets/ds8_auto_label_yolo_architectures/train/images/Uss-2.1.PetrovskyPass_614_2-25-2024_10-52.JPG: corrupt JPEG restored and saved\n",
      "\u001b[34m\u001b[1mtrain: \u001b[0mWARNING ⚠️ /home/jovyan/__ANIMALS/datasets/ds8_auto_label_yolo_architectures/train/images/Uss-2.1.PetrovskyPass_615_2-25-2024_10-59.JPG: corrupt JPEG restored and saved\n",
      "\u001b[34m\u001b[1mtrain: \u001b[0mWARNING ⚠️ /home/jovyan/__ANIMALS/datasets/ds8_auto_label_yolo_architectures/train/images/Uss-2.1.PetrovskyPass_618_2-25-2024_11-15.JPG: corrupt JPEG restored and saved\n",
      "\u001b[34m\u001b[1mtrain: \u001b[0mWARNING ⚠️ /home/jovyan/__ANIMALS/datasets/ds8_auto_label_yolo_architectures/train/images/Uss-2.1.PetrovskyPass_619_2-25-2024_11-15.JPG: corrupt JPEG restored and saved\n",
      "\u001b[34m\u001b[1mtrain: \u001b[0mWARNING ⚠️ /home/jovyan/__ANIMALS/datasets/ds8_auto_label_yolo_architectures/train/images/Uss-2.1.PetrovskyPass_620_2-25-2024_11-15.JPG: corrupt JPEG restored and saved\n",
      "\u001b[34m\u001b[1mtrain: \u001b[0mWARNING ⚠️ /home/jovyan/__ANIMALS/datasets/ds8_auto_label_yolo_architectures/train/images/Uss-2.1.PetrovskyPass_621_2-25-2024_11-19.JPG: corrupt JPEG restored and saved\n",
      "\u001b[34m\u001b[1mtrain: \u001b[0mWARNING ⚠️ /home/jovyan/__ANIMALS/datasets/ds8_auto_label_yolo_architectures/train/images/Uss-2.1.PetrovskyPass_622_2-25-2024_11-21.JPG: corrupt JPEG restored and saved\n",
      "\u001b[34m\u001b[1mtrain: \u001b[0mWARNING ⚠️ /home/jovyan/__ANIMALS/datasets/ds8_auto_label_yolo_architectures/train/images/Uss-2.1.PetrovskyPass_623_2-25-2024_11-22.JPG: corrupt JPEG restored and saved\n",
      "\u001b[34m\u001b[1mtrain: \u001b[0mWARNING ⚠️ /home/jovyan/__ANIMALS/datasets/ds8_auto_label_yolo_architectures/train/images/Uss-2.1.PetrovskyPass_625_2-25-2024_11-30.JPG: corrupt JPEG restored and saved\n",
      "\u001b[34m\u001b[1mtrain: \u001b[0mWARNING ⚠️ /home/jovyan/__ANIMALS/datasets/ds8_auto_label_yolo_architectures/train/images/Uss-2.1.PetrovskyPass_629_3-1-2024_08-45.JPG: corrupt JPEG restored and saved\n",
      "\u001b[34m\u001b[1mtrain: \u001b[0mWARNING ⚠️ /home/jovyan/__ANIMALS/datasets/ds8_auto_label_yolo_architectures/train/images/Uss-2.1.PetrovskyPass_630_3-1-2024_08-45.JPG: corrupt JPEG restored and saved\n",
      "\u001b[34m\u001b[1mtrain: \u001b[0mWARNING ⚠️ /home/jovyan/__ANIMALS/datasets/ds8_auto_label_yolo_architectures/train/images/Uss-2.1.PetrovskyPass_631_3-1-2024_08-47.JPG: corrupt JPEG restored and saved\n",
      "\u001b[34m\u001b[1mtrain: \u001b[0mWARNING ⚠️ /home/jovyan/__ANIMALS/datasets/ds8_auto_label_yolo_architectures/train/images/Uss-2.1.PetrovskyPass_633_3-1-2024_14-39.JPG: corrupt JPEG restored and saved\n",
      "\u001b[34m\u001b[1mtrain: \u001b[0mWARNING ⚠️ /home/jovyan/__ANIMALS/datasets/ds8_auto_label_yolo_architectures/train/images/Uss-2.1.PetrovskyPass_635_3-1-2024_14-41.JPG: corrupt JPEG restored and saved\n",
      "\u001b[34m\u001b[1mtrain: \u001b[0mWARNING ⚠️ /home/jovyan/__ANIMALS/datasets/ds8_auto_label_yolo_architectures/train/images/Uss-2.1.PetrovskyPass_637_3-2-2024_15-16.JPG: corrupt JPEG restored and saved\n",
      "\u001b[34m\u001b[1mtrain: \u001b[0mWARNING ⚠️ /home/jovyan/__ANIMALS/datasets/ds8_auto_label_yolo_architectures/train/images/Uss-2.1.PetrovskyPass_638_3-2-2024_15-44.JPG: corrupt JPEG restored and saved\n",
      "\u001b[34m\u001b[1mtrain: \u001b[0mWARNING ⚠️ /home/jovyan/__ANIMALS/datasets/ds8_auto_label_yolo_architectures/train/images/Uss-2.1.PetrovskyPass_642_3-4-2024_09-18.JPG: corrupt JPEG restored and saved\n",
      "\u001b[34m\u001b[1mtrain: \u001b[0mWARNING ⚠️ /home/jovyan/__ANIMALS/datasets/ds8_auto_label_yolo_architectures/train/images/Uss-2.1.PetrovskyPass_647_3-7-2024_11-40.JPG: corrupt JPEG restored and saved\n",
      "\u001b[34m\u001b[1mtrain: \u001b[0mWARNING ⚠️ /home/jovyan/__ANIMALS/datasets/ds8_auto_label_yolo_architectures/train/images/Uss-2.1.PetrovskyPass_648_3-7-2024_11-47.JPG: corrupt JPEG restored and saved\n",
      "\u001b[34m\u001b[1mtrain: \u001b[0mWARNING ⚠️ /home/jovyan/__ANIMALS/datasets/ds8_auto_label_yolo_architectures/train/images/Uss-2.1.PetrovskyPass_649_3-7-2024_11-53.JPG: corrupt JPEG restored and saved\n",
      "\u001b[34m\u001b[1mtrain: \u001b[0mWARNING ⚠️ /home/jovyan/__ANIMALS/datasets/ds8_auto_label_yolo_architectures/train/images/Uss-2.1.PetrovskyPass_650_3-7-2024_11-53.JPG: corrupt JPEG restored and saved\n",
      "\u001b[34m\u001b[1mtrain: \u001b[0mWARNING ⚠️ /home/jovyan/__ANIMALS/datasets/ds8_auto_label_yolo_architectures/train/images/Uss-2.1.PetrovskyPass_652_3-8-2024_08-40.JPG: corrupt JPEG restored and saved\n",
      "\u001b[34m\u001b[1mtrain: \u001b[0mWARNING ⚠️ /home/jovyan/__ANIMALS/datasets/ds8_auto_label_yolo_architectures/train/images/Uss-2.1.PetrovskyPass_678_3-20-2024_09-36.JPG: corrupt JPEG restored and saved\n",
      "\u001b[34m\u001b[1mtrain: \u001b[0mWARNING ⚠️ /home/jovyan/__ANIMALS/datasets/ds8_auto_label_yolo_architectures/train/images/Uss-2.1.PetrovskyPass_679_3-20-2024_09-37.JPG: corrupt JPEG restored and saved\n",
      "\u001b[34m\u001b[1mtrain: \u001b[0mWARNING ⚠️ /home/jovyan/__ANIMALS/datasets/ds8_auto_label_yolo_architectures/train/images/Uss-2.1.PetrovskyPass_683_3-23-2024_16-31.JPG: corrupt JPEG restored and saved\n",
      "\u001b[34m\u001b[1mtrain: \u001b[0mWARNING ⚠️ /home/jovyan/__ANIMALS/datasets/ds8_auto_label_yolo_architectures/train/images/Uss-2.1.PetrovskyPass_685_3-23-2024_16-32.JPG: corrupt JPEG restored and saved\n",
      "\u001b[34m\u001b[1mtrain: \u001b[0mWARNING ⚠️ /home/jovyan/__ANIMALS/datasets/ds8_auto_label_yolo_architectures/train/images/Uss-2.1.PetrovskyPass_687_3-25-2024_01-32.JPG: corrupt JPEG restored and saved\n",
      "\u001b[34m\u001b[1mtrain: \u001b[0mWARNING ⚠️ /home/jovyan/__ANIMALS/datasets/ds8_auto_label_yolo_architectures/train/images/Uss-2.1.PetrovskyPass_703_4-3-2024_20-56.JPG: corrupt JPEG restored and saved\n",
      "\u001b[34m\u001b[1mtrain: \u001b[0mWARNING ⚠️ /home/jovyan/__ANIMALS/datasets/ds8_auto_label_yolo_architectures/train/images/Uss-2.1.PetrovskyPass_704_4-4-2024_19-44.JPG: corrupt JPEG restored and saved\n",
      "\u001b[34m\u001b[1mtrain: \u001b[0mWARNING ⚠️ /home/jovyan/__ANIMALS/datasets/ds8_auto_label_yolo_architectures/train/images/Uss-2.1.PetrovskyPass_706_4-5-2024_11-52.JPG: corrupt JPEG restored and saved\n",
      "\u001b[34m\u001b[1mtrain: \u001b[0mWARNING ⚠️ /home/jovyan/__ANIMALS/datasets/ds8_auto_label_yolo_architectures/train/images/Uss-2.1.PetrovskyPass_709_4-6-2024_20-08.JPG: corrupt JPEG restored and saved\n",
      "\u001b[34m\u001b[1mtrain: \u001b[0mWARNING ⚠️ /home/jovyan/__ANIMALS/datasets/ds8_auto_label_yolo_architectures/train/images/Uss-2.1.PetrovskyPass_710_4-6-2024_21-19.JPG: corrupt JPEG restored and saved\n",
      "\u001b[34m\u001b[1mtrain: \u001b[0mWARNING ⚠️ /home/jovyan/__ANIMALS/datasets/ds8_auto_label_yolo_architectures/train/images/Uss-2.1.PetrovskyPass_712_4-7-2024_18-32.JPG: corrupt JPEG restored and saved\n",
      "\u001b[34m\u001b[1mtrain: \u001b[0mWARNING ⚠️ /home/jovyan/__ANIMALS/datasets/ds8_auto_label_yolo_architectures/train/images/Uss-2.1.PetrovskyPass_713_4-8-2024_18-55.JPG: corrupt JPEG restored and saved\n",
      "\u001b[34m\u001b[1mtrain: \u001b[0mWARNING ⚠️ /home/jovyan/__ANIMALS/datasets/ds8_auto_label_yolo_architectures/train/images/Uss-2.PetrovskyPass_307_3-22-2024_15-34.JPG: corrupt JPEG restored and saved\n",
      "\u001b[34m\u001b[1mtrain: \u001b[0mWARNING ⚠️ /home/jovyan/__ANIMALS/datasets/ds8_auto_label_yolo_architectures/train/images/Uss-2.PetrovskyPass_314_3-25-2024_01-32.JPG: corrupt JPEG restored and saved\n",
      "\u001b[34m\u001b[1mtrain: \u001b[0mWARNING ⚠️ /home/jovyan/__ANIMALS/datasets/ds8_auto_label_yolo_architectures/train/images/Uss-2.PetrovskyPass_323_3-27-2024_17-34.JPG: corrupt JPEG restored and saved\n",
      "\u001b[34m\u001b[1mtrain: \u001b[0mWARNING ⚠️ /home/jovyan/__ANIMALS/datasets/ds8_auto_label_yolo_architectures/train/images/Uss-2.PetrovskyPass_324_3-27-2024_18-11.JPG: corrupt JPEG restored and saved\n",
      "\u001b[34m\u001b[1mtrain: \u001b[0mWARNING ⚠️ /home/jovyan/__ANIMALS/datasets/ds8_auto_label_yolo_architectures/train/images/Uss-2.PetrovskyPass_344_4-6-2024_20-08.JPG: corrupt JPEG restored and saved\n",
      "\u001b[34m\u001b[1mtrain: \u001b[0mWARNING ⚠️ /home/jovyan/__ANIMALS/datasets/ds8_auto_label_yolo_architectures/train/images/Uss-2.PetrovskyPass_345_4-6-2024_21-18.JPG: corrupt JPEG restored and saved\n",
      "\u001b[34m\u001b[1mtrain: \u001b[0mWARNING ⚠️ /home/jovyan/__ANIMALS/datasets/ds8_auto_label_yolo_architectures/train/images/Uss-21.Otradnayaupper_027_4-10-2024_13-41.JPG: ignoring corrupt image/label: Label class 20 exceeds dataset class count 18. Possible class labels are 0-17\n",
      "\u001b[34m\u001b[1mtrain: \u001b[0mWARNING ⚠️ /home/jovyan/__ANIMALS/datasets/ds8_auto_label_yolo_architectures/train/images/Uss-25.1.PravayaKomarovka_070_12-30-2023_18-23.JPG: corrupt JPEG restored and saved\n",
      "\u001b[34m\u001b[1mtrain: \u001b[0mWARNING ⚠️ /home/jovyan/__ANIMALS/datasets/ds8_auto_label_yolo_architectures/train/images/Uss-25.1.PravayaKomarovka_072_12-30-2023_18-23.JPG: corrupt JPEG restored and saved\n",
      "\u001b[34m\u001b[1mtrain: \u001b[0mWARNING ⚠️ /home/jovyan/__ANIMALS/datasets/ds8_auto_label_yolo_architectures/train/images/Uss-25.1.PravayaKomarovka_073_12-30-2023_18-23.JPG: corrupt JPEG restored and saved\n",
      "\u001b[34m\u001b[1mtrain: \u001b[0mWARNING ⚠️ /home/jovyan/__ANIMALS/datasets/ds8_auto_label_yolo_architectures/train/images/Uss-25.1.PravayaKomarovka_074_12-30-2023_18-23.JPG: corrupt JPEG restored and saved\n",
      "\u001b[34m\u001b[1mtrain: \u001b[0mWARNING ⚠️ /home/jovyan/__ANIMALS/datasets/ds8_auto_label_yolo_architectures/train/images/Uss-25.1.PravayaKomarovka_091_1-6-2024_16-24.JPG: corrupt JPEG restored and saved\n",
      "\u001b[34m\u001b[1mtrain: \u001b[0mWARNING ⚠️ /home/jovyan/__ANIMALS/datasets/ds8_auto_label_yolo_architectures/train/images/Uss-25.1.PravayaKomarovka_092_1-6-2024_16-24.JPG: corrupt JPEG restored and saved\n",
      "\u001b[34m\u001b[1mtrain: \u001b[0mWARNING ⚠️ /home/jovyan/__ANIMALS/datasets/ds8_auto_label_yolo_architectures/train/images/Uss-25.1.PravayaKomarovka_093_1-6-2024_16-25.JPG: corrupt JPEG restored and saved\n",
      "\u001b[34m\u001b[1mtrain: \u001b[0mWARNING ⚠️ /home/jovyan/__ANIMALS/datasets/ds8_auto_label_yolo_architectures/train/images/Uss-25.1.PravayaKomarovka_094_1-6-2024_16-28.JPG: corrupt JPEG restored and saved\n",
      "\u001b[34m\u001b[1mtrain: \u001b[0mWARNING ⚠️ /home/jovyan/__ANIMALS/datasets/ds8_auto_label_yolo_architectures/train/images/Uss-25.1.PravayaKomarovka_124_1-13-2024_18-51.JPG: corrupt JPEG restored and saved\n",
      "\u001b[34m\u001b[1mtrain: \u001b[0mWARNING ⚠️ /home/jovyan/__ANIMALS/datasets/ds8_auto_label_yolo_architectures/train/images/Uss-25.1.PravayaKomarovka_133_1-14-2024_09-24.JPG: corrupt JPEG restored and saved\n",
      "\u001b[34m\u001b[1mtrain: \u001b[0mWARNING ⚠️ /home/jovyan/__ANIMALS/datasets/ds8_auto_label_yolo_architectures/train/images/Uss-25.1.PravayaKomarovka_135_1-14-2024_09-26.JPG: corrupt JPEG restored and saved\n",
      "\u001b[34m\u001b[1mtrain: \u001b[0mWARNING ⚠️ /home/jovyan/__ANIMALS/datasets/ds8_auto_label_yolo_architectures/train/images/Uss-25.1.PravayaKomarovka_136_1-14-2024_09-26.JPG: corrupt JPEG restored and saved\n",
      "\u001b[34m\u001b[1mtrain: \u001b[0mWARNING ⚠️ /home/jovyan/__ANIMALS/datasets/ds8_auto_label_yolo_architectures/train/images/Uss-25.1.PravayaKomarovka_138_1-14-2024_09-34.JPG: corrupt JPEG restored and saved\n",
      "\u001b[34m\u001b[1mtrain: \u001b[0mWARNING ⚠️ /home/jovyan/__ANIMALS/datasets/ds8_auto_label_yolo_architectures/train/images/Uss-25.1.PravayaKomarovka_139_1-14-2024_09-35.JPG: corrupt JPEG restored and saved\n",
      "\u001b[34m\u001b[1mtrain: \u001b[0mWARNING ⚠️ /home/jovyan/__ANIMALS/datasets/ds8_auto_label_yolo_architectures/train/images/Uss-25.1.PravayaKomarovka_140_1-14-2024_09-35.JPG: corrupt JPEG restored and saved\n",
      "\u001b[34m\u001b[1mtrain: \u001b[0mWARNING ⚠️ /home/jovyan/__ANIMALS/datasets/ds8_auto_label_yolo_architectures/train/images/Uss-25.1.PravayaKomarovka_142_1-14-2024_10-45.JPG: corrupt JPEG restored and saved\n",
      "\u001b[34m\u001b[1mtrain: \u001b[0mWARNING ⚠️ /home/jovyan/__ANIMALS/datasets/ds8_auto_label_yolo_architectures/train/images/Uss-25.1.PravayaKomarovka_143_1-14-2024_10-46.JPG: corrupt JPEG restored and saved\n",
      "\u001b[34m\u001b[1mtrain: \u001b[0mWARNING ⚠️ /home/jovyan/__ANIMALS/datasets/ds8_auto_label_yolo_architectures/train/images/Uss-25.1.PravayaKomarovka_144_1-14-2024_10-46.JPG: corrupt JPEG restored and saved\n",
      "\u001b[34m\u001b[1mtrain: \u001b[0mWARNING ⚠️ /home/jovyan/__ANIMALS/datasets/ds8_auto_label_yolo_architectures/train/images/Uss-25.1.PravayaKomarovka_145_1-14-2024_10-47.JPG: corrupt JPEG restored and saved\n",
      "\u001b[34m\u001b[1mtrain: \u001b[0mWARNING ⚠️ /home/jovyan/__ANIMALS/datasets/ds8_auto_label_yolo_architectures/train/images/Uss-25.1.PravayaKomarovka_146_1-14-2024_10-49.JPG: corrupt JPEG restored and saved\n",
      "\u001b[34m\u001b[1mtrain: \u001b[0mWARNING ⚠️ /home/jovyan/__ANIMALS/datasets/ds8_auto_label_yolo_architectures/train/images/Uss-25.1.PravayaKomarovka_148_1-14-2024_10-50.JPG: corrupt JPEG restored and saved\n",
      "\u001b[34m\u001b[1mtrain: \u001b[0mWARNING ⚠️ /home/jovyan/__ANIMALS/datasets/ds8_auto_label_yolo_architectures/train/images/Uss-25.1.PravayaKomarovka_149_1-14-2024_10-51.JPG: corrupt JPEG restored and saved\n",
      "\u001b[34m\u001b[1mtrain: \u001b[0mWARNING ⚠️ /home/jovyan/__ANIMALS/datasets/ds8_auto_label_yolo_architectures/train/images/Uss-25.1.PravayaKomarovka_151_1-15-2024_00-45.JPG: corrupt JPEG restored and saved\n",
      "\u001b[34m\u001b[1mtrain: \u001b[0mWARNING ⚠️ /home/jovyan/__ANIMALS/datasets/ds8_auto_label_yolo_architectures/train/images/Uss-25.1.PravayaKomarovka_166_1-18-2024_19-03.JPG: corrupt JPEG restored and saved\n",
      "\u001b[34m\u001b[1mtrain: \u001b[0mWARNING ⚠️ /home/jovyan/__ANIMALS/datasets/ds8_auto_label_yolo_architectures/train/images/Uss-25.1.PravayaKomarovka_168_1-18-2024_19-06.JPG: corrupt JPEG restored and saved\n",
      "\u001b[34m\u001b[1mtrain: \u001b[0mWARNING ⚠️ /home/jovyan/__ANIMALS/datasets/ds8_auto_label_yolo_architectures/train/images/Uss-25.1.PravayaKomarovka_169_1-18-2024_19-15.JPG: corrupt JPEG restored and saved\n",
      "\u001b[34m\u001b[1mtrain: \u001b[0mWARNING ⚠️ /home/jovyan/__ANIMALS/datasets/ds8_auto_label_yolo_architectures/train/images/Uss-25.1.PravayaKomarovka_170_1-19-2024_10-57.JPG: corrupt JPEG restored and saved\n",
      "\u001b[34m\u001b[1mtrain: \u001b[0mWARNING ⚠️ /home/jovyan/__ANIMALS/datasets/ds8_auto_label_yolo_architectures/train/images/Uss-25.1.PravayaKomarovka_171_1-19-2024_10-57.JPG: corrupt JPEG restored and saved\n",
      "\u001b[34m\u001b[1mtrain: \u001b[0mWARNING ⚠️ /home/jovyan/__ANIMALS/datasets/ds8_auto_label_yolo_architectures/train/images/Uss-25.1.PravayaKomarovka_172_1-19-2024_11-00.JPG: corrupt JPEG restored and saved\n",
      "\u001b[34m\u001b[1mtrain: \u001b[0mWARNING ⚠️ /home/jovyan/__ANIMALS/datasets/ds8_auto_label_yolo_architectures/train/images/Uss-25.1.PravayaKomarovka_173_1-19-2024_11-01.JPG: corrupt JPEG restored and saved\n",
      "\u001b[34m\u001b[1mtrain: \u001b[0mWARNING ⚠️ /home/jovyan/__ANIMALS/datasets/ds8_auto_label_yolo_architectures/train/images/Uss-25.1.PravayaKomarovka_174_1-19-2024_11-14.JPG: corrupt JPEG restored and saved\n",
      "\u001b[34m\u001b[1mtrain: \u001b[0mWARNING ⚠️ /home/jovyan/__ANIMALS/datasets/ds8_auto_label_yolo_architectures/train/images/Uss-25.1.PravayaKomarovka_175_1-19-2024_11-14.JPG: corrupt JPEG restored and saved\n",
      "\u001b[34m\u001b[1mtrain: \u001b[0mWARNING ⚠️ /home/jovyan/__ANIMALS/datasets/ds8_auto_label_yolo_architectures/train/images/Uss-25.1.PravayaKomarovka_178_1-19-2024_11-15.JPG: corrupt JPEG restored and saved\n",
      "\u001b[34m\u001b[1mtrain: \u001b[0mWARNING ⚠️ /home/jovyan/__ANIMALS/datasets/ds8_auto_label_yolo_architectures/train/images/Uss-25.1.PravayaKomarovka_179_1-19-2024_11-24.JPG: corrupt JPEG restored and saved\n",
      "\u001b[34m\u001b[1mtrain: \u001b[0mWARNING ⚠️ /home/jovyan/__ANIMALS/datasets/ds8_auto_label_yolo_architectures/train/images/Uss-25.1.PravayaKomarovka_180_1-19-2024_11-24.JPG: corrupt JPEG restored and saved\n",
      "\u001b[34m\u001b[1mtrain: \u001b[0mWARNING ⚠️ /home/jovyan/__ANIMALS/datasets/ds8_auto_label_yolo_architectures/train/images/Uss-25.1.PravayaKomarovka_181_1-19-2024_11-25.JPG: corrupt JPEG restored and saved\n",
      "\u001b[34m\u001b[1mtrain: \u001b[0mWARNING ⚠️ /home/jovyan/__ANIMALS/datasets/ds8_auto_label_yolo_architectures/train/images/Uss-25.1.PravayaKomarovka_183_1-19-2024_11-27.JPG: corrupt JPEG restored and saved\n",
      "\u001b[34m\u001b[1mtrain: \u001b[0mWARNING ⚠️ /home/jovyan/__ANIMALS/datasets/ds8_auto_label_yolo_architectures/train/images/Uss-25.1.PravayaKomarovka_184_1-19-2024_11-34.JPG: corrupt JPEG restored and saved\n",
      "\u001b[34m\u001b[1mtrain: \u001b[0mWARNING ⚠️ /home/jovyan/__ANIMALS/datasets/ds8_auto_label_yolo_architectures/train/images/Uss-25.1.PravayaKomarovka_185_1-19-2024_12-03.JPG: corrupt JPEG restored and saved\n",
      "\u001b[34m\u001b[1mtrain: \u001b[0mWARNING ⚠️ /home/jovyan/__ANIMALS/datasets/ds8_auto_label_yolo_architectures/train/images/Uss-25.1.PravayaKomarovka_187_1-19-2024_12-04.JPG: corrupt JPEG restored and saved\n",
      "\u001b[34m\u001b[1mtrain: \u001b[0mWARNING ⚠️ /home/jovyan/__ANIMALS/datasets/ds8_auto_label_yolo_architectures/train/images/Uss-25.1.PravayaKomarovka_192_1-21-2024_10-27.JPG: corrupt JPEG restored and saved\n",
      "\u001b[34m\u001b[1mtrain: \u001b[0mWARNING ⚠️ /home/jovyan/__ANIMALS/datasets/ds8_auto_label_yolo_architectures/train/images/Uss-25.1.PravayaKomarovka_193_1-21-2024_10-28.JPG: corrupt JPEG restored and saved\n",
      "\u001b[34m\u001b[1mtrain: \u001b[0mWARNING ⚠️ /home/jovyan/__ANIMALS/datasets/ds8_auto_label_yolo_architectures/train/images/Uss-25.1.PravayaKomarovka_194_1-21-2024_10-29.JPG: corrupt JPEG restored and saved\n",
      "\u001b[34m\u001b[1mtrain: \u001b[0mWARNING ⚠️ /home/jovyan/__ANIMALS/datasets/ds8_auto_label_yolo_architectures/train/images/Uss-25.1.PravayaKomarovka_196_1-21-2024_10-30.JPG: corrupt JPEG restored and saved\n",
      "\u001b[34m\u001b[1mtrain: \u001b[0mWARNING ⚠️ /home/jovyan/__ANIMALS/datasets/ds8_auto_label_yolo_architectures/train/images/Uss-25.1.PravayaKomarovka_197_1-21-2024_10-33.JPG: corrupt JPEG restored and saved\n",
      "\u001b[34m\u001b[1mtrain: \u001b[0mWARNING ⚠️ /home/jovyan/__ANIMALS/datasets/ds8_auto_label_yolo_architectures/train/images/Uss-25.1.PravayaKomarovka_198_1-21-2024_10-44.JPG: corrupt JPEG restored and saved\n",
      "\u001b[34m\u001b[1mtrain: \u001b[0mWARNING ⚠️ /home/jovyan/__ANIMALS/datasets/ds8_auto_label_yolo_architectures/train/images/Uss-25.1.PravayaKomarovka_199_1-21-2024_10-44.JPG: corrupt JPEG restored and saved\n",
      "\u001b[34m\u001b[1mtrain: \u001b[0mWARNING ⚠️ /home/jovyan/__ANIMALS/datasets/ds8_auto_label_yolo_architectures/train/images/Uss-25.1.PravayaKomarovka_200_1-21-2024_10-44.JPG: corrupt JPEG restored and saved\n",
      "\u001b[34m\u001b[1mtrain: \u001b[0mWARNING ⚠️ /home/jovyan/__ANIMALS/datasets/ds8_auto_label_yolo_architectures/train/images/Uss-25.1.PravayaKomarovka_201_1-21-2024_10-46.JPG: corrupt JPEG restored and saved\n",
      "\u001b[34m\u001b[1mtrain: \u001b[0mWARNING ⚠️ /home/jovyan/__ANIMALS/datasets/ds8_auto_label_yolo_architectures/train/images/Uss-25.1.PravayaKomarovka_203_1-21-2024_13-23.JPG: corrupt JPEG restored and saved\n",
      "\u001b[34m\u001b[1mtrain: \u001b[0mWARNING ⚠️ /home/jovyan/__ANIMALS/datasets/ds8_auto_label_yolo_architectures/train/images/Uss-25.1.PravayaKomarovka_204_1-21-2024_13-23.JPG: corrupt JPEG restored and saved\n",
      "\u001b[34m\u001b[1mtrain: \u001b[0mWARNING ⚠️ /home/jovyan/__ANIMALS/datasets/ds8_auto_label_yolo_architectures/train/images/Uss-25.1.PravayaKomarovka_205_1-21-2024_13-23.JPG: corrupt JPEG restored and saved\n",
      "\u001b[34m\u001b[1mtrain: \u001b[0mWARNING ⚠️ /home/jovyan/__ANIMALS/datasets/ds8_auto_label_yolo_architectures/train/images/Uss-25.1.PravayaKomarovka_206_1-21-2024_13-24.JPG: corrupt JPEG restored and saved\n",
      "\u001b[34m\u001b[1mtrain: \u001b[0mWARNING ⚠️ /home/jovyan/__ANIMALS/datasets/ds8_auto_label_yolo_architectures/train/images/Uss-25.1.PravayaKomarovka_207_1-21-2024_13-24.JPG: corrupt JPEG restored and saved\n",
      "\u001b[34m\u001b[1mtrain: \u001b[0mWARNING ⚠️ /home/jovyan/__ANIMALS/datasets/ds8_auto_label_yolo_architectures/train/images/Uss-25.1.PravayaKomarovka_235_1-25-2024_12-43.JPG: corrupt JPEG restored and saved\n",
      "\u001b[34m\u001b[1mtrain: \u001b[0mWARNING ⚠️ /home/jovyan/__ANIMALS/datasets/ds8_auto_label_yolo_architectures/train/images/Uss-25.1.PravayaKomarovka_236_1-25-2024_12-43.JPG: corrupt JPEG restored and saved\n",
      "\u001b[34m\u001b[1mtrain: \u001b[0mWARNING ⚠️ /home/jovyan/__ANIMALS/datasets/ds8_auto_label_yolo_architectures/train/images/Uss-25.1.PravayaKomarovka_237_1-25-2024_12-45.JPG: corrupt JPEG restored and saved\n",
      "\u001b[34m\u001b[1mtrain: \u001b[0mWARNING ⚠️ /home/jovyan/__ANIMALS/datasets/ds8_auto_label_yolo_architectures/train/images/aug_yellow_marten_0.JPG: ignoring corrupt image/label: Label class 20 exceeds dataset class count 18. Possible class labels are 0-17\n",
      "\u001b[34m\u001b[1mtrain: \u001b[0mWARNING ⚠️ /home/jovyan/__ANIMALS/datasets/ds8_auto_label_yolo_architectures/train/images/aug_yellow_marten_1.JPG: ignoring corrupt image/label: Label class 20 exceeds dataset class count 18. Possible class labels are 0-17\n",
      "\u001b[34m\u001b[1mtrain: \u001b[0mWARNING ⚠️ /home/jovyan/__ANIMALS/datasets/ds8_auto_label_yolo_architectures/train/images/aug_yellow_marten_2.JPG: ignoring corrupt image/label: Label class 20 exceeds dataset class count 18. Possible class labels are 0-17\n",
      "\u001b[34m\u001b[1mtrain: \u001b[0mWARNING ⚠️ /home/jovyan/__ANIMALS/datasets/ds8_auto_label_yolo_architectures/train/images/aug_yellow_marten_3.JPG: ignoring corrupt image/label: Label class 20 exceeds dataset class count 18. Possible class labels are 0-17\n",
      "\u001b[34m\u001b[1mtrain: \u001b[0mWARNING ⚠️ /home/jovyan/__ANIMALS/datasets/ds8_auto_label_yolo_architectures/train/images/aug_yellow_marten_4.JPG: ignoring corrupt image/label: Label class 20 exceeds dataset class count 18. Possible class labels are 0-17\n",
      "\u001b[34m\u001b[1mtrain: \u001b[0mWARNING ⚠️ /home/jovyan/__ANIMALS/datasets/ds8_auto_label_yolo_architectures/train/images/aug_yellow_marten_5.JPG: ignoring corrupt image/label: Label class 20 exceeds dataset class count 18. Possible class labels are 0-17\n",
      "\u001b[34m\u001b[1mtrain: \u001b[0mWARNING ⚠️ /home/jovyan/__ANIMALS/datasets/ds8_auto_label_yolo_architectures/train/images/aug_yellow_marten_6.JPG: ignoring corrupt image/label: Label class 20 exceeds dataset class count 18. Possible class labels are 0-17\n",
      "\u001b[34m\u001b[1mtrain: \u001b[0mWARNING ⚠️ /home/jovyan/__ANIMALS/datasets/ds8_auto_label_yolo_architectures/train/images/aug_yellow_marten_7.JPG: ignoring corrupt image/label: Label class 20 exceeds dataset class count 18. Possible class labels are 0-17\n",
      "\u001b[34m\u001b[1mtrain: \u001b[0mWARNING ⚠️ /home/jovyan/__ANIMALS/datasets/ds8_auto_label_yolo_architectures/train/images/aug_yellow_marten_8.JPG: ignoring corrupt image/label: Label class 20 exceeds dataset class count 18. Possible class labels are 0-17\n"
     ]
    },
    {
     "name": "stderr",
     "output_type": "stream",
     "text": [
      "\n",
      "\u001b[34m\u001b[1mtrain: \u001b[0mCaching images (17.2GB Disk): 100%|██████████| 1954/1954 [01:52<00:00, 17.40it/s]\n"
     ]
    },
    {
     "name": "stdout",
     "output_type": "stream",
     "text": [
      "\u001b[34m\u001b[1malbumentations: \u001b[0mBlur(p=0.01, blur_limit=(3, 7)), MedianBlur(p=0.01, blur_limit=(3, 7)), ToGray(p=0.01, num_output_channels=3, method='weighted_average'), CLAHE(p=0.01, clip_limit=(1.0, 4.0), tile_grid_size=(8, 8))\n"
     ]
    },
    {
     "name": "stderr",
     "output_type": "stream",
     "text": [
      "\u001b[34m\u001b[1mval: \u001b[0mScanning /home/jovyan/__ANIMALS/datasets/ds8_auto_label_yolo_architectures/val/labels.cache... 518 images, 0 backgrounds, 3 corrupt: 100%|██████████| 518/518 [00:00<?, ?it/s]"
     ]
    },
    {
     "name": "stdout",
     "output_type": "stream",
     "text": [
      "\u001b[34m\u001b[1mval: \u001b[0mWARNING ⚠️ /home/jovyan/__ANIMALS/datasets/ds8_auto_label_yolo_architectures/val/images/Uss-1.1.AnikinRidge_007_1-13-2024_13-12.JPG: ignoring corrupt image/label: Label class 20 exceeds dataset class count 18. Possible class labels are 0-17\n",
      "\u001b[34m\u001b[1mval: \u001b[0mWARNING ⚠️ /home/jovyan/__ANIMALS/datasets/ds8_auto_label_yolo_architectures/val/images/Uss-16.1.DubovyCreek_006_2-18-2024_00-00.JPG: corrupt JPEG restored and saved\n",
      "\u001b[34m\u001b[1mval: \u001b[0mWARNING ⚠️ /home/jovyan/__ANIMALS/datasets/ds8_auto_label_yolo_architectures/val/images/Uss-16.1.DubovyCreek_007_3-4-2024_03-03.JPG: corrupt JPEG restored and saved\n",
      "\u001b[34m\u001b[1mval: \u001b[0mWARNING ⚠️ /home/jovyan/__ANIMALS/datasets/ds8_auto_label_yolo_architectures/val/images/Uss-17.Volkha_102_3-24-2024_11-57.JPG: ignoring corrupt image/label: Label class 20 exceeds dataset class count 18. Possible class labels are 0-17\n",
      "\u001b[34m\u001b[1mval: \u001b[0mWARNING ⚠️ /home/jovyan/__ANIMALS/datasets/ds8_auto_label_yolo_architectures/val/images/Uss-2.1.PetrovskyPass_158_1-11-2024_10-10.JPG: corrupt JPEG restored and saved\n",
      "\u001b[34m\u001b[1mval: \u001b[0mWARNING ⚠️ /home/jovyan/__ANIMALS/datasets/ds8_auto_label_yolo_architectures/val/images/Uss-2.1.PetrovskyPass_161_1-11-2024_10-30.JPG: corrupt JPEG restored and saved\n",
      "\u001b[34m\u001b[1mval: \u001b[0mWARNING ⚠️ /home/jovyan/__ANIMALS/datasets/ds8_auto_label_yolo_architectures/val/images/Uss-2.1.PetrovskyPass_179_1-11-2024_12-10.JPG: corrupt JPEG restored and saved\n",
      "\u001b[34m\u001b[1mval: \u001b[0mWARNING ⚠️ /home/jovyan/__ANIMALS/datasets/ds8_auto_label_yolo_architectures/val/images/Uss-2.1.PetrovskyPass_188_1-11-2024_17-34.JPG: corrupt JPEG restored and saved\n",
      "\u001b[34m\u001b[1mval: \u001b[0mWARNING ⚠️ /home/jovyan/__ANIMALS/datasets/ds8_auto_label_yolo_architectures/val/images/Uss-2.1.PetrovskyPass_220_1-14-2024_10-03.JPG: corrupt JPEG restored and saved\n",
      "\u001b[34m\u001b[1mval: \u001b[0mWARNING ⚠️ /home/jovyan/__ANIMALS/datasets/ds8_auto_label_yolo_architectures/val/images/Uss-2.1.PetrovskyPass_228_1-15-2024_17-31.JPG: corrupt JPEG restored and saved\n",
      "\u001b[34m\u001b[1mval: \u001b[0mWARNING ⚠️ /home/jovyan/__ANIMALS/datasets/ds8_auto_label_yolo_architectures/val/images/Uss-2.1.PetrovskyPass_266_1-20-2024_00-21.JPG: corrupt JPEG restored and saved\n",
      "\u001b[34m\u001b[1mval: \u001b[0mWARNING ⚠️ /home/jovyan/__ANIMALS/datasets/ds8_auto_label_yolo_architectures/val/images/Uss-2.1.PetrovskyPass_268_1-20-2024_00-24.JPG: corrupt JPEG restored and saved\n",
      "\u001b[34m\u001b[1mval: \u001b[0mWARNING ⚠️ /home/jovyan/__ANIMALS/datasets/ds8_auto_label_yolo_architectures/val/images/Uss-2.1.PetrovskyPass_282_1-25-2024_16-21.JPG: corrupt JPEG restored and saved\n",
      "\u001b[34m\u001b[1mval: \u001b[0mWARNING ⚠️ /home/jovyan/__ANIMALS/datasets/ds8_auto_label_yolo_architectures/val/images/Uss-2.1.PetrovskyPass_344_1-29-2024_16-53.JPG: corrupt JPEG restored and saved\n",
      "\u001b[34m\u001b[1mval: \u001b[0mWARNING ⚠️ /home/jovyan/__ANIMALS/datasets/ds8_auto_label_yolo_architectures/val/images/Uss-2.1.PetrovskyPass_347_1-29-2024_17-00.JPG: corrupt JPEG restored and saved\n",
      "\u001b[34m\u001b[1mval: \u001b[0mWARNING ⚠️ /home/jovyan/__ANIMALS/datasets/ds8_auto_label_yolo_architectures/val/images/Uss-2.1.PetrovskyPass_361_1-29-2024_21-17.JPG: corrupt JPEG restored and saved\n",
      "\u001b[34m\u001b[1mval: \u001b[0mWARNING ⚠️ /home/jovyan/__ANIMALS/datasets/ds8_auto_label_yolo_architectures/val/images/Uss-2.1.PetrovskyPass_385_1-30-2024_10-08.JPG: corrupt JPEG restored and saved\n",
      "\u001b[34m\u001b[1mval: \u001b[0mWARNING ⚠️ /home/jovyan/__ANIMALS/datasets/ds8_auto_label_yolo_architectures/val/images/Uss-2.1.PetrovskyPass_407_1-31-2024_03-10.JPG: corrupt JPEG restored and saved\n",
      "\u001b[34m\u001b[1mval: \u001b[0mWARNING ⚠️ /home/jovyan/__ANIMALS/datasets/ds8_auto_label_yolo_architectures/val/images/Uss-2.1.PetrovskyPass_416_1-31-2024_04-13.JPG: corrupt JPEG restored and saved\n",
      "\u001b[34m\u001b[1mval: \u001b[0mWARNING ⚠️ /home/jovyan/__ANIMALS/datasets/ds8_auto_label_yolo_architectures/val/images/Uss-2.1.PetrovskyPass_452_2-3-2024_16-56.JPG: corrupt JPEG restored and saved\n",
      "\u001b[34m\u001b[1mval: \u001b[0mWARNING ⚠️ /home/jovyan/__ANIMALS/datasets/ds8_auto_label_yolo_architectures/val/images/Uss-2.1.PetrovskyPass_458_2-5-2024_02-37.JPG: corrupt JPEG restored and saved\n",
      "\u001b[34m\u001b[1mval: \u001b[0mWARNING ⚠️ /home/jovyan/__ANIMALS/datasets/ds8_auto_label_yolo_architectures/val/images/Uss-2.1.PetrovskyPass_459_2-5-2024_02-42.JPG: corrupt JPEG restored and saved\n",
      "\u001b[34m\u001b[1mval: \u001b[0mWARNING ⚠️ /home/jovyan/__ANIMALS/datasets/ds8_auto_label_yolo_architectures/val/images/Uss-2.1.PetrovskyPass_466_2-5-2024_16-04.JPG: corrupt JPEG restored and saved\n",
      "\u001b[34m\u001b[1mval: \u001b[0mWARNING ⚠️ /home/jovyan/__ANIMALS/datasets/ds8_auto_label_yolo_architectures/val/images/Uss-2.1.PetrovskyPass_468_2-5-2024_16-05.JPG: corrupt JPEG restored and saved\n",
      "\u001b[34m\u001b[1mval: \u001b[0mWARNING ⚠️ /home/jovyan/__ANIMALS/datasets/ds8_auto_label_yolo_architectures/val/images/Uss-2.1.PetrovskyPass_469_2-5-2024_16-06.JPG: corrupt JPEG restored and saved\n",
      "\u001b[34m\u001b[1mval: \u001b[0mWARNING ⚠️ /home/jovyan/__ANIMALS/datasets/ds8_auto_label_yolo_architectures/val/images/Uss-2.1.PetrovskyPass_474_2-6-2024_04-31.JPG: corrupt JPEG restored and saved\n",
      "\u001b[34m\u001b[1mval: \u001b[0mWARNING ⚠️ /home/jovyan/__ANIMALS/datasets/ds8_auto_label_yolo_architectures/val/images/Uss-2.1.PetrovskyPass_480_2-6-2024_09-56.JPG: corrupt JPEG restored and saved\n",
      "\u001b[34m\u001b[1mval: \u001b[0mWARNING ⚠️ /home/jovyan/__ANIMALS/datasets/ds8_auto_label_yolo_architectures/val/images/Uss-2.1.PetrovskyPass_482_2-6-2024_11-44.JPG: corrupt JPEG restored and saved\n",
      "\u001b[34m\u001b[1mval: \u001b[0mWARNING ⚠️ /home/jovyan/__ANIMALS/datasets/ds8_auto_label_yolo_architectures/val/images/Uss-2.1.PetrovskyPass_488_2-8-2024_04-53.JPG: corrupt JPEG restored and saved\n",
      "\u001b[34m\u001b[1mval: \u001b[0mWARNING ⚠️ /home/jovyan/__ANIMALS/datasets/ds8_auto_label_yolo_architectures/val/images/Uss-2.1.PetrovskyPass_501_2-11-2024_09-23.JPG: corrupt JPEG restored and saved\n",
      "\u001b[34m\u001b[1mval: \u001b[0mWARNING ⚠️ /home/jovyan/__ANIMALS/datasets/ds8_auto_label_yolo_architectures/val/images/Uss-2.1.PetrovskyPass_507_2-12-2024_15-52.JPG: corrupt JPEG restored and saved\n",
      "\u001b[34m\u001b[1mval: \u001b[0mWARNING ⚠️ /home/jovyan/__ANIMALS/datasets/ds8_auto_label_yolo_architectures/val/images/Uss-2.1.PetrovskyPass_511_2-13-2024_01-59.JPG: corrupt JPEG restored and saved\n",
      "\u001b[34m\u001b[1mval: \u001b[0mWARNING ⚠️ /home/jovyan/__ANIMALS/datasets/ds8_auto_label_yolo_architectures/val/images/Uss-2.1.PetrovskyPass_522_2-16-2024_17-41.JPG: corrupt JPEG restored and saved\n",
      "\u001b[34m\u001b[1mval: \u001b[0mWARNING ⚠️ /home/jovyan/__ANIMALS/datasets/ds8_auto_label_yolo_architectures/val/images/Uss-2.1.PetrovskyPass_531_2-17-2024_13-18.JPG: corrupt JPEG restored and saved\n",
      "\u001b[34m\u001b[1mval: \u001b[0mWARNING ⚠️ /home/jovyan/__ANIMALS/datasets/ds8_auto_label_yolo_architectures/val/images/Uss-2.1.PetrovskyPass_533_2-17-2024_13-21.JPG: corrupt JPEG restored and saved\n",
      "\u001b[34m\u001b[1mval: \u001b[0mWARNING ⚠️ /home/jovyan/__ANIMALS/datasets/ds8_auto_label_yolo_architectures/val/images/Uss-2.1.PetrovskyPass_536_2-17-2024_14-01.JPG: corrupt JPEG restored and saved\n",
      "\u001b[34m\u001b[1mval: \u001b[0mWARNING ⚠️ /home/jovyan/__ANIMALS/datasets/ds8_auto_label_yolo_architectures/val/images/Uss-2.1.PetrovskyPass_538_2-17-2024_14-24.JPG: corrupt JPEG restored and saved\n",
      "\u001b[34m\u001b[1mval: \u001b[0mWARNING ⚠️ /home/jovyan/__ANIMALS/datasets/ds8_auto_label_yolo_architectures/val/images/Uss-2.1.PetrovskyPass_543_2-17-2024_18-13.JPG: corrupt JPEG restored and saved\n",
      "\u001b[34m\u001b[1mval: \u001b[0mWARNING ⚠️ /home/jovyan/__ANIMALS/datasets/ds8_auto_label_yolo_architectures/val/images/Uss-2.1.PetrovskyPass_551_2-18-2024_09-10.JPG: corrupt JPEG restored and saved\n",
      "\u001b[34m\u001b[1mval: \u001b[0mWARNING ⚠️ /home/jovyan/__ANIMALS/datasets/ds8_auto_label_yolo_architectures/val/images/Uss-2.1.PetrovskyPass_552_2-18-2024_09-56.JPG: corrupt JPEG restored and saved\n",
      "\u001b[34m\u001b[1mval: \u001b[0mWARNING ⚠️ /home/jovyan/__ANIMALS/datasets/ds8_auto_label_yolo_architectures/val/images/Uss-2.1.PetrovskyPass_555_2-18-2024_10-58.JPG: corrupt JPEG restored and saved\n",
      "\u001b[34m\u001b[1mval: \u001b[0mWARNING ⚠️ /home/jovyan/__ANIMALS/datasets/ds8_auto_label_yolo_architectures/val/images/Uss-2.1.PetrovskyPass_559_2-18-2024_11-29.JPG: corrupt JPEG restored and saved\n",
      "\u001b[34m\u001b[1mval: \u001b[0mWARNING ⚠️ /home/jovyan/__ANIMALS/datasets/ds8_auto_label_yolo_architectures/val/images/Uss-2.1.PetrovskyPass_560_2-18-2024_11-32.JPG: corrupt JPEG restored and saved\n",
      "\u001b[34m\u001b[1mval: \u001b[0mWARNING ⚠️ /home/jovyan/__ANIMALS/datasets/ds8_auto_label_yolo_architectures/val/images/Uss-2.1.PetrovskyPass_566_2-18-2024_14-35.JPG: corrupt JPEG restored and saved\n",
      "\u001b[34m\u001b[1mval: \u001b[0mWARNING ⚠️ /home/jovyan/__ANIMALS/datasets/ds8_auto_label_yolo_architectures/val/images/Uss-2.1.PetrovskyPass_576_2-19-2024_21-58.JPG: corrupt JPEG restored and saved\n",
      "\u001b[34m\u001b[1mval: \u001b[0mWARNING ⚠️ /home/jovyan/__ANIMALS/datasets/ds8_auto_label_yolo_architectures/val/images/Uss-2.1.PetrovskyPass_583_2-20-2024_03-58.JPG: corrupt JPEG restored and saved\n",
      "\u001b[34m\u001b[1mval: \u001b[0mWARNING ⚠️ /home/jovyan/__ANIMALS/datasets/ds8_auto_label_yolo_architectures/val/images/Uss-2.1.PetrovskyPass_596_2-25-2024_10-00.JPG: corrupt JPEG restored and saved\n",
      "\u001b[34m\u001b[1mval: \u001b[0mWARNING ⚠️ /home/jovyan/__ANIMALS/datasets/ds8_auto_label_yolo_architectures/val/images/Uss-2.1.PetrovskyPass_597_2-25-2024_10-01.JPG: corrupt JPEG restored and saved\n",
      "\u001b[34m\u001b[1mval: \u001b[0mWARNING ⚠️ /home/jovyan/__ANIMALS/datasets/ds8_auto_label_yolo_architectures/val/images/Uss-2.1.PetrovskyPass_598_2-25-2024_10-05.JPG: corrupt JPEG restored and saved\n",
      "\u001b[34m\u001b[1mval: \u001b[0mWARNING ⚠️ /home/jovyan/__ANIMALS/datasets/ds8_auto_label_yolo_architectures/val/images/Uss-2.1.PetrovskyPass_606_2-25-2024_10-26.JPG: corrupt JPEG restored and saved\n",
      "\u001b[34m\u001b[1mval: \u001b[0mWARNING ⚠️ /home/jovyan/__ANIMALS/datasets/ds8_auto_label_yolo_architectures/val/images/Uss-2.1.PetrovskyPass_616_2-25-2024_11-03.JPG: corrupt JPEG restored and saved\n",
      "\u001b[34m\u001b[1mval: \u001b[0mWARNING ⚠️ /home/jovyan/__ANIMALS/datasets/ds8_auto_label_yolo_architectures/val/images/Uss-2.1.PetrovskyPass_617_2-25-2024_11-08.JPG: corrupt JPEG restored and saved\n",
      "\u001b[34m\u001b[1mval: \u001b[0mWARNING ⚠️ /home/jovyan/__ANIMALS/datasets/ds8_auto_label_yolo_architectures/val/images/Uss-2.1.PetrovskyPass_624_2-25-2024_11-25.JPG: corrupt JPEG restored and saved\n",
      "\u001b[34m\u001b[1mval: \u001b[0mWARNING ⚠️ /home/jovyan/__ANIMALS/datasets/ds8_auto_label_yolo_architectures/val/images/Uss-2.1.PetrovskyPass_625_2-25-2024_11-30.JPG: corrupt JPEG restored and saved\n",
      "\u001b[34m\u001b[1mval: \u001b[0mWARNING ⚠️ /home/jovyan/__ANIMALS/datasets/ds8_auto_label_yolo_architectures/val/images/Uss-2.1.PetrovskyPass_626_2-25-2024_11-33.JPG: corrupt JPEG restored and saved\n",
      "\u001b[34m\u001b[1mval: \u001b[0mWARNING ⚠️ /home/jovyan/__ANIMALS/datasets/ds8_auto_label_yolo_architectures/val/images/Uss-2.1.PetrovskyPass_634_3-1-2024_14-40.JPG: corrupt JPEG restored and saved\n",
      "\u001b[34m\u001b[1mval: \u001b[0mWARNING ⚠️ /home/jovyan/__ANIMALS/datasets/ds8_auto_label_yolo_architectures/val/images/Uss-2.1.PetrovskyPass_648_3-7-2024_11-47.JPG: corrupt JPEG restored and saved\n",
      "\u001b[34m\u001b[1mval: \u001b[0mWARNING ⚠️ /home/jovyan/__ANIMALS/datasets/ds8_auto_label_yolo_architectures/val/images/Uss-2.1.PetrovskyPass_684_3-23-2024_16-32.JPG: corrupt JPEG restored and saved\n",
      "\u001b[34m\u001b[1mval: \u001b[0mWARNING ⚠️ /home/jovyan/__ANIMALS/datasets/ds8_auto_label_yolo_architectures/val/images/Uss-2.1.PetrovskyPass_697_4-1-2024_04-33.JPG: corrupt JPEG restored and saved\n",
      "\u001b[34m\u001b[1mval: \u001b[0mWARNING ⚠️ /home/jovyan/__ANIMALS/datasets/ds8_auto_label_yolo_architectures/val/images/Uss-2.1.PetrovskyPass_705_4-4-2024_19-44.JPG: corrupt JPEG restored and saved\n",
      "\u001b[34m\u001b[1mval: \u001b[0mWARNING ⚠️ /home/jovyan/__ANIMALS/datasets/ds8_auto_label_yolo_architectures/val/images/Uss-2.1.PetrovskyPass_708_4-5-2024_23-01.JPG: corrupt JPEG restored and saved\n",
      "\u001b[34m\u001b[1mval: \u001b[0mWARNING ⚠️ /home/jovyan/__ANIMALS/datasets/ds8_auto_label_yolo_architectures/val/images/Uss-2.PetrovskyPass_308_3-22-2024_15-34.JPG: corrupt JPEG restored and saved\n",
      "\u001b[34m\u001b[1mval: \u001b[0mWARNING ⚠️ /home/jovyan/__ANIMALS/datasets/ds8_auto_label_yolo_architectures/val/images/Uss-21.1.Otradnayaupper_039_4-10-2024_13-40.JPG: ignoring corrupt image/label: Label class 20 exceeds dataset class count 18. Possible class labels are 0-17\n",
      "\u001b[34m\u001b[1mval: \u001b[0mWARNING ⚠️ /home/jovyan/__ANIMALS/datasets/ds8_auto_label_yolo_architectures/val/images/Uss-25.1.PravayaKomarovka_057_12-27-2023_09-40.JPG: corrupt JPEG restored and saved\n",
      "\u001b[34m\u001b[1mval: \u001b[0mWARNING ⚠️ /home/jovyan/__ANIMALS/datasets/ds8_auto_label_yolo_architectures/val/images/Uss-25.1.PravayaKomarovka_069_12-30-2023_18-23.JPG: corrupt JPEG restored and saved\n",
      "\u001b[34m\u001b[1mval: \u001b[0mWARNING ⚠️ /home/jovyan/__ANIMALS/datasets/ds8_auto_label_yolo_architectures/val/images/Uss-25.1.PravayaKomarovka_092_1-6-2024_16-24.JPG: corrupt JPEG restored and saved\n",
      "\u001b[34m\u001b[1mval: \u001b[0mWARNING ⚠️ /home/jovyan/__ANIMALS/datasets/ds8_auto_label_yolo_architectures/val/images/Uss-25.1.PravayaKomarovka_093_1-6-2024_16-25.JPG: corrupt JPEG restored and saved\n",
      "\u001b[34m\u001b[1mval: \u001b[0mWARNING ⚠️ /home/jovyan/__ANIMALS/datasets/ds8_auto_label_yolo_architectures/val/images/Uss-25.1.PravayaKomarovka_127_1-14-2024_09-02.JPG: corrupt JPEG restored and saved\n",
      "\u001b[34m\u001b[1mval: \u001b[0mWARNING ⚠️ /home/jovyan/__ANIMALS/datasets/ds8_auto_label_yolo_architectures/val/images/Uss-25.1.PravayaKomarovka_134_1-14-2024_09-24.JPG: corrupt JPEG restored and saved\n",
      "\u001b[34m\u001b[1mval: \u001b[0mWARNING ⚠️ /home/jovyan/__ANIMALS/datasets/ds8_auto_label_yolo_architectures/val/images/Uss-25.1.PravayaKomarovka_137_1-14-2024_09-34.JPG: corrupt JPEG restored and saved\n",
      "\u001b[34m\u001b[1mval: \u001b[0mWARNING ⚠️ /home/jovyan/__ANIMALS/datasets/ds8_auto_label_yolo_architectures/val/images/Uss-25.1.PravayaKomarovka_141_1-14-2024_09-39.JPG: corrupt JPEG restored and saved\n",
      "\u001b[34m\u001b[1mval: \u001b[0mWARNING ⚠️ /home/jovyan/__ANIMALS/datasets/ds8_auto_label_yolo_architectures/val/images/Uss-25.1.PravayaKomarovka_147_1-14-2024_10-49.JPG: corrupt JPEG restored and saved\n",
      "\u001b[34m\u001b[1mval: \u001b[0mWARNING ⚠️ /home/jovyan/__ANIMALS/datasets/ds8_auto_label_yolo_architectures/val/images/Uss-25.1.PravayaKomarovka_149_1-14-2024_10-51.JPG: corrupt JPEG restored and saved\n",
      "\u001b[34m\u001b[1mval: \u001b[0mWARNING ⚠️ /home/jovyan/__ANIMALS/datasets/ds8_auto_label_yolo_architectures/val/images/Uss-25.1.PravayaKomarovka_163_1-18-2024_11-40.JPG: corrupt JPEG restored and saved\n",
      "\u001b[34m\u001b[1mval: \u001b[0mWARNING ⚠️ /home/jovyan/__ANIMALS/datasets/ds8_auto_label_yolo_architectures/val/images/Uss-25.1.PravayaKomarovka_174_1-19-2024_11-14.JPG: corrupt JPEG restored and saved\n",
      "\u001b[34m\u001b[1mval: \u001b[0mWARNING ⚠️ /home/jovyan/__ANIMALS/datasets/ds8_auto_label_yolo_architectures/val/images/Uss-25.1.PravayaKomarovka_176_1-19-2024_11-14.JPG: corrupt JPEG restored and saved\n",
      "\u001b[34m\u001b[1mval: \u001b[0mWARNING ⚠️ /home/jovyan/__ANIMALS/datasets/ds8_auto_label_yolo_architectures/val/images/Uss-25.1.PravayaKomarovka_177_1-19-2024_11-15.JPG: corrupt JPEG restored and saved\n",
      "\u001b[34m\u001b[1mval: \u001b[0mWARNING ⚠️ /home/jovyan/__ANIMALS/datasets/ds8_auto_label_yolo_architectures/val/images/Uss-25.1.PravayaKomarovka_182_1-19-2024_11-26.JPG: corrupt JPEG restored and saved\n",
      "\u001b[34m\u001b[1mval: \u001b[0mWARNING ⚠️ /home/jovyan/__ANIMALS/datasets/ds8_auto_label_yolo_architectures/val/images/Uss-25.1.PravayaKomarovka_186_1-19-2024_12-03.JPG: corrupt JPEG restored and saved\n",
      "\u001b[34m\u001b[1mval: \u001b[0mWARNING ⚠️ /home/jovyan/__ANIMALS/datasets/ds8_auto_label_yolo_architectures/val/images/Uss-25.1.PravayaKomarovka_195_1-21-2024_10-29.JPG: corrupt JPEG restored and saved\n",
      "\u001b[34m\u001b[1mval: \u001b[0mWARNING ⚠️ /home/jovyan/__ANIMALS/datasets/ds8_auto_label_yolo_architectures/val/images/Uss-25.1.PravayaKomarovka_222_1-24-2024_01-14.JPG: corrupt JPEG restored and saved\n",
      "\u001b[34m\u001b[1mval: \u001b[0mWARNING ⚠️ /home/jovyan/__ANIMALS/datasets/ds8_auto_label_yolo_architectures/val/images/Uss-25.1.PravayaKomarovka_236_1-25-2024_12-43.JPG: corrupt JPEG restored and saved\n"
     ]
    },
    {
     "name": "stderr",
     "output_type": "stream",
     "text": [
      "\n",
      "\u001b[34m\u001b[1mval: \u001b[0mCaching images (4.5GB Disk): 100%|██████████| 515/515 [00:10<00:00, 51.00it/s]"
     ]
    },
    {
     "name": "stdout",
     "output_type": "stream",
     "text": [
      "WARNING ⚠️ 'label_smoothing' is deprecated and will be removed in in the future.\n"
     ]
    },
    {
     "name": "stderr",
     "output_type": "stream",
     "text": [
      "\n"
     ]
    },
    {
     "name": "stdout",
     "output_type": "stream",
     "text": [
      "\u001b[34m\u001b[1moptimizer:\u001b[0m SGD(lr=0.01, momentum=0.937) with parameter groups 57 weight(decay=0.0), 64 weight(decay=0.001), 63 bias(decay=0.0)\n",
      "Training failed: yolov8s.pt training to 500 epochs is finished, nothing to resume.\n",
      "Start a new training without resuming, i.e. 'yolo train model=yolov8s.pt'\n",
      "Attempting minimal configuration...\n",
      "Ultralytics 8.3.99 🚀 Python-3.12.7 torch-2.6.0+cu124 CPU (Intel Xeon Processor (Icelake))\n",
      "\u001b[34m\u001b[1mengine/trainer: \u001b[0mtask=detect, mode=train, model=yolov8s.pt, data=/home/jovyan/__ANIMALS/datasets/ds8_auto_label_yolo_architectures/dataset.yaml, epochs=250, time=None, patience=100, batch=2, imgsz=512, save=True, save_period=-1, cache=False, device=cpu, workers=4, project=None, name=wildlife_cpu_minimal, exist_ok=False, pretrained=True, optimizer=Adam, verbose=True, seed=0, deterministic=True, single_cls=False, rect=False, cos_lr=False, close_mosaic=10, resume=False, amp=True, fraction=1.0, profile=False, freeze=None, multi_scale=False, overlap_mask=True, mask_ratio=4, dropout=0.0, val=True, split=val, save_json=False, save_hybrid=False, conf=None, iou=0.7, max_det=300, half=False, dnn=False, plots=True, source=None, vid_stride=1, stream_buffer=False, visualize=False, augment=False, agnostic_nms=False, classes=None, retina_masks=False, embed=None, show=False, save_frames=False, save_txt=False, save_conf=False, save_crop=False, show_labels=True, show_conf=True, show_boxes=True, line_width=None, format=torchscript, keras=False, optimize=False, int8=False, dynamic=False, simplify=True, opset=None, workspace=None, nms=False, lr0=0.001, lrf=0.01, momentum=0.937, weight_decay=0.0005, warmup_epochs=3.0, warmup_momentum=0.8, warmup_bias_lr=0.1, box=7.5, cls=0.5, dfl=1.5, pose=12.0, kobj=1.0, nbs=64, hsv_h=0.015, hsv_s=0.7, hsv_v=0.4, degrees=0.0, translate=0.1, scale=0.5, shear=0.0, perspective=0.0, flipud=0.0, fliplr=0.5, bgr=0.0, mosaic=1.0, mixup=0.0, copy_paste=0.0, copy_paste_mode=flip, auto_augment=randaugment, erasing=0.4, crop_fraction=1.0, cfg=None, tracker=botsort.yaml, save_dir=runs/detect/wildlife_cpu_minimal\n",
      "Overriding model.yaml nc=80 with nc=18\n",
      "\n",
      "                   from  n    params  module                                       arguments                     \n",
      "  0                  -1  1       928  ultralytics.nn.modules.conv.Conv             [3, 32, 3, 2]                 \n",
      "  1                  -1  1     18560  ultralytics.nn.modules.conv.Conv             [32, 64, 3, 2]                \n",
      "  2                  -1  1     29056  ultralytics.nn.modules.block.C2f             [64, 64, 1, True]             \n",
      "  3                  -1  1     73984  ultralytics.nn.modules.conv.Conv             [64, 128, 3, 2]               \n",
      "  4                  -1  2    197632  ultralytics.nn.modules.block.C2f             [128, 128, 2, True]           \n",
      "  5                  -1  1    295424  ultralytics.nn.modules.conv.Conv             [128, 256, 3, 2]              \n",
      "  6                  -1  2    788480  ultralytics.nn.modules.block.C2f             [256, 256, 2, True]           \n",
      "  7                  -1  1   1180672  ultralytics.nn.modules.conv.Conv             [256, 512, 3, 2]              \n",
      "  8                  -1  1   1838080  ultralytics.nn.modules.block.C2f             [512, 512, 1, True]           \n",
      "  9                  -1  1    656896  ultralytics.nn.modules.block.SPPF            [512, 512, 5]                 \n",
      " 10                  -1  1         0  torch.nn.modules.upsampling.Upsample         [None, 2, 'nearest']          \n",
      " 11             [-1, 6]  1         0  ultralytics.nn.modules.conv.Concat           [1]                           \n",
      " 12                  -1  1    591360  ultralytics.nn.modules.block.C2f             [768, 256, 1]                 \n",
      " 13                  -1  1         0  torch.nn.modules.upsampling.Upsample         [None, 2, 'nearest']          \n",
      " 14             [-1, 4]  1         0  ultralytics.nn.modules.conv.Concat           [1]                           \n",
      " 15                  -1  1    148224  ultralytics.nn.modules.block.C2f             [384, 128, 1]                 \n",
      " 16                  -1  1    147712  ultralytics.nn.modules.conv.Conv             [128, 128, 3, 2]              \n",
      " 17            [-1, 12]  1         0  ultralytics.nn.modules.conv.Concat           [1]                           \n",
      " 18                  -1  1    493056  ultralytics.nn.modules.block.C2f             [384, 256, 1]                 \n",
      " 19                  -1  1    590336  ultralytics.nn.modules.conv.Conv             [256, 256, 3, 2]              \n",
      " 20             [-1, 9]  1         0  ultralytics.nn.modules.conv.Concat           [1]                           \n",
      " 21                  -1  1   1969152  ultralytics.nn.modules.block.C2f             [768, 512, 1]                 \n",
      " 22        [15, 18, 21]  1   2123014  ultralytics.nn.modules.head.Detect           [18, [128, 256, 512]]         \n",
      "Model summary: 129 layers, 11,142,566 parameters, 11,142,550 gradients, 28.7 GFLOPs\n",
      "\n",
      "Transferred 349/355 items from pretrained weights\n",
      "\u001b[34m\u001b[1mTensorBoard: \u001b[0mStart with 'tensorboard --logdir runs/detect/wildlife_cpu_minimal', view at http://localhost:6006/\n",
      "Freezing layer 'model.22.dfl.conv.weight'\n"
     ]
    },
    {
     "name": "stderr",
     "output_type": "stream",
     "text": [
      "\u001b[34m\u001b[1mtrain: \u001b[0mScanning /home/jovyan/__ANIMALS/datasets/ds8_auto_label_yolo_architectures/train/labels.cache... 1972 images, 0 backgrounds, 18 corrupt: 100%|██████████| 1972/1972 [00:00<?, ?it/s]"
     ]
    },
    {
     "name": "stdout",
     "output_type": "stream",
     "text": [
      "\u001b[34m\u001b[1mtrain: \u001b[0mWARNING ⚠️ /home/jovyan/__ANIMALS/datasets/ds8_auto_label_yolo_architectures/train/images/Uss-1.AnikinRidge_006_1-13-2024_13-12.JPG: ignoring corrupt image/label: Label class 20 exceeds dataset class count 18. Possible class labels are 0-17\n",
      "\u001b[34m\u001b[1mtrain: \u001b[0mWARNING ⚠️ /home/jovyan/__ANIMALS/datasets/ds8_auto_label_yolo_architectures/train/images/Uss-1.AnikinRidge_007_1-13-2024_13-12.JPG: ignoring corrupt image/label: Label class 20 exceeds dataset class count 18. Possible class labels are 0-17\n",
      "\u001b[34m\u001b[1mtrain: \u001b[0mWARNING ⚠️ /home/jovyan/__ANIMALS/datasets/ds8_auto_label_yolo_architectures/train/images/Uss-13.1.KomarovskayaPad_025_3-16-2024_08-40.JPG: ignoring corrupt image/label: Label class 20 exceeds dataset class count 18. Possible class labels are 0-17\n",
      "\u001b[34m\u001b[1mtrain: \u001b[0mWARNING ⚠️ /home/jovyan/__ANIMALS/datasets/ds8_auto_label_yolo_architectures/train/images/Uss-13.KomarovskayaPad_041_3-16-2024_08-40.JPG: ignoring corrupt image/label: Label class 20 exceeds dataset class count 18. Possible class labels are 0-17\n",
      "\u001b[34m\u001b[1mtrain: \u001b[0mWARNING ⚠️ /home/jovyan/__ANIMALS/datasets/ds8_auto_label_yolo_architectures/train/images/Uss-14.1.KoryavayaPad_004_12-14-2023_15-10.JPG: ignoring corrupt image/label: Label class 20 exceeds dataset class count 18. Possible class labels are 0-17\n",
      "\u001b[34m\u001b[1mtrain: \u001b[0mWARNING ⚠️ /home/jovyan/__ANIMALS/datasets/ds8_auto_label_yolo_architectures/train/images/Uss-14.1.KoryavayaPad_005_12-14-2023_15-10.JPG: ignoring corrupt image/label: Label class 20 exceeds dataset class count 18. Possible class labels are 0-17\n",
      "\u001b[34m\u001b[1mtrain: \u001b[0mWARNING ⚠️ /home/jovyan/__ANIMALS/datasets/ds8_auto_label_yolo_architectures/train/images/Uss-14.1.KoryavayaPad_009_12-30-2023_18-44.JPG: ignoring corrupt image/label: Label class 20 exceeds dataset class count 18. Possible class labels are 0-17\n",
      "\u001b[34m\u001b[1mtrain: \u001b[0mWARNING ⚠️ /home/jovyan/__ANIMALS/datasets/ds8_auto_label_yolo_architectures/train/images/Uss-16.1.DubovyCreek_005_2-9-2024_23-30.JPG: corrupt JPEG restored and saved\n",
      "\u001b[34m\u001b[1mtrain: \u001b[0mWARNING ⚠️ /home/jovyan/__ANIMALS/datasets/ds8_auto_label_yolo_architectures/train/images/Uss-16.1.DubovyCreek_008_3-15-2024_18-33.JPG: corrupt JPEG restored and saved\n",
      "\u001b[34m\u001b[1mtrain: \u001b[0mWARNING ⚠️ /home/jovyan/__ANIMALS/datasets/ds8_auto_label_yolo_architectures/train/images/Uss-16.1.DubovyCreek_009_3-19-2024_15-26.JPG: corrupt JPEG restored and saved\n",
      "\u001b[34m\u001b[1mtrain: \u001b[0mWARNING ⚠️ /home/jovyan/__ANIMALS/datasets/ds8_auto_label_yolo_architectures/train/images/Uss-16.1.DubovyCreek_011_3-27-2024_21-30.JPG: corrupt JPEG restored and saved\n",
      "\u001b[34m\u001b[1mtrain: \u001b[0mWARNING ⚠️ /home/jovyan/__ANIMALS/datasets/ds8_auto_label_yolo_architectures/train/images/Uss-17.1.Volkha_029_3-24-2024_11-58.JPG: ignoring corrupt image/label: Label class 20 exceeds dataset class count 18. Possible class labels are 0-17\n",
      "\u001b[34m\u001b[1mtrain: \u001b[0mWARNING ⚠️ /home/jovyan/__ANIMALS/datasets/ds8_auto_label_yolo_architectures/train/images/Uss-2.1.PetrovskyPass_085_12-30-2023_17-50.JPG: corrupt JPEG restored and saved\n",
      "\u001b[34m\u001b[1mtrain: \u001b[0mWARNING ⚠️ /home/jovyan/__ANIMALS/datasets/ds8_auto_label_yolo_architectures/train/images/Uss-2.1.PetrovskyPass_127_1-8-2024_09-22.JPG: corrupt JPEG restored and saved\n",
      "\u001b[34m\u001b[1mtrain: \u001b[0mWARNING ⚠️ /home/jovyan/__ANIMALS/datasets/ds8_auto_label_yolo_architectures/train/images/Uss-2.1.PetrovskyPass_130_1-8-2024_15-57.JPG: corrupt JPEG restored and saved\n",
      "\u001b[34m\u001b[1mtrain: \u001b[0mWARNING ⚠️ /home/jovyan/__ANIMALS/datasets/ds8_auto_label_yolo_architectures/train/images/Uss-2.1.PetrovskyPass_143_1-10-2024_10-09.JPG: corrupt JPEG restored and saved\n",
      "\u001b[34m\u001b[1mtrain: \u001b[0mWARNING ⚠️ /home/jovyan/__ANIMALS/datasets/ds8_auto_label_yolo_architectures/train/images/Uss-2.1.PetrovskyPass_150_1-11-2024_01-19.JPG: corrupt JPEG restored and saved\n",
      "\u001b[34m\u001b[1mtrain: \u001b[0mWARNING ⚠️ /home/jovyan/__ANIMALS/datasets/ds8_auto_label_yolo_architectures/train/images/Uss-2.1.PetrovskyPass_151_1-11-2024_01-27.JPG: corrupt JPEG restored and saved\n",
      "\u001b[34m\u001b[1mtrain: \u001b[0mWARNING ⚠️ /home/jovyan/__ANIMALS/datasets/ds8_auto_label_yolo_architectures/train/images/Uss-2.1.PetrovskyPass_155_1-11-2024_09-51.JPG: corrupt JPEG restored and saved\n",
      "\u001b[34m\u001b[1mtrain: \u001b[0mWARNING ⚠️ /home/jovyan/__ANIMALS/datasets/ds8_auto_label_yolo_architectures/train/images/Uss-2.1.PetrovskyPass_159_1-11-2024_10-10.JPG: corrupt JPEG restored and saved\n",
      "\u001b[34m\u001b[1mtrain: \u001b[0mWARNING ⚠️ /home/jovyan/__ANIMALS/datasets/ds8_auto_label_yolo_architectures/train/images/Uss-2.1.PetrovskyPass_160_1-11-2024_10-15.JPG: corrupt JPEG restored and saved\n",
      "\u001b[34m\u001b[1mtrain: \u001b[0mWARNING ⚠️ /home/jovyan/__ANIMALS/datasets/ds8_auto_label_yolo_architectures/train/images/Uss-2.1.PetrovskyPass_171_1-11-2024_11-23.JPG: corrupt JPEG restored and saved\n",
      "\u001b[34m\u001b[1mtrain: \u001b[0mWARNING ⚠️ /home/jovyan/__ANIMALS/datasets/ds8_auto_label_yolo_architectures/train/images/Uss-2.1.PetrovskyPass_176_1-11-2024_11-50.JPG: corrupt JPEG restored and saved\n",
      "\u001b[34m\u001b[1mtrain: \u001b[0mWARNING ⚠️ /home/jovyan/__ANIMALS/datasets/ds8_auto_label_yolo_architectures/train/images/Uss-2.1.PetrovskyPass_177_1-11-2024_11-57.JPG: corrupt JPEG restored and saved\n",
      "\u001b[34m\u001b[1mtrain: \u001b[0mWARNING ⚠️ /home/jovyan/__ANIMALS/datasets/ds8_auto_label_yolo_architectures/train/images/Uss-2.1.PetrovskyPass_178_1-11-2024_12-09.JPG: corrupt JPEG restored and saved\n",
      "\u001b[34m\u001b[1mtrain: \u001b[0mWARNING ⚠️ /home/jovyan/__ANIMALS/datasets/ds8_auto_label_yolo_architectures/train/images/Uss-2.1.PetrovskyPass_184_1-11-2024_17-16.JPG: corrupt JPEG restored and saved\n",
      "\u001b[34m\u001b[1mtrain: \u001b[0mWARNING ⚠️ /home/jovyan/__ANIMALS/datasets/ds8_auto_label_yolo_architectures/train/images/Uss-2.1.PetrovskyPass_190_1-11-2024_17-35.JPG: corrupt JPEG restored and saved\n",
      "\u001b[34m\u001b[1mtrain: \u001b[0mWARNING ⚠️ /home/jovyan/__ANIMALS/datasets/ds8_auto_label_yolo_architectures/train/images/Uss-2.1.PetrovskyPass_200_1-12-2024_09-45.JPG: corrupt JPEG restored and saved\n",
      "\u001b[34m\u001b[1mtrain: \u001b[0mWARNING ⚠️ /home/jovyan/__ANIMALS/datasets/ds8_auto_label_yolo_architectures/train/images/Uss-2.1.PetrovskyPass_207_1-12-2024_17-45.JPG: corrupt JPEG restored and saved\n",
      "\u001b[34m\u001b[1mtrain: \u001b[0mWARNING ⚠️ /home/jovyan/__ANIMALS/datasets/ds8_auto_label_yolo_architectures/train/images/Uss-2.1.PetrovskyPass_208_1-12-2024_17-45.JPG: corrupt JPEG restored and saved\n",
      "\u001b[34m\u001b[1mtrain: \u001b[0mWARNING ⚠️ /home/jovyan/__ANIMALS/datasets/ds8_auto_label_yolo_architectures/train/images/Uss-2.1.PetrovskyPass_209_1-12-2024_17-45.JPG: corrupt JPEG restored and saved\n",
      "\u001b[34m\u001b[1mtrain: \u001b[0mWARNING ⚠️ /home/jovyan/__ANIMALS/datasets/ds8_auto_label_yolo_architectures/train/images/Uss-2.1.PetrovskyPass_219_1-13-2024_23-32.JPG: corrupt JPEG restored and saved\n",
      "\u001b[34m\u001b[1mtrain: \u001b[0mWARNING ⚠️ /home/jovyan/__ANIMALS/datasets/ds8_auto_label_yolo_architectures/train/images/Uss-2.1.PetrovskyPass_222_1-14-2024_10-08.JPG: corrupt JPEG restored and saved\n",
      "\u001b[34m\u001b[1mtrain: \u001b[0mWARNING ⚠️ /home/jovyan/__ANIMALS/datasets/ds8_auto_label_yolo_architectures/train/images/Uss-2.1.PetrovskyPass_248_1-18-2024_04-57.JPG: corrupt JPEG restored and saved\n",
      "\u001b[34m\u001b[1mtrain: \u001b[0mWARNING ⚠️ /home/jovyan/__ANIMALS/datasets/ds8_auto_label_yolo_architectures/train/images/Uss-2.1.PetrovskyPass_266_1-20-2024_00-21.JPG: corrupt JPEG restored and saved\n",
      "\u001b[34m\u001b[1mtrain: \u001b[0mWARNING ⚠️ /home/jovyan/__ANIMALS/datasets/ds8_auto_label_yolo_architectures/train/images/Uss-2.1.PetrovskyPass_269_1-20-2024_00-44.JPG: corrupt JPEG restored and saved\n",
      "\u001b[34m\u001b[1mtrain: \u001b[0mWARNING ⚠️ /home/jovyan/__ANIMALS/datasets/ds8_auto_label_yolo_architectures/train/images/Uss-2.1.PetrovskyPass_270_1-20-2024_00-44.JPG: corrupt JPEG restored and saved\n",
      "\u001b[34m\u001b[1mtrain: \u001b[0mWARNING ⚠️ /home/jovyan/__ANIMALS/datasets/ds8_auto_label_yolo_architectures/train/images/Uss-2.1.PetrovskyPass_271_1-20-2024_00-45.JPG: corrupt JPEG restored and saved\n",
      "\u001b[34m\u001b[1mtrain: \u001b[0mWARNING ⚠️ /home/jovyan/__ANIMALS/datasets/ds8_auto_label_yolo_architectures/train/images/Uss-2.1.PetrovskyPass_281_1-25-2024_16-20.JPG: corrupt JPEG restored and saved\n",
      "\u001b[34m\u001b[1mtrain: \u001b[0mWARNING ⚠️ /home/jovyan/__ANIMALS/datasets/ds8_auto_label_yolo_architectures/train/images/Uss-2.1.PetrovskyPass_283_1-25-2024_16-21.JPG: corrupt JPEG restored and saved\n",
      "\u001b[34m\u001b[1mtrain: \u001b[0mWARNING ⚠️ /home/jovyan/__ANIMALS/datasets/ds8_auto_label_yolo_architectures/train/images/Uss-2.1.PetrovskyPass_323_1-27-2024_14-27.JPG: corrupt JPEG restored and saved\n",
      "\u001b[34m\u001b[1mtrain: \u001b[0mWARNING ⚠️ /home/jovyan/__ANIMALS/datasets/ds8_auto_label_yolo_architectures/train/images/Uss-2.1.PetrovskyPass_330_1-28-2024_04-43.JPG: corrupt JPEG restored and saved\n",
      "\u001b[34m\u001b[1mtrain: \u001b[0mWARNING ⚠️ /home/jovyan/__ANIMALS/datasets/ds8_auto_label_yolo_architectures/train/images/Uss-2.1.PetrovskyPass_337_1-29-2024_11-11.JPG: corrupt JPEG restored and saved\n",
      "\u001b[34m\u001b[1mtrain: \u001b[0mWARNING ⚠️ /home/jovyan/__ANIMALS/datasets/ds8_auto_label_yolo_architectures/train/images/Uss-2.1.PetrovskyPass_340_1-29-2024_16-52.JPG: corrupt JPEG restored and saved\n",
      "\u001b[34m\u001b[1mtrain: \u001b[0mWARNING ⚠️ /home/jovyan/__ANIMALS/datasets/ds8_auto_label_yolo_architectures/train/images/Uss-2.1.PetrovskyPass_342_1-29-2024_16-52.JPG: corrupt JPEG restored and saved\n",
      "\u001b[34m\u001b[1mtrain: \u001b[0mWARNING ⚠️ /home/jovyan/__ANIMALS/datasets/ds8_auto_label_yolo_architectures/train/images/Uss-2.1.PetrovskyPass_345_1-29-2024_16-56.JPG: corrupt JPEG restored and saved\n",
      "\u001b[34m\u001b[1mtrain: \u001b[0mWARNING ⚠️ /home/jovyan/__ANIMALS/datasets/ds8_auto_label_yolo_architectures/train/images/Uss-2.1.PetrovskyPass_346_1-29-2024_16-56.JPG: corrupt JPEG restored and saved\n",
      "\u001b[34m\u001b[1mtrain: \u001b[0mWARNING ⚠️ /home/jovyan/__ANIMALS/datasets/ds8_auto_label_yolo_architectures/train/images/Uss-2.1.PetrovskyPass_348_1-29-2024_17-01.JPG: corrupt JPEG restored and saved\n",
      "\u001b[34m\u001b[1mtrain: \u001b[0mWARNING ⚠️ /home/jovyan/__ANIMALS/datasets/ds8_auto_label_yolo_architectures/train/images/Uss-2.1.PetrovskyPass_349_1-29-2024_17-03.JPG: corrupt JPEG restored and saved\n",
      "\u001b[34m\u001b[1mtrain: \u001b[0mWARNING ⚠️ /home/jovyan/__ANIMALS/datasets/ds8_auto_label_yolo_architectures/train/images/Uss-2.1.PetrovskyPass_354_1-29-2024_19-01.JPG: corrupt JPEG restored and saved\n",
      "\u001b[34m\u001b[1mtrain: \u001b[0mWARNING ⚠️ /home/jovyan/__ANIMALS/datasets/ds8_auto_label_yolo_architectures/train/images/Uss-2.1.PetrovskyPass_359_1-29-2024_20-40.JPG: corrupt JPEG restored and saved\n",
      "\u001b[34m\u001b[1mtrain: \u001b[0mWARNING ⚠️ /home/jovyan/__ANIMALS/datasets/ds8_auto_label_yolo_architectures/train/images/Uss-2.1.PetrovskyPass_362_1-29-2024_21-29.JPG: corrupt JPEG restored and saved\n",
      "\u001b[34m\u001b[1mtrain: \u001b[0mWARNING ⚠️ /home/jovyan/__ANIMALS/datasets/ds8_auto_label_yolo_architectures/train/images/Uss-2.1.PetrovskyPass_364_1-29-2024_22-24.JPG: corrupt JPEG restored and saved\n",
      "\u001b[34m\u001b[1mtrain: \u001b[0mWARNING ⚠️ /home/jovyan/__ANIMALS/datasets/ds8_auto_label_yolo_architectures/train/images/Uss-2.1.PetrovskyPass_365_1-29-2024_22-26.JPG: corrupt JPEG restored and saved\n",
      "\u001b[34m\u001b[1mtrain: \u001b[0mWARNING ⚠️ /home/jovyan/__ANIMALS/datasets/ds8_auto_label_yolo_architectures/train/images/Uss-2.1.PetrovskyPass_375_1-29-2024_23-06.JPG: corrupt JPEG restored and saved\n",
      "\u001b[34m\u001b[1mtrain: \u001b[0mWARNING ⚠️ /home/jovyan/__ANIMALS/datasets/ds8_auto_label_yolo_architectures/train/images/Uss-2.1.PetrovskyPass_377_1-30-2024_02-24.JPG: corrupt JPEG restored and saved\n",
      "\u001b[34m\u001b[1mtrain: \u001b[0mWARNING ⚠️ /home/jovyan/__ANIMALS/datasets/ds8_auto_label_yolo_architectures/train/images/Uss-2.1.PetrovskyPass_381_1-30-2024_10-02.JPG: corrupt JPEG restored and saved\n",
      "\u001b[34m\u001b[1mtrain: \u001b[0mWARNING ⚠️ /home/jovyan/__ANIMALS/datasets/ds8_auto_label_yolo_architectures/train/images/Uss-2.1.PetrovskyPass_382_1-30-2024_10-03.JPG: corrupt JPEG restored and saved\n",
      "\u001b[34m\u001b[1mtrain: \u001b[0mWARNING ⚠️ /home/jovyan/__ANIMALS/datasets/ds8_auto_label_yolo_architectures/train/images/Uss-2.1.PetrovskyPass_383_1-30-2024_10-04.JPG: corrupt JPEG restored and saved\n",
      "\u001b[34m\u001b[1mtrain: \u001b[0mWARNING ⚠️ /home/jovyan/__ANIMALS/datasets/ds8_auto_label_yolo_architectures/train/images/Uss-2.1.PetrovskyPass_384_1-30-2024_10-04.JPG: corrupt JPEG restored and saved\n",
      "\u001b[34m\u001b[1mtrain: \u001b[0mWARNING ⚠️ /home/jovyan/__ANIMALS/datasets/ds8_auto_label_yolo_architectures/train/images/Uss-2.1.PetrovskyPass_386_1-30-2024_10-13.JPG: corrupt JPEG restored and saved\n",
      "\u001b[34m\u001b[1mtrain: \u001b[0mWARNING ⚠️ /home/jovyan/__ANIMALS/datasets/ds8_auto_label_yolo_architectures/train/images/Uss-2.1.PetrovskyPass_387_1-30-2024_10-17.JPG: corrupt JPEG restored and saved\n",
      "\u001b[34m\u001b[1mtrain: \u001b[0mWARNING ⚠️ /home/jovyan/__ANIMALS/datasets/ds8_auto_label_yolo_architectures/train/images/Uss-2.1.PetrovskyPass_388_1-30-2024_10-17.JPG: corrupt JPEG restored and saved\n",
      "\u001b[34m\u001b[1mtrain: \u001b[0mWARNING ⚠️ /home/jovyan/__ANIMALS/datasets/ds8_auto_label_yolo_architectures/train/images/Uss-2.1.PetrovskyPass_389_1-30-2024_10-19.JPG: corrupt JPEG restored and saved\n",
      "\u001b[34m\u001b[1mtrain: \u001b[0mWARNING ⚠️ /home/jovyan/__ANIMALS/datasets/ds8_auto_label_yolo_architectures/train/images/Uss-2.1.PetrovskyPass_390_1-30-2024_10-31.JPG: corrupt JPEG restored and saved\n",
      "\u001b[34m\u001b[1mtrain: \u001b[0mWARNING ⚠️ /home/jovyan/__ANIMALS/datasets/ds8_auto_label_yolo_architectures/train/images/Uss-2.1.PetrovskyPass_391_1-30-2024_10-32.JPG: corrupt JPEG restored and saved\n",
      "\u001b[34m\u001b[1mtrain: \u001b[0mWARNING ⚠️ /home/jovyan/__ANIMALS/datasets/ds8_auto_label_yolo_architectures/train/images/Uss-2.1.PetrovskyPass_392_1-30-2024_10-32.JPG: corrupt JPEG restored and saved\n",
      "\u001b[34m\u001b[1mtrain: \u001b[0mWARNING ⚠️ /home/jovyan/__ANIMALS/datasets/ds8_auto_label_yolo_architectures/train/images/Uss-2.1.PetrovskyPass_404_1-31-2024_01-26.JPG: corrupt JPEG restored and saved\n",
      "\u001b[34m\u001b[1mtrain: \u001b[0mWARNING ⚠️ /home/jovyan/__ANIMALS/datasets/ds8_auto_label_yolo_architectures/train/images/Uss-2.1.PetrovskyPass_405_1-31-2024_01-31.JPG: corrupt JPEG restored and saved\n",
      "\u001b[34m\u001b[1mtrain: \u001b[0mWARNING ⚠️ /home/jovyan/__ANIMALS/datasets/ds8_auto_label_yolo_architectures/train/images/Uss-2.1.PetrovskyPass_413_1-31-2024_04-05.JPG: corrupt JPEG restored and saved\n",
      "\u001b[34m\u001b[1mtrain: \u001b[0mWARNING ⚠️ /home/jovyan/__ANIMALS/datasets/ds8_auto_label_yolo_architectures/train/images/Uss-2.1.PetrovskyPass_414_1-31-2024_04-11.JPG: corrupt JPEG restored and saved\n",
      "\u001b[34m\u001b[1mtrain: \u001b[0mWARNING ⚠️ /home/jovyan/__ANIMALS/datasets/ds8_auto_label_yolo_architectures/train/images/Uss-2.1.PetrovskyPass_415_1-31-2024_04-13.JPG: corrupt JPEG restored and saved\n",
      "\u001b[34m\u001b[1mtrain: \u001b[0mWARNING ⚠️ /home/jovyan/__ANIMALS/datasets/ds8_auto_label_yolo_architectures/train/images/Uss-2.1.PetrovskyPass_431_2-1-2024_17-44.JPG: corrupt JPEG restored and saved\n",
      "\u001b[34m\u001b[1mtrain: \u001b[0mWARNING ⚠️ /home/jovyan/__ANIMALS/datasets/ds8_auto_label_yolo_architectures/train/images/Uss-2.1.PetrovskyPass_432_2-1-2024_17-46.JPG: corrupt JPEG restored and saved\n",
      "\u001b[34m\u001b[1mtrain: \u001b[0mWARNING ⚠️ /home/jovyan/__ANIMALS/datasets/ds8_auto_label_yolo_architectures/train/images/Uss-2.1.PetrovskyPass_440_2-1-2024_18-56.JPG: corrupt JPEG restored and saved\n",
      "\u001b[34m\u001b[1mtrain: \u001b[0mWARNING ⚠️ /home/jovyan/__ANIMALS/datasets/ds8_auto_label_yolo_architectures/train/images/Uss-2.1.PetrovskyPass_442_2-2-2024_00-00.JPG: corrupt JPEG restored and saved\n",
      "\u001b[34m\u001b[1mtrain: \u001b[0mWARNING ⚠️ /home/jovyan/__ANIMALS/datasets/ds8_auto_label_yolo_architectures/train/images/Uss-2.1.PetrovskyPass_453_2-4-2024_05-05.JPG: corrupt JPEG restored and saved\n",
      "\u001b[34m\u001b[1mtrain: \u001b[0mWARNING ⚠️ /home/jovyan/__ANIMALS/datasets/ds8_auto_label_yolo_architectures/train/images/Uss-2.1.PetrovskyPass_454_2-4-2024_05-08.JPG: corrupt JPEG restored and saved\n",
      "\u001b[34m\u001b[1mtrain: \u001b[0mWARNING ⚠️ /home/jovyan/__ANIMALS/datasets/ds8_auto_label_yolo_architectures/train/images/Uss-2.1.PetrovskyPass_455_2-4-2024_05-10.JPG: corrupt JPEG restored and saved\n",
      "\u001b[34m\u001b[1mtrain: \u001b[0mWARNING ⚠️ /home/jovyan/__ANIMALS/datasets/ds8_auto_label_yolo_architectures/train/images/Uss-2.1.PetrovskyPass_461_2-5-2024_14-05.JPG: corrupt JPEG restored and saved\n",
      "\u001b[34m\u001b[1mtrain: \u001b[0mWARNING ⚠️ /home/jovyan/__ANIMALS/datasets/ds8_auto_label_yolo_architectures/train/images/Uss-2.1.PetrovskyPass_462_2-5-2024_14-45.JPG: corrupt JPEG restored and saved\n",
      "\u001b[34m\u001b[1mtrain: \u001b[0mWARNING ⚠️ /home/jovyan/__ANIMALS/datasets/ds8_auto_label_yolo_architectures/train/images/Uss-2.1.PetrovskyPass_463_2-5-2024_14-48.JPG: corrupt JPEG restored and saved\n",
      "\u001b[34m\u001b[1mtrain: \u001b[0mWARNING ⚠️ /home/jovyan/__ANIMALS/datasets/ds8_auto_label_yolo_architectures/train/images/Uss-2.1.PetrovskyPass_464_2-5-2024_14-48.JPG: corrupt JPEG restored and saved\n",
      "\u001b[34m\u001b[1mtrain: \u001b[0mWARNING ⚠️ /home/jovyan/__ANIMALS/datasets/ds8_auto_label_yolo_architectures/train/images/Uss-2.1.PetrovskyPass_465_2-5-2024_15-29.JPG: corrupt JPEG restored and saved\n",
      "\u001b[34m\u001b[1mtrain: \u001b[0mWARNING ⚠️ /home/jovyan/__ANIMALS/datasets/ds8_auto_label_yolo_architectures/train/images/Uss-2.1.PetrovskyPass_467_2-5-2024_16-05.JPG: corrupt JPEG restored and saved\n",
      "\u001b[34m\u001b[1mtrain: \u001b[0mWARNING ⚠️ /home/jovyan/__ANIMALS/datasets/ds8_auto_label_yolo_architectures/train/images/Uss-2.1.PetrovskyPass_470_2-6-2024_00-03.JPG: corrupt JPEG restored and saved\n",
      "\u001b[34m\u001b[1mtrain: \u001b[0mWARNING ⚠️ /home/jovyan/__ANIMALS/datasets/ds8_auto_label_yolo_architectures/train/images/Uss-2.1.PetrovskyPass_471_2-6-2024_00-08.JPG: corrupt JPEG restored and saved\n",
      "\u001b[34m\u001b[1mtrain: \u001b[0mWARNING ⚠️ /home/jovyan/__ANIMALS/datasets/ds8_auto_label_yolo_architectures/train/images/Uss-2.1.PetrovskyPass_472_2-6-2024_04-30.JPG: corrupt JPEG restored and saved\n",
      "\u001b[34m\u001b[1mtrain: \u001b[0mWARNING ⚠️ /home/jovyan/__ANIMALS/datasets/ds8_auto_label_yolo_architectures/train/images/Uss-2.1.PetrovskyPass_473_2-6-2024_04-30.JPG: corrupt JPEG restored and saved\n",
      "\u001b[34m\u001b[1mtrain: \u001b[0mWARNING ⚠️ /home/jovyan/__ANIMALS/datasets/ds8_auto_label_yolo_architectures/train/images/Uss-2.1.PetrovskyPass_475_2-6-2024_04-34.JPG: corrupt JPEG restored and saved\n",
      "\u001b[34m\u001b[1mtrain: \u001b[0mWARNING ⚠️ /home/jovyan/__ANIMALS/datasets/ds8_auto_label_yolo_architectures/train/images/Uss-2.1.PetrovskyPass_476_2-6-2024_08-40.JPG: corrupt JPEG restored and saved\n",
      "\u001b[34m\u001b[1mtrain: \u001b[0mWARNING ⚠️ /home/jovyan/__ANIMALS/datasets/ds8_auto_label_yolo_architectures/train/images/Uss-2.1.PetrovskyPass_477_2-6-2024_08-41.JPG: corrupt JPEG restored and saved\n",
      "\u001b[34m\u001b[1mtrain: \u001b[0mWARNING ⚠️ /home/jovyan/__ANIMALS/datasets/ds8_auto_label_yolo_architectures/train/images/Uss-2.1.PetrovskyPass_478_2-6-2024_09-24.JPG: corrupt JPEG restored and saved\n",
      "\u001b[34m\u001b[1mtrain: \u001b[0mWARNING ⚠️ /home/jovyan/__ANIMALS/datasets/ds8_auto_label_yolo_architectures/train/images/Uss-2.1.PetrovskyPass_479_2-6-2024_09-24.JPG: corrupt JPEG restored and saved\n",
      "\u001b[34m\u001b[1mtrain: \u001b[0mWARNING ⚠️ /home/jovyan/__ANIMALS/datasets/ds8_auto_label_yolo_architectures/train/images/Uss-2.1.PetrovskyPass_481_2-6-2024_11-44.JPG: corrupt JPEG restored and saved\n",
      "\u001b[34m\u001b[1mtrain: \u001b[0mWARNING ⚠️ /home/jovyan/__ANIMALS/datasets/ds8_auto_label_yolo_architectures/train/images/Uss-2.1.PetrovskyPass_482_2-6-2024_11-44.JPG: corrupt JPEG restored and saved\n",
      "\u001b[34m\u001b[1mtrain: \u001b[0mWARNING ⚠️ /home/jovyan/__ANIMALS/datasets/ds8_auto_label_yolo_architectures/train/images/Uss-2.1.PetrovskyPass_489_2-8-2024_04-58.JPG: corrupt JPEG restored and saved\n",
      "\u001b[34m\u001b[1mtrain: \u001b[0mWARNING ⚠️ /home/jovyan/__ANIMALS/datasets/ds8_auto_label_yolo_architectures/train/images/Uss-2.1.PetrovskyPass_500_2-11-2024_09-21.JPG: corrupt JPEG restored and saved\n",
      "\u001b[34m\u001b[1mtrain: \u001b[0mWARNING ⚠️ /home/jovyan/__ANIMALS/datasets/ds8_auto_label_yolo_architectures/train/images/Uss-2.1.PetrovskyPass_502_2-11-2024_09-24.JPG: corrupt JPEG restored and saved\n",
      "\u001b[34m\u001b[1mtrain: \u001b[0mWARNING ⚠️ /home/jovyan/__ANIMALS/datasets/ds8_auto_label_yolo_architectures/train/images/Uss-2.1.PetrovskyPass_503_2-11-2024_09-26.JPG: corrupt JPEG restored and saved\n",
      "\u001b[34m\u001b[1mtrain: \u001b[0mWARNING ⚠️ /home/jovyan/__ANIMALS/datasets/ds8_auto_label_yolo_architectures/train/images/Uss-2.1.PetrovskyPass_504_2-11-2024_18-42.JPG: corrupt JPEG restored and saved\n",
      "\u001b[34m\u001b[1mtrain: \u001b[0mWARNING ⚠️ /home/jovyan/__ANIMALS/datasets/ds8_auto_label_yolo_architectures/train/images/Uss-2.1.PetrovskyPass_506_2-12-2024_15-52.JPG: corrupt JPEG restored and saved\n",
      "\u001b[34m\u001b[1mtrain: \u001b[0mWARNING ⚠️ /home/jovyan/__ANIMALS/datasets/ds8_auto_label_yolo_architectures/train/images/Uss-2.1.PetrovskyPass_507_2-12-2024_15-52.JPG: corrupt JPEG restored and saved\n",
      "\u001b[34m\u001b[1mtrain: \u001b[0mWARNING ⚠️ /home/jovyan/__ANIMALS/datasets/ds8_auto_label_yolo_architectures/train/images/Uss-2.1.PetrovskyPass_508_2-12-2024_15-54.JPG: corrupt JPEG restored and saved\n",
      "\u001b[34m\u001b[1mtrain: \u001b[0mWARNING ⚠️ /home/jovyan/__ANIMALS/datasets/ds8_auto_label_yolo_architectures/train/images/Uss-2.1.PetrovskyPass_520_2-14-2024_18-39.JPG: corrupt JPEG restored and saved\n",
      "\u001b[34m\u001b[1mtrain: \u001b[0mWARNING ⚠️ /home/jovyan/__ANIMALS/datasets/ds8_auto_label_yolo_architectures/train/images/Uss-2.1.PetrovskyPass_523_2-17-2024_09-07.JPG: corrupt JPEG restored and saved\n",
      "\u001b[34m\u001b[1mtrain: \u001b[0mWARNING ⚠️ /home/jovyan/__ANIMALS/datasets/ds8_auto_label_yolo_architectures/train/images/Uss-2.1.PetrovskyPass_524_2-17-2024_09-08.JPG: corrupt JPEG restored and saved\n",
      "\u001b[34m\u001b[1mtrain: \u001b[0mWARNING ⚠️ /home/jovyan/__ANIMALS/datasets/ds8_auto_label_yolo_architectures/train/images/Uss-2.1.PetrovskyPass_525_2-17-2024_09-19.JPG: corrupt JPEG restored and saved\n",
      "\u001b[34m\u001b[1mtrain: \u001b[0mWARNING ⚠️ /home/jovyan/__ANIMALS/datasets/ds8_auto_label_yolo_architectures/train/images/Uss-2.1.PetrovskyPass_526_2-17-2024_09-38.JPG: corrupt JPEG restored and saved\n",
      "\u001b[34m\u001b[1mtrain: \u001b[0mWARNING ⚠️ /home/jovyan/__ANIMALS/datasets/ds8_auto_label_yolo_architectures/train/images/Uss-2.1.PetrovskyPass_527_2-17-2024_09-38.JPG: corrupt JPEG restored and saved\n",
      "\u001b[34m\u001b[1mtrain: \u001b[0mWARNING ⚠️ /home/jovyan/__ANIMALS/datasets/ds8_auto_label_yolo_architectures/train/images/Uss-2.1.PetrovskyPass_529_2-17-2024_13-09.JPG: corrupt JPEG restored and saved\n",
      "\u001b[34m\u001b[1mtrain: \u001b[0mWARNING ⚠️ /home/jovyan/__ANIMALS/datasets/ds8_auto_label_yolo_architectures/train/images/Uss-2.1.PetrovskyPass_530_2-17-2024_13-09.JPG: corrupt JPEG restored and saved\n",
      "\u001b[34m\u001b[1mtrain: \u001b[0mWARNING ⚠️ /home/jovyan/__ANIMALS/datasets/ds8_auto_label_yolo_architectures/train/images/Uss-2.1.PetrovskyPass_531_2-17-2024_13-18.JPG: corrupt JPEG restored and saved\n",
      "\u001b[34m\u001b[1mtrain: \u001b[0mWARNING ⚠️ /home/jovyan/__ANIMALS/datasets/ds8_auto_label_yolo_architectures/train/images/Uss-2.1.PetrovskyPass_532_2-17-2024_13-18.JPG: corrupt JPEG restored and saved\n",
      "\u001b[34m\u001b[1mtrain: \u001b[0mWARNING ⚠️ /home/jovyan/__ANIMALS/datasets/ds8_auto_label_yolo_architectures/train/images/Uss-2.1.PetrovskyPass_534_2-17-2024_13-23.JPG: corrupt JPEG restored and saved\n",
      "\u001b[34m\u001b[1mtrain: \u001b[0mWARNING ⚠️ /home/jovyan/__ANIMALS/datasets/ds8_auto_label_yolo_architectures/train/images/Uss-2.1.PetrovskyPass_535_2-17-2024_13-23.JPG: corrupt JPEG restored and saved\n",
      "\u001b[34m\u001b[1mtrain: \u001b[0mWARNING ⚠️ /home/jovyan/__ANIMALS/datasets/ds8_auto_label_yolo_architectures/train/images/Uss-2.1.PetrovskyPass_536_2-17-2024_14-01.JPG: corrupt JPEG restored and saved\n",
      "\u001b[34m\u001b[1mtrain: \u001b[0mWARNING ⚠️ /home/jovyan/__ANIMALS/datasets/ds8_auto_label_yolo_architectures/train/images/Uss-2.1.PetrovskyPass_537_2-17-2024_14-02.JPG: corrupt JPEG restored and saved\n",
      "\u001b[34m\u001b[1mtrain: \u001b[0mWARNING ⚠️ /home/jovyan/__ANIMALS/datasets/ds8_auto_label_yolo_architectures/train/images/Uss-2.1.PetrovskyPass_539_2-17-2024_14-24.JPG: corrupt JPEG restored and saved\n",
      "\u001b[34m\u001b[1mtrain: \u001b[0mWARNING ⚠️ /home/jovyan/__ANIMALS/datasets/ds8_auto_label_yolo_architectures/train/images/Uss-2.1.PetrovskyPass_541_2-17-2024_18-13.JPG: corrupt JPEG restored and saved\n",
      "\u001b[34m\u001b[1mtrain: \u001b[0mWARNING ⚠️ /home/jovyan/__ANIMALS/datasets/ds8_auto_label_yolo_architectures/train/images/Uss-2.1.PetrovskyPass_542_2-17-2024_18-13.JPG: corrupt JPEG restored and saved\n",
      "\u001b[34m\u001b[1mtrain: \u001b[0mWARNING ⚠️ /home/jovyan/__ANIMALS/datasets/ds8_auto_label_yolo_architectures/train/images/Uss-2.1.PetrovskyPass_543_2-17-2024_18-13.JPG: corrupt JPEG restored and saved\n",
      "\u001b[34m\u001b[1mtrain: \u001b[0mWARNING ⚠️ /home/jovyan/__ANIMALS/datasets/ds8_auto_label_yolo_architectures/train/images/Uss-2.1.PetrovskyPass_544_2-17-2024_18-14.JPG: corrupt JPEG restored and saved\n",
      "\u001b[34m\u001b[1mtrain: \u001b[0mWARNING ⚠️ /home/jovyan/__ANIMALS/datasets/ds8_auto_label_yolo_architectures/train/images/Uss-2.1.PetrovskyPass_545_2-17-2024_18-14.JPG: corrupt JPEG restored and saved\n",
      "\u001b[34m\u001b[1mtrain: \u001b[0mWARNING ⚠️ /home/jovyan/__ANIMALS/datasets/ds8_auto_label_yolo_architectures/train/images/Uss-2.1.PetrovskyPass_546_2-17-2024_18-15.JPG: corrupt JPEG restored and saved\n",
      "\u001b[34m\u001b[1mtrain: \u001b[0mWARNING ⚠️ /home/jovyan/__ANIMALS/datasets/ds8_auto_label_yolo_architectures/train/images/Uss-2.1.PetrovskyPass_547_2-17-2024_18-15.JPG: corrupt JPEG restored and saved\n",
      "\u001b[34m\u001b[1mtrain: \u001b[0mWARNING ⚠️ /home/jovyan/__ANIMALS/datasets/ds8_auto_label_yolo_architectures/train/images/Uss-2.1.PetrovskyPass_548_2-17-2024_20-59.JPG: corrupt JPEG restored and saved\n",
      "\u001b[34m\u001b[1mtrain: \u001b[0mWARNING ⚠️ /home/jovyan/__ANIMALS/datasets/ds8_auto_label_yolo_architectures/train/images/Uss-2.1.PetrovskyPass_549_2-17-2024_20-59.JPG: corrupt JPEG restored and saved\n",
      "\u001b[34m\u001b[1mtrain: \u001b[0mWARNING ⚠️ /home/jovyan/__ANIMALS/datasets/ds8_auto_label_yolo_architectures/train/images/Uss-2.1.PetrovskyPass_550_2-17-2024_21-00.JPG: corrupt JPEG restored and saved\n",
      "\u001b[34m\u001b[1mtrain: \u001b[0mWARNING ⚠️ /home/jovyan/__ANIMALS/datasets/ds8_auto_label_yolo_architectures/train/images/Uss-2.1.PetrovskyPass_551_2-18-2024_09-10.JPG: corrupt JPEG restored and saved\n",
      "\u001b[34m\u001b[1mtrain: \u001b[0mWARNING ⚠️ /home/jovyan/__ANIMALS/datasets/ds8_auto_label_yolo_architectures/train/images/Uss-2.1.PetrovskyPass_552_2-18-2024_09-56.JPG: corrupt JPEG restored and saved\n",
      "\u001b[34m\u001b[1mtrain: \u001b[0mWARNING ⚠️ /home/jovyan/__ANIMALS/datasets/ds8_auto_label_yolo_architectures/train/images/Uss-2.1.PetrovskyPass_553_2-18-2024_09-57.JPG: corrupt JPEG restored and saved\n",
      "\u001b[34m\u001b[1mtrain: \u001b[0mWARNING ⚠️ /home/jovyan/__ANIMALS/datasets/ds8_auto_label_yolo_architectures/train/images/Uss-2.1.PetrovskyPass_554_2-18-2024_09-58.JPG: corrupt JPEG restored and saved\n",
      "\u001b[34m\u001b[1mtrain: \u001b[0mWARNING ⚠️ /home/jovyan/__ANIMALS/datasets/ds8_auto_label_yolo_architectures/train/images/Uss-2.1.PetrovskyPass_556_2-18-2024_10-59.JPG: corrupt JPEG restored and saved\n",
      "\u001b[34m\u001b[1mtrain: \u001b[0mWARNING ⚠️ /home/jovyan/__ANIMALS/datasets/ds8_auto_label_yolo_architectures/train/images/Uss-2.1.PetrovskyPass_557_2-18-2024_10-59.JPG: corrupt JPEG restored and saved\n",
      "\u001b[34m\u001b[1mtrain: \u001b[0mWARNING ⚠️ /home/jovyan/__ANIMALS/datasets/ds8_auto_label_yolo_architectures/train/images/Uss-2.1.PetrovskyPass_558_2-18-2024_11-15.JPG: corrupt JPEG restored and saved\n",
      "\u001b[34m\u001b[1mtrain: \u001b[0mWARNING ⚠️ /home/jovyan/__ANIMALS/datasets/ds8_auto_label_yolo_architectures/train/images/Uss-2.1.PetrovskyPass_561_2-18-2024_11-34.JPG: corrupt JPEG restored and saved\n",
      "\u001b[34m\u001b[1mtrain: \u001b[0mWARNING ⚠️ /home/jovyan/__ANIMALS/datasets/ds8_auto_label_yolo_architectures/train/images/Uss-2.1.PetrovskyPass_562_2-18-2024_11-38.JPG: corrupt JPEG restored and saved\n",
      "\u001b[34m\u001b[1mtrain: \u001b[0mWARNING ⚠️ /home/jovyan/__ANIMALS/datasets/ds8_auto_label_yolo_architectures/train/images/Uss-2.1.PetrovskyPass_563_2-18-2024_11-38.JPG: corrupt JPEG restored and saved\n",
      "\u001b[34m\u001b[1mtrain: \u001b[0mWARNING ⚠️ /home/jovyan/__ANIMALS/datasets/ds8_auto_label_yolo_architectures/train/images/Uss-2.1.PetrovskyPass_564_2-18-2024_12-21.JPG: corrupt JPEG restored and saved\n",
      "\u001b[34m\u001b[1mtrain: \u001b[0mWARNING ⚠️ /home/jovyan/__ANIMALS/datasets/ds8_auto_label_yolo_architectures/train/images/Uss-2.1.PetrovskyPass_565_2-18-2024_14-32.JPG: corrupt JPEG restored and saved\n",
      "\u001b[34m\u001b[1mtrain: \u001b[0mWARNING ⚠️ /home/jovyan/__ANIMALS/datasets/ds8_auto_label_yolo_architectures/train/images/Uss-2.1.PetrovskyPass_567_2-18-2024_15-07.JPG: corrupt JPEG restored and saved\n",
      "\u001b[34m\u001b[1mtrain: \u001b[0mWARNING ⚠️ /home/jovyan/__ANIMALS/datasets/ds8_auto_label_yolo_architectures/train/images/Uss-2.1.PetrovskyPass_570_2-19-2024_04-21.JPG: corrupt JPEG restored and saved\n",
      "\u001b[34m\u001b[1mtrain: \u001b[0mWARNING ⚠️ /home/jovyan/__ANIMALS/datasets/ds8_auto_label_yolo_architectures/train/images/Uss-2.1.PetrovskyPass_571_2-19-2024_06-29.JPG: corrupt JPEG restored and saved\n",
      "\u001b[34m\u001b[1mtrain: \u001b[0mWARNING ⚠️ /home/jovyan/__ANIMALS/datasets/ds8_auto_label_yolo_architectures/train/images/Uss-2.1.PetrovskyPass_572_2-19-2024_06-36.JPG: corrupt JPEG restored and saved\n",
      "\u001b[34m\u001b[1mtrain: \u001b[0mWARNING ⚠️ /home/jovyan/__ANIMALS/datasets/ds8_auto_label_yolo_architectures/train/images/Uss-2.1.PetrovskyPass_575_2-19-2024_21-58.JPG: corrupt JPEG restored and saved\n",
      "\u001b[34m\u001b[1mtrain: \u001b[0mWARNING ⚠️ /home/jovyan/__ANIMALS/datasets/ds8_auto_label_yolo_architectures/train/images/Uss-2.1.PetrovskyPass_577_2-19-2024_21-58.JPG: corrupt JPEG restored and saved\n",
      "\u001b[34m\u001b[1mtrain: \u001b[0mWARNING ⚠️ /home/jovyan/__ANIMALS/datasets/ds8_auto_label_yolo_architectures/train/images/Uss-2.1.PetrovskyPass_578_2-19-2024_21-58.JPG: corrupt JPEG restored and saved\n",
      "\u001b[34m\u001b[1mtrain: \u001b[0mWARNING ⚠️ /home/jovyan/__ANIMALS/datasets/ds8_auto_label_yolo_architectures/train/images/Uss-2.1.PetrovskyPass_579_2-19-2024_21-58.JPG: corrupt JPEG restored and saved\n",
      "\u001b[34m\u001b[1mtrain: \u001b[0mWARNING ⚠️ /home/jovyan/__ANIMALS/datasets/ds8_auto_label_yolo_architectures/train/images/Uss-2.1.PetrovskyPass_580_2-19-2024_22-51.JPG: corrupt JPEG restored and saved\n",
      "\u001b[34m\u001b[1mtrain: \u001b[0mWARNING ⚠️ /home/jovyan/__ANIMALS/datasets/ds8_auto_label_yolo_architectures/train/images/Uss-2.1.PetrovskyPass_581_2-19-2024_22-51.JPG: corrupt JPEG restored and saved\n",
      "\u001b[34m\u001b[1mtrain: \u001b[0mWARNING ⚠️ /home/jovyan/__ANIMALS/datasets/ds8_auto_label_yolo_architectures/train/images/Uss-2.1.PetrovskyPass_582_2-20-2024_03-58.JPG: corrupt JPEG restored and saved\n",
      "\u001b[34m\u001b[1mtrain: \u001b[0mWARNING ⚠️ /home/jovyan/__ANIMALS/datasets/ds8_auto_label_yolo_architectures/train/images/Uss-2.1.PetrovskyPass_587_2-20-2024_20-24.JPG: corrupt JPEG restored and saved\n",
      "\u001b[34m\u001b[1mtrain: \u001b[0mWARNING ⚠️ /home/jovyan/__ANIMALS/datasets/ds8_auto_label_yolo_architectures/train/images/Uss-2.1.PetrovskyPass_596_2-25-2024_10-00.JPG: corrupt JPEG restored and saved\n",
      "\u001b[34m\u001b[1mtrain: \u001b[0mWARNING ⚠️ /home/jovyan/__ANIMALS/datasets/ds8_auto_label_yolo_architectures/train/images/Uss-2.1.PetrovskyPass_597_2-25-2024_10-01.JPG: corrupt JPEG restored and saved\n",
      "\u001b[34m\u001b[1mtrain: \u001b[0mWARNING ⚠️ /home/jovyan/__ANIMALS/datasets/ds8_auto_label_yolo_architectures/train/images/Uss-2.1.PetrovskyPass_599_2-25-2024_10-08.JPG: corrupt JPEG restored and saved\n",
      "\u001b[34m\u001b[1mtrain: \u001b[0mWARNING ⚠️ /home/jovyan/__ANIMALS/datasets/ds8_auto_label_yolo_architectures/train/images/Uss-2.1.PetrovskyPass_600_2-25-2024_10-11.JPG: corrupt JPEG restored and saved\n",
      "\u001b[34m\u001b[1mtrain: \u001b[0mWARNING ⚠️ /home/jovyan/__ANIMALS/datasets/ds8_auto_label_yolo_architectures/train/images/Uss-2.1.PetrovskyPass_601_2-25-2024_10-12.JPG: corrupt JPEG restored and saved\n",
      "\u001b[34m\u001b[1mtrain: \u001b[0mWARNING ⚠️ /home/jovyan/__ANIMALS/datasets/ds8_auto_label_yolo_architectures/train/images/Uss-2.1.PetrovskyPass_602_2-25-2024_10-12.JPG: corrupt JPEG restored and saved\n",
      "\u001b[34m\u001b[1mtrain: \u001b[0mWARNING ⚠️ /home/jovyan/__ANIMALS/datasets/ds8_auto_label_yolo_architectures/train/images/Uss-2.1.PetrovskyPass_603_2-25-2024_10-19.JPG: corrupt JPEG restored and saved\n",
      "\u001b[34m\u001b[1mtrain: \u001b[0mWARNING ⚠️ /home/jovyan/__ANIMALS/datasets/ds8_auto_label_yolo_architectures/train/images/Uss-2.1.PetrovskyPass_604_2-25-2024_10-22.JPG: corrupt JPEG restored and saved\n",
      "\u001b[34m\u001b[1mtrain: \u001b[0mWARNING ⚠️ /home/jovyan/__ANIMALS/datasets/ds8_auto_label_yolo_architectures/train/images/Uss-2.1.PetrovskyPass_605_2-25-2024_10-24.JPG: corrupt JPEG restored and saved\n",
      "\u001b[34m\u001b[1mtrain: \u001b[0mWARNING ⚠️ /home/jovyan/__ANIMALS/datasets/ds8_auto_label_yolo_architectures/train/images/Uss-2.1.PetrovskyPass_607_2-25-2024_10-26.JPG: corrupt JPEG restored and saved\n",
      "\u001b[34m\u001b[1mtrain: \u001b[0mWARNING ⚠️ /home/jovyan/__ANIMALS/datasets/ds8_auto_label_yolo_architectures/train/images/Uss-2.1.PetrovskyPass_608_2-25-2024_10-28.JPG: corrupt JPEG restored and saved\n",
      "\u001b[34m\u001b[1mtrain: \u001b[0mWARNING ⚠️ /home/jovyan/__ANIMALS/datasets/ds8_auto_label_yolo_architectures/train/images/Uss-2.1.PetrovskyPass_609_2-25-2024_10-28.JPG: corrupt JPEG restored and saved\n",
      "\u001b[34m\u001b[1mtrain: \u001b[0mWARNING ⚠️ /home/jovyan/__ANIMALS/datasets/ds8_auto_label_yolo_architectures/train/images/Uss-2.1.PetrovskyPass_610_2-25-2024_10-44.JPG: corrupt JPEG restored and saved\n",
      "\u001b[34m\u001b[1mtrain: \u001b[0mWARNING ⚠️ /home/jovyan/__ANIMALS/datasets/ds8_auto_label_yolo_architectures/train/images/Uss-2.1.PetrovskyPass_611_2-25-2024_10-45.JPG: corrupt JPEG restored and saved\n",
      "\u001b[34m\u001b[1mtrain: \u001b[0mWARNING ⚠️ /home/jovyan/__ANIMALS/datasets/ds8_auto_label_yolo_architectures/train/images/Uss-2.1.PetrovskyPass_612_2-25-2024_10-47.JPG: corrupt JPEG restored and saved\n",
      "\u001b[34m\u001b[1mtrain: \u001b[0mWARNING ⚠️ /home/jovyan/__ANIMALS/datasets/ds8_auto_label_yolo_architectures/train/images/Uss-2.1.PetrovskyPass_613_2-25-2024_10-49.JPG: corrupt JPEG restored and saved\n",
      "\u001b[34m\u001b[1mtrain: \u001b[0mWARNING ⚠️ /home/jovyan/__ANIMALS/datasets/ds8_auto_label_yolo_architectures/train/images/Uss-2.1.PetrovskyPass_614_2-25-2024_10-52.JPG: corrupt JPEG restored and saved\n",
      "\u001b[34m\u001b[1mtrain: \u001b[0mWARNING ⚠️ /home/jovyan/__ANIMALS/datasets/ds8_auto_label_yolo_architectures/train/images/Uss-2.1.PetrovskyPass_615_2-25-2024_10-59.JPG: corrupt JPEG restored and saved\n",
      "\u001b[34m\u001b[1mtrain: \u001b[0mWARNING ⚠️ /home/jovyan/__ANIMALS/datasets/ds8_auto_label_yolo_architectures/train/images/Uss-2.1.PetrovskyPass_618_2-25-2024_11-15.JPG: corrupt JPEG restored and saved\n",
      "\u001b[34m\u001b[1mtrain: \u001b[0mWARNING ⚠️ /home/jovyan/__ANIMALS/datasets/ds8_auto_label_yolo_architectures/train/images/Uss-2.1.PetrovskyPass_619_2-25-2024_11-15.JPG: corrupt JPEG restored and saved\n",
      "\u001b[34m\u001b[1mtrain: \u001b[0mWARNING ⚠️ /home/jovyan/__ANIMALS/datasets/ds8_auto_label_yolo_architectures/train/images/Uss-2.1.PetrovskyPass_620_2-25-2024_11-15.JPG: corrupt JPEG restored and saved\n",
      "\u001b[34m\u001b[1mtrain: \u001b[0mWARNING ⚠️ /home/jovyan/__ANIMALS/datasets/ds8_auto_label_yolo_architectures/train/images/Uss-2.1.PetrovskyPass_621_2-25-2024_11-19.JPG: corrupt JPEG restored and saved\n",
      "\u001b[34m\u001b[1mtrain: \u001b[0mWARNING ⚠️ /home/jovyan/__ANIMALS/datasets/ds8_auto_label_yolo_architectures/train/images/Uss-2.1.PetrovskyPass_622_2-25-2024_11-21.JPG: corrupt JPEG restored and saved\n",
      "\u001b[34m\u001b[1mtrain: \u001b[0mWARNING ⚠️ /home/jovyan/__ANIMALS/datasets/ds8_auto_label_yolo_architectures/train/images/Uss-2.1.PetrovskyPass_623_2-25-2024_11-22.JPG: corrupt JPEG restored and saved\n",
      "\u001b[34m\u001b[1mtrain: \u001b[0mWARNING ⚠️ /home/jovyan/__ANIMALS/datasets/ds8_auto_label_yolo_architectures/train/images/Uss-2.1.PetrovskyPass_625_2-25-2024_11-30.JPG: corrupt JPEG restored and saved\n",
      "\u001b[34m\u001b[1mtrain: \u001b[0mWARNING ⚠️ /home/jovyan/__ANIMALS/datasets/ds8_auto_label_yolo_architectures/train/images/Uss-2.1.PetrovskyPass_629_3-1-2024_08-45.JPG: corrupt JPEG restored and saved\n",
      "\u001b[34m\u001b[1mtrain: \u001b[0mWARNING ⚠️ /home/jovyan/__ANIMALS/datasets/ds8_auto_label_yolo_architectures/train/images/Uss-2.1.PetrovskyPass_630_3-1-2024_08-45.JPG: corrupt JPEG restored and saved\n",
      "\u001b[34m\u001b[1mtrain: \u001b[0mWARNING ⚠️ /home/jovyan/__ANIMALS/datasets/ds8_auto_label_yolo_architectures/train/images/Uss-2.1.PetrovskyPass_631_3-1-2024_08-47.JPG: corrupt JPEG restored and saved\n",
      "\u001b[34m\u001b[1mtrain: \u001b[0mWARNING ⚠️ /home/jovyan/__ANIMALS/datasets/ds8_auto_label_yolo_architectures/train/images/Uss-2.1.PetrovskyPass_633_3-1-2024_14-39.JPG: corrupt JPEG restored and saved\n",
      "\u001b[34m\u001b[1mtrain: \u001b[0mWARNING ⚠️ /home/jovyan/__ANIMALS/datasets/ds8_auto_label_yolo_architectures/train/images/Uss-2.1.PetrovskyPass_635_3-1-2024_14-41.JPG: corrupt JPEG restored and saved\n",
      "\u001b[34m\u001b[1mtrain: \u001b[0mWARNING ⚠️ /home/jovyan/__ANIMALS/datasets/ds8_auto_label_yolo_architectures/train/images/Uss-2.1.PetrovskyPass_637_3-2-2024_15-16.JPG: corrupt JPEG restored and saved\n",
      "\u001b[34m\u001b[1mtrain: \u001b[0mWARNING ⚠️ /home/jovyan/__ANIMALS/datasets/ds8_auto_label_yolo_architectures/train/images/Uss-2.1.PetrovskyPass_638_3-2-2024_15-44.JPG: corrupt JPEG restored and saved\n",
      "\u001b[34m\u001b[1mtrain: \u001b[0mWARNING ⚠️ /home/jovyan/__ANIMALS/datasets/ds8_auto_label_yolo_architectures/train/images/Uss-2.1.PetrovskyPass_642_3-4-2024_09-18.JPG: corrupt JPEG restored and saved\n",
      "\u001b[34m\u001b[1mtrain: \u001b[0mWARNING ⚠️ /home/jovyan/__ANIMALS/datasets/ds8_auto_label_yolo_architectures/train/images/Uss-2.1.PetrovskyPass_647_3-7-2024_11-40.JPG: corrupt JPEG restored and saved\n",
      "\u001b[34m\u001b[1mtrain: \u001b[0mWARNING ⚠️ /home/jovyan/__ANIMALS/datasets/ds8_auto_label_yolo_architectures/train/images/Uss-2.1.PetrovskyPass_648_3-7-2024_11-47.JPG: corrupt JPEG restored and saved\n",
      "\u001b[34m\u001b[1mtrain: \u001b[0mWARNING ⚠️ /home/jovyan/__ANIMALS/datasets/ds8_auto_label_yolo_architectures/train/images/Uss-2.1.PetrovskyPass_649_3-7-2024_11-53.JPG: corrupt JPEG restored and saved\n",
      "\u001b[34m\u001b[1mtrain: \u001b[0mWARNING ⚠️ /home/jovyan/__ANIMALS/datasets/ds8_auto_label_yolo_architectures/train/images/Uss-2.1.PetrovskyPass_650_3-7-2024_11-53.JPG: corrupt JPEG restored and saved\n",
      "\u001b[34m\u001b[1mtrain: \u001b[0mWARNING ⚠️ /home/jovyan/__ANIMALS/datasets/ds8_auto_label_yolo_architectures/train/images/Uss-2.1.PetrovskyPass_652_3-8-2024_08-40.JPG: corrupt JPEG restored and saved\n",
      "\u001b[34m\u001b[1mtrain: \u001b[0mWARNING ⚠️ /home/jovyan/__ANIMALS/datasets/ds8_auto_label_yolo_architectures/train/images/Uss-2.1.PetrovskyPass_678_3-20-2024_09-36.JPG: corrupt JPEG restored and saved\n",
      "\u001b[34m\u001b[1mtrain: \u001b[0mWARNING ⚠️ /home/jovyan/__ANIMALS/datasets/ds8_auto_label_yolo_architectures/train/images/Uss-2.1.PetrovskyPass_679_3-20-2024_09-37.JPG: corrupt JPEG restored and saved\n",
      "\u001b[34m\u001b[1mtrain: \u001b[0mWARNING ⚠️ /home/jovyan/__ANIMALS/datasets/ds8_auto_label_yolo_architectures/train/images/Uss-2.1.PetrovskyPass_683_3-23-2024_16-31.JPG: corrupt JPEG restored and saved\n",
      "\u001b[34m\u001b[1mtrain: \u001b[0mWARNING ⚠️ /home/jovyan/__ANIMALS/datasets/ds8_auto_label_yolo_architectures/train/images/Uss-2.1.PetrovskyPass_685_3-23-2024_16-32.JPG: corrupt JPEG restored and saved\n",
      "\u001b[34m\u001b[1mtrain: \u001b[0mWARNING ⚠️ /home/jovyan/__ANIMALS/datasets/ds8_auto_label_yolo_architectures/train/images/Uss-2.1.PetrovskyPass_687_3-25-2024_01-32.JPG: corrupt JPEG restored and saved\n",
      "\u001b[34m\u001b[1mtrain: \u001b[0mWARNING ⚠️ /home/jovyan/__ANIMALS/datasets/ds8_auto_label_yolo_architectures/train/images/Uss-2.1.PetrovskyPass_703_4-3-2024_20-56.JPG: corrupt JPEG restored and saved\n",
      "\u001b[34m\u001b[1mtrain: \u001b[0mWARNING ⚠️ /home/jovyan/__ANIMALS/datasets/ds8_auto_label_yolo_architectures/train/images/Uss-2.1.PetrovskyPass_704_4-4-2024_19-44.JPG: corrupt JPEG restored and saved\n",
      "\u001b[34m\u001b[1mtrain: \u001b[0mWARNING ⚠️ /home/jovyan/__ANIMALS/datasets/ds8_auto_label_yolo_architectures/train/images/Uss-2.1.PetrovskyPass_706_4-5-2024_11-52.JPG: corrupt JPEG restored and saved\n",
      "\u001b[34m\u001b[1mtrain: \u001b[0mWARNING ⚠️ /home/jovyan/__ANIMALS/datasets/ds8_auto_label_yolo_architectures/train/images/Uss-2.1.PetrovskyPass_709_4-6-2024_20-08.JPG: corrupt JPEG restored and saved\n",
      "\u001b[34m\u001b[1mtrain: \u001b[0mWARNING ⚠️ /home/jovyan/__ANIMALS/datasets/ds8_auto_label_yolo_architectures/train/images/Uss-2.1.PetrovskyPass_710_4-6-2024_21-19.JPG: corrupt JPEG restored and saved\n",
      "\u001b[34m\u001b[1mtrain: \u001b[0mWARNING ⚠️ /home/jovyan/__ANIMALS/datasets/ds8_auto_label_yolo_architectures/train/images/Uss-2.1.PetrovskyPass_712_4-7-2024_18-32.JPG: corrupt JPEG restored and saved\n",
      "\u001b[34m\u001b[1mtrain: \u001b[0mWARNING ⚠️ /home/jovyan/__ANIMALS/datasets/ds8_auto_label_yolo_architectures/train/images/Uss-2.1.PetrovskyPass_713_4-8-2024_18-55.JPG: corrupt JPEG restored and saved\n",
      "\u001b[34m\u001b[1mtrain: \u001b[0mWARNING ⚠️ /home/jovyan/__ANIMALS/datasets/ds8_auto_label_yolo_architectures/train/images/Uss-2.PetrovskyPass_307_3-22-2024_15-34.JPG: corrupt JPEG restored and saved\n",
      "\u001b[34m\u001b[1mtrain: \u001b[0mWARNING ⚠️ /home/jovyan/__ANIMALS/datasets/ds8_auto_label_yolo_architectures/train/images/Uss-2.PetrovskyPass_314_3-25-2024_01-32.JPG: corrupt JPEG restored and saved\n",
      "\u001b[34m\u001b[1mtrain: \u001b[0mWARNING ⚠️ /home/jovyan/__ANIMALS/datasets/ds8_auto_label_yolo_architectures/train/images/Uss-2.PetrovskyPass_323_3-27-2024_17-34.JPG: corrupt JPEG restored and saved\n",
      "\u001b[34m\u001b[1mtrain: \u001b[0mWARNING ⚠️ /home/jovyan/__ANIMALS/datasets/ds8_auto_label_yolo_architectures/train/images/Uss-2.PetrovskyPass_324_3-27-2024_18-11.JPG: corrupt JPEG restored and saved\n",
      "\u001b[34m\u001b[1mtrain: \u001b[0mWARNING ⚠️ /home/jovyan/__ANIMALS/datasets/ds8_auto_label_yolo_architectures/train/images/Uss-2.PetrovskyPass_344_4-6-2024_20-08.JPG: corrupt JPEG restored and saved\n",
      "\u001b[34m\u001b[1mtrain: \u001b[0mWARNING ⚠️ /home/jovyan/__ANIMALS/datasets/ds8_auto_label_yolo_architectures/train/images/Uss-2.PetrovskyPass_345_4-6-2024_21-18.JPG: corrupt JPEG restored and saved\n",
      "\u001b[34m\u001b[1mtrain: \u001b[0mWARNING ⚠️ /home/jovyan/__ANIMALS/datasets/ds8_auto_label_yolo_architectures/train/images/Uss-21.Otradnayaupper_027_4-10-2024_13-41.JPG: ignoring corrupt image/label: Label class 20 exceeds dataset class count 18. Possible class labels are 0-17\n",
      "\u001b[34m\u001b[1mtrain: \u001b[0mWARNING ⚠️ /home/jovyan/__ANIMALS/datasets/ds8_auto_label_yolo_architectures/train/images/Uss-25.1.PravayaKomarovka_070_12-30-2023_18-23.JPG: corrupt JPEG restored and saved\n",
      "\u001b[34m\u001b[1mtrain: \u001b[0mWARNING ⚠️ /home/jovyan/__ANIMALS/datasets/ds8_auto_label_yolo_architectures/train/images/Uss-25.1.PravayaKomarovka_072_12-30-2023_18-23.JPG: corrupt JPEG restored and saved\n",
      "\u001b[34m\u001b[1mtrain: \u001b[0mWARNING ⚠️ /home/jovyan/__ANIMALS/datasets/ds8_auto_label_yolo_architectures/train/images/Uss-25.1.PravayaKomarovka_073_12-30-2023_18-23.JPG: corrupt JPEG restored and saved\n",
      "\u001b[34m\u001b[1mtrain: \u001b[0mWARNING ⚠️ /home/jovyan/__ANIMALS/datasets/ds8_auto_label_yolo_architectures/train/images/Uss-25.1.PravayaKomarovka_074_12-30-2023_18-23.JPG: corrupt JPEG restored and saved\n",
      "\u001b[34m\u001b[1mtrain: \u001b[0mWARNING ⚠️ /home/jovyan/__ANIMALS/datasets/ds8_auto_label_yolo_architectures/train/images/Uss-25.1.PravayaKomarovka_091_1-6-2024_16-24.JPG: corrupt JPEG restored and saved\n",
      "\u001b[34m\u001b[1mtrain: \u001b[0mWARNING ⚠️ /home/jovyan/__ANIMALS/datasets/ds8_auto_label_yolo_architectures/train/images/Uss-25.1.PravayaKomarovka_092_1-6-2024_16-24.JPG: corrupt JPEG restored and saved\n",
      "\u001b[34m\u001b[1mtrain: \u001b[0mWARNING ⚠️ /home/jovyan/__ANIMALS/datasets/ds8_auto_label_yolo_architectures/train/images/Uss-25.1.PravayaKomarovka_093_1-6-2024_16-25.JPG: corrupt JPEG restored and saved\n",
      "\u001b[34m\u001b[1mtrain: \u001b[0mWARNING ⚠️ /home/jovyan/__ANIMALS/datasets/ds8_auto_label_yolo_architectures/train/images/Uss-25.1.PravayaKomarovka_094_1-6-2024_16-28.JPG: corrupt JPEG restored and saved\n",
      "\u001b[34m\u001b[1mtrain: \u001b[0mWARNING ⚠️ /home/jovyan/__ANIMALS/datasets/ds8_auto_label_yolo_architectures/train/images/Uss-25.1.PravayaKomarovka_124_1-13-2024_18-51.JPG: corrupt JPEG restored and saved\n",
      "\u001b[34m\u001b[1mtrain: \u001b[0mWARNING ⚠️ /home/jovyan/__ANIMALS/datasets/ds8_auto_label_yolo_architectures/train/images/Uss-25.1.PravayaKomarovka_133_1-14-2024_09-24.JPG: corrupt JPEG restored and saved\n",
      "\u001b[34m\u001b[1mtrain: \u001b[0mWARNING ⚠️ /home/jovyan/__ANIMALS/datasets/ds8_auto_label_yolo_architectures/train/images/Uss-25.1.PravayaKomarovka_135_1-14-2024_09-26.JPG: corrupt JPEG restored and saved\n",
      "\u001b[34m\u001b[1mtrain: \u001b[0mWARNING ⚠️ /home/jovyan/__ANIMALS/datasets/ds8_auto_label_yolo_architectures/train/images/Uss-25.1.PravayaKomarovka_136_1-14-2024_09-26.JPG: corrupt JPEG restored and saved\n",
      "\u001b[34m\u001b[1mtrain: \u001b[0mWARNING ⚠️ /home/jovyan/__ANIMALS/datasets/ds8_auto_label_yolo_architectures/train/images/Uss-25.1.PravayaKomarovka_138_1-14-2024_09-34.JPG: corrupt JPEG restored and saved\n",
      "\u001b[34m\u001b[1mtrain: \u001b[0mWARNING ⚠️ /home/jovyan/__ANIMALS/datasets/ds8_auto_label_yolo_architectures/train/images/Uss-25.1.PravayaKomarovka_139_1-14-2024_09-35.JPG: corrupt JPEG restored and saved\n",
      "\u001b[34m\u001b[1mtrain: \u001b[0mWARNING ⚠️ /home/jovyan/__ANIMALS/datasets/ds8_auto_label_yolo_architectures/train/images/Uss-25.1.PravayaKomarovka_140_1-14-2024_09-35.JPG: corrupt JPEG restored and saved\n",
      "\u001b[34m\u001b[1mtrain: \u001b[0mWARNING ⚠️ /home/jovyan/__ANIMALS/datasets/ds8_auto_label_yolo_architectures/train/images/Uss-25.1.PravayaKomarovka_142_1-14-2024_10-45.JPG: corrupt JPEG restored and saved\n",
      "\u001b[34m\u001b[1mtrain: \u001b[0mWARNING ⚠️ /home/jovyan/__ANIMALS/datasets/ds8_auto_label_yolo_architectures/train/images/Uss-25.1.PravayaKomarovka_143_1-14-2024_10-46.JPG: corrupt JPEG restored and saved\n",
      "\u001b[34m\u001b[1mtrain: \u001b[0mWARNING ⚠️ /home/jovyan/__ANIMALS/datasets/ds8_auto_label_yolo_architectures/train/images/Uss-25.1.PravayaKomarovka_144_1-14-2024_10-46.JPG: corrupt JPEG restored and saved\n",
      "\u001b[34m\u001b[1mtrain: \u001b[0mWARNING ⚠️ /home/jovyan/__ANIMALS/datasets/ds8_auto_label_yolo_architectures/train/images/Uss-25.1.PravayaKomarovka_145_1-14-2024_10-47.JPG: corrupt JPEG restored and saved\n",
      "\u001b[34m\u001b[1mtrain: \u001b[0mWARNING ⚠️ /home/jovyan/__ANIMALS/datasets/ds8_auto_label_yolo_architectures/train/images/Uss-25.1.PravayaKomarovka_146_1-14-2024_10-49.JPG: corrupt JPEG restored and saved\n",
      "\u001b[34m\u001b[1mtrain: \u001b[0mWARNING ⚠️ /home/jovyan/__ANIMALS/datasets/ds8_auto_label_yolo_architectures/train/images/Uss-25.1.PravayaKomarovka_148_1-14-2024_10-50.JPG: corrupt JPEG restored and saved\n",
      "\u001b[34m\u001b[1mtrain: \u001b[0mWARNING ⚠️ /home/jovyan/__ANIMALS/datasets/ds8_auto_label_yolo_architectures/train/images/Uss-25.1.PravayaKomarovka_149_1-14-2024_10-51.JPG: corrupt JPEG restored and saved\n",
      "\u001b[34m\u001b[1mtrain: \u001b[0mWARNING ⚠️ /home/jovyan/__ANIMALS/datasets/ds8_auto_label_yolo_architectures/train/images/Uss-25.1.PravayaKomarovka_151_1-15-2024_00-45.JPG: corrupt JPEG restored and saved\n",
      "\u001b[34m\u001b[1mtrain: \u001b[0mWARNING ⚠️ /home/jovyan/__ANIMALS/datasets/ds8_auto_label_yolo_architectures/train/images/Uss-25.1.PravayaKomarovka_166_1-18-2024_19-03.JPG: corrupt JPEG restored and saved\n",
      "\u001b[34m\u001b[1mtrain: \u001b[0mWARNING ⚠️ /home/jovyan/__ANIMALS/datasets/ds8_auto_label_yolo_architectures/train/images/Uss-25.1.PravayaKomarovka_168_1-18-2024_19-06.JPG: corrupt JPEG restored and saved\n",
      "\u001b[34m\u001b[1mtrain: \u001b[0mWARNING ⚠️ /home/jovyan/__ANIMALS/datasets/ds8_auto_label_yolo_architectures/train/images/Uss-25.1.PravayaKomarovka_169_1-18-2024_19-15.JPG: corrupt JPEG restored and saved\n",
      "\u001b[34m\u001b[1mtrain: \u001b[0mWARNING ⚠️ /home/jovyan/__ANIMALS/datasets/ds8_auto_label_yolo_architectures/train/images/Uss-25.1.PravayaKomarovka_170_1-19-2024_10-57.JPG: corrupt JPEG restored and saved\n",
      "\u001b[34m\u001b[1mtrain: \u001b[0mWARNING ⚠️ /home/jovyan/__ANIMALS/datasets/ds8_auto_label_yolo_architectures/train/images/Uss-25.1.PravayaKomarovka_171_1-19-2024_10-57.JPG: corrupt JPEG restored and saved\n",
      "\u001b[34m\u001b[1mtrain: \u001b[0mWARNING ⚠️ /home/jovyan/__ANIMALS/datasets/ds8_auto_label_yolo_architectures/train/images/Uss-25.1.PravayaKomarovka_172_1-19-2024_11-00.JPG: corrupt JPEG restored and saved\n",
      "\u001b[34m\u001b[1mtrain: \u001b[0mWARNING ⚠️ /home/jovyan/__ANIMALS/datasets/ds8_auto_label_yolo_architectures/train/images/Uss-25.1.PravayaKomarovka_173_1-19-2024_11-01.JPG: corrupt JPEG restored and saved\n",
      "\u001b[34m\u001b[1mtrain: \u001b[0mWARNING ⚠️ /home/jovyan/__ANIMALS/datasets/ds8_auto_label_yolo_architectures/train/images/Uss-25.1.PravayaKomarovka_174_1-19-2024_11-14.JPG: corrupt JPEG restored and saved\n",
      "\u001b[34m\u001b[1mtrain: \u001b[0mWARNING ⚠️ /home/jovyan/__ANIMALS/datasets/ds8_auto_label_yolo_architectures/train/images/Uss-25.1.PravayaKomarovka_175_1-19-2024_11-14.JPG: corrupt JPEG restored and saved\n",
      "\u001b[34m\u001b[1mtrain: \u001b[0mWARNING ⚠️ /home/jovyan/__ANIMALS/datasets/ds8_auto_label_yolo_architectures/train/images/Uss-25.1.PravayaKomarovka_178_1-19-2024_11-15.JPG: corrupt JPEG restored and saved\n",
      "\u001b[34m\u001b[1mtrain: \u001b[0mWARNING ⚠️ /home/jovyan/__ANIMALS/datasets/ds8_auto_label_yolo_architectures/train/images/Uss-25.1.PravayaKomarovka_179_1-19-2024_11-24.JPG: corrupt JPEG restored and saved\n",
      "\u001b[34m\u001b[1mtrain: \u001b[0mWARNING ⚠️ /home/jovyan/__ANIMALS/datasets/ds8_auto_label_yolo_architectures/train/images/Uss-25.1.PravayaKomarovka_180_1-19-2024_11-24.JPG: corrupt JPEG restored and saved\n",
      "\u001b[34m\u001b[1mtrain: \u001b[0mWARNING ⚠️ /home/jovyan/__ANIMALS/datasets/ds8_auto_label_yolo_architectures/train/images/Uss-25.1.PravayaKomarovka_181_1-19-2024_11-25.JPG: corrupt JPEG restored and saved\n",
      "\u001b[34m\u001b[1mtrain: \u001b[0mWARNING ⚠️ /home/jovyan/__ANIMALS/datasets/ds8_auto_label_yolo_architectures/train/images/Uss-25.1.PravayaKomarovka_183_1-19-2024_11-27.JPG: corrupt JPEG restored and saved\n",
      "\u001b[34m\u001b[1mtrain: \u001b[0mWARNING ⚠️ /home/jovyan/__ANIMALS/datasets/ds8_auto_label_yolo_architectures/train/images/Uss-25.1.PravayaKomarovka_184_1-19-2024_11-34.JPG: corrupt JPEG restored and saved\n",
      "\u001b[34m\u001b[1mtrain: \u001b[0mWARNING ⚠️ /home/jovyan/__ANIMALS/datasets/ds8_auto_label_yolo_architectures/train/images/Uss-25.1.PravayaKomarovka_185_1-19-2024_12-03.JPG: corrupt JPEG restored and saved\n",
      "\u001b[34m\u001b[1mtrain: \u001b[0mWARNING ⚠️ /home/jovyan/__ANIMALS/datasets/ds8_auto_label_yolo_architectures/train/images/Uss-25.1.PravayaKomarovka_187_1-19-2024_12-04.JPG: corrupt JPEG restored and saved\n",
      "\u001b[34m\u001b[1mtrain: \u001b[0mWARNING ⚠️ /home/jovyan/__ANIMALS/datasets/ds8_auto_label_yolo_architectures/train/images/Uss-25.1.PravayaKomarovka_192_1-21-2024_10-27.JPG: corrupt JPEG restored and saved\n",
      "\u001b[34m\u001b[1mtrain: \u001b[0mWARNING ⚠️ /home/jovyan/__ANIMALS/datasets/ds8_auto_label_yolo_architectures/train/images/Uss-25.1.PravayaKomarovka_193_1-21-2024_10-28.JPG: corrupt JPEG restored and saved\n",
      "\u001b[34m\u001b[1mtrain: \u001b[0mWARNING ⚠️ /home/jovyan/__ANIMALS/datasets/ds8_auto_label_yolo_architectures/train/images/Uss-25.1.PravayaKomarovka_194_1-21-2024_10-29.JPG: corrupt JPEG restored and saved\n",
      "\u001b[34m\u001b[1mtrain: \u001b[0mWARNING ⚠️ /home/jovyan/__ANIMALS/datasets/ds8_auto_label_yolo_architectures/train/images/Uss-25.1.PravayaKomarovka_196_1-21-2024_10-30.JPG: corrupt JPEG restored and saved\n",
      "\u001b[34m\u001b[1mtrain: \u001b[0mWARNING ⚠️ /home/jovyan/__ANIMALS/datasets/ds8_auto_label_yolo_architectures/train/images/Uss-25.1.PravayaKomarovka_197_1-21-2024_10-33.JPG: corrupt JPEG restored and saved\n",
      "\u001b[34m\u001b[1mtrain: \u001b[0mWARNING ⚠️ /home/jovyan/__ANIMALS/datasets/ds8_auto_label_yolo_architectures/train/images/Uss-25.1.PravayaKomarovka_198_1-21-2024_10-44.JPG: corrupt JPEG restored and saved\n",
      "\u001b[34m\u001b[1mtrain: \u001b[0mWARNING ⚠️ /home/jovyan/__ANIMALS/datasets/ds8_auto_label_yolo_architectures/train/images/Uss-25.1.PravayaKomarovka_199_1-21-2024_10-44.JPG: corrupt JPEG restored and saved\n",
      "\u001b[34m\u001b[1mtrain: \u001b[0mWARNING ⚠️ /home/jovyan/__ANIMALS/datasets/ds8_auto_label_yolo_architectures/train/images/Uss-25.1.PravayaKomarovka_200_1-21-2024_10-44.JPG: corrupt JPEG restored and saved\n",
      "\u001b[34m\u001b[1mtrain: \u001b[0mWARNING ⚠️ /home/jovyan/__ANIMALS/datasets/ds8_auto_label_yolo_architectures/train/images/Uss-25.1.PravayaKomarovka_201_1-21-2024_10-46.JPG: corrupt JPEG restored and saved\n",
      "\u001b[34m\u001b[1mtrain: \u001b[0mWARNING ⚠️ /home/jovyan/__ANIMALS/datasets/ds8_auto_label_yolo_architectures/train/images/Uss-25.1.PravayaKomarovka_203_1-21-2024_13-23.JPG: corrupt JPEG restored and saved\n",
      "\u001b[34m\u001b[1mtrain: \u001b[0mWARNING ⚠️ /home/jovyan/__ANIMALS/datasets/ds8_auto_label_yolo_architectures/train/images/Uss-25.1.PravayaKomarovka_204_1-21-2024_13-23.JPG: corrupt JPEG restored and saved\n",
      "\u001b[34m\u001b[1mtrain: \u001b[0mWARNING ⚠️ /home/jovyan/__ANIMALS/datasets/ds8_auto_label_yolo_architectures/train/images/Uss-25.1.PravayaKomarovka_205_1-21-2024_13-23.JPG: corrupt JPEG restored and saved\n",
      "\u001b[34m\u001b[1mtrain: \u001b[0mWARNING ⚠️ /home/jovyan/__ANIMALS/datasets/ds8_auto_label_yolo_architectures/train/images/Uss-25.1.PravayaKomarovka_206_1-21-2024_13-24.JPG: corrupt JPEG restored and saved\n",
      "\u001b[34m\u001b[1mtrain: \u001b[0mWARNING ⚠️ /home/jovyan/__ANIMALS/datasets/ds8_auto_label_yolo_architectures/train/images/Uss-25.1.PravayaKomarovka_207_1-21-2024_13-24.JPG: corrupt JPEG restored and saved\n",
      "\u001b[34m\u001b[1mtrain: \u001b[0mWARNING ⚠️ /home/jovyan/__ANIMALS/datasets/ds8_auto_label_yolo_architectures/train/images/Uss-25.1.PravayaKomarovka_235_1-25-2024_12-43.JPG: corrupt JPEG restored and saved\n",
      "\u001b[34m\u001b[1mtrain: \u001b[0mWARNING ⚠️ /home/jovyan/__ANIMALS/datasets/ds8_auto_label_yolo_architectures/train/images/Uss-25.1.PravayaKomarovka_236_1-25-2024_12-43.JPG: corrupt JPEG restored and saved\n",
      "\u001b[34m\u001b[1mtrain: \u001b[0mWARNING ⚠️ /home/jovyan/__ANIMALS/datasets/ds8_auto_label_yolo_architectures/train/images/Uss-25.1.PravayaKomarovka_237_1-25-2024_12-45.JPG: corrupt JPEG restored and saved\n",
      "\u001b[34m\u001b[1mtrain: \u001b[0mWARNING ⚠️ /home/jovyan/__ANIMALS/datasets/ds8_auto_label_yolo_architectures/train/images/aug_yellow_marten_0.JPG: ignoring corrupt image/label: Label class 20 exceeds dataset class count 18. Possible class labels are 0-17\n",
      "\u001b[34m\u001b[1mtrain: \u001b[0mWARNING ⚠️ /home/jovyan/__ANIMALS/datasets/ds8_auto_label_yolo_architectures/train/images/aug_yellow_marten_1.JPG: ignoring corrupt image/label: Label class 20 exceeds dataset class count 18. Possible class labels are 0-17\n",
      "\u001b[34m\u001b[1mtrain: \u001b[0mWARNING ⚠️ /home/jovyan/__ANIMALS/datasets/ds8_auto_label_yolo_architectures/train/images/aug_yellow_marten_2.JPG: ignoring corrupt image/label: Label class 20 exceeds dataset class count 18. Possible class labels are 0-17\n",
      "\u001b[34m\u001b[1mtrain: \u001b[0mWARNING ⚠️ /home/jovyan/__ANIMALS/datasets/ds8_auto_label_yolo_architectures/train/images/aug_yellow_marten_3.JPG: ignoring corrupt image/label: Label class 20 exceeds dataset class count 18. Possible class labels are 0-17\n",
      "\u001b[34m\u001b[1mtrain: \u001b[0mWARNING ⚠️ /home/jovyan/__ANIMALS/datasets/ds8_auto_label_yolo_architectures/train/images/aug_yellow_marten_4.JPG: ignoring corrupt image/label: Label class 20 exceeds dataset class count 18. Possible class labels are 0-17\n",
      "\u001b[34m\u001b[1mtrain: \u001b[0mWARNING ⚠️ /home/jovyan/__ANIMALS/datasets/ds8_auto_label_yolo_architectures/train/images/aug_yellow_marten_5.JPG: ignoring corrupt image/label: Label class 20 exceeds dataset class count 18. Possible class labels are 0-17\n",
      "\u001b[34m\u001b[1mtrain: \u001b[0mWARNING ⚠️ /home/jovyan/__ANIMALS/datasets/ds8_auto_label_yolo_architectures/train/images/aug_yellow_marten_6.JPG: ignoring corrupt image/label: Label class 20 exceeds dataset class count 18. Possible class labels are 0-17\n",
      "\u001b[34m\u001b[1mtrain: \u001b[0mWARNING ⚠️ /home/jovyan/__ANIMALS/datasets/ds8_auto_label_yolo_architectures/train/images/aug_yellow_marten_7.JPG: ignoring corrupt image/label: Label class 20 exceeds dataset class count 18. Possible class labels are 0-17\n",
      "\u001b[34m\u001b[1mtrain: \u001b[0mWARNING ⚠️ /home/jovyan/__ANIMALS/datasets/ds8_auto_label_yolo_architectures/train/images/aug_yellow_marten_8.JPG: ignoring corrupt image/label: Label class 20 exceeds dataset class count 18. Possible class labels are 0-17\n",
      "\u001b[34m\u001b[1malbumentations: \u001b[0mBlur(p=0.01, blur_limit=(3, 7)), MedianBlur(p=0.01, blur_limit=(3, 7)), ToGray(p=0.01, num_output_channels=3, method='weighted_average'), CLAHE(p=0.01, clip_limit=(1.0, 4.0), tile_grid_size=(8, 8))\n"
     ]
    },
    {
     "name": "stderr",
     "output_type": "stream",
     "text": [
      "\n",
      "\u001b[34m\u001b[1mval: \u001b[0mScanning /home/jovyan/__ANIMALS/datasets/ds8_auto_label_yolo_architectures/val/labels.cache... 518 images, 0 backgrounds, 3 corrupt: 100%|██████████| 518/518 [00:00<?, ?it/s]"
     ]
    },
    {
     "name": "stdout",
     "output_type": "stream",
     "text": [
      "\u001b[34m\u001b[1mval: \u001b[0mWARNING ⚠️ /home/jovyan/__ANIMALS/datasets/ds8_auto_label_yolo_architectures/val/images/Uss-1.1.AnikinRidge_007_1-13-2024_13-12.JPG: ignoring corrupt image/label: Label class 20 exceeds dataset class count 18. Possible class labels are 0-17\n",
      "\u001b[34m\u001b[1mval: \u001b[0mWARNING ⚠️ /home/jovyan/__ANIMALS/datasets/ds8_auto_label_yolo_architectures/val/images/Uss-16.1.DubovyCreek_006_2-18-2024_00-00.JPG: corrupt JPEG restored and saved\n",
      "\u001b[34m\u001b[1mval: \u001b[0mWARNING ⚠️ /home/jovyan/__ANIMALS/datasets/ds8_auto_label_yolo_architectures/val/images/Uss-16.1.DubovyCreek_007_3-4-2024_03-03.JPG: corrupt JPEG restored and saved\n",
      "\u001b[34m\u001b[1mval: \u001b[0mWARNING ⚠️ /home/jovyan/__ANIMALS/datasets/ds8_auto_label_yolo_architectures/val/images/Uss-17.Volkha_102_3-24-2024_11-57.JPG: ignoring corrupt image/label: Label class 20 exceeds dataset class count 18. Possible class labels are 0-17\n",
      "\u001b[34m\u001b[1mval: \u001b[0mWARNING ⚠️ /home/jovyan/__ANIMALS/datasets/ds8_auto_label_yolo_architectures/val/images/Uss-2.1.PetrovskyPass_158_1-11-2024_10-10.JPG: corrupt JPEG restored and saved\n",
      "\u001b[34m\u001b[1mval: \u001b[0mWARNING ⚠️ /home/jovyan/__ANIMALS/datasets/ds8_auto_label_yolo_architectures/val/images/Uss-2.1.PetrovskyPass_161_1-11-2024_10-30.JPG: corrupt JPEG restored and saved\n",
      "\u001b[34m\u001b[1mval: \u001b[0mWARNING ⚠️ /home/jovyan/__ANIMALS/datasets/ds8_auto_label_yolo_architectures/val/images/Uss-2.1.PetrovskyPass_179_1-11-2024_12-10.JPG: corrupt JPEG restored and saved\n",
      "\u001b[34m\u001b[1mval: \u001b[0mWARNING ⚠️ /home/jovyan/__ANIMALS/datasets/ds8_auto_label_yolo_architectures/val/images/Uss-2.1.PetrovskyPass_188_1-11-2024_17-34.JPG: corrupt JPEG restored and saved\n",
      "\u001b[34m\u001b[1mval: \u001b[0mWARNING ⚠️ /home/jovyan/__ANIMALS/datasets/ds8_auto_label_yolo_architectures/val/images/Uss-2.1.PetrovskyPass_220_1-14-2024_10-03.JPG: corrupt JPEG restored and saved\n",
      "\u001b[34m\u001b[1mval: \u001b[0mWARNING ⚠️ /home/jovyan/__ANIMALS/datasets/ds8_auto_label_yolo_architectures/val/images/Uss-2.1.PetrovskyPass_228_1-15-2024_17-31.JPG: corrupt JPEG restored and saved\n",
      "\u001b[34m\u001b[1mval: \u001b[0mWARNING ⚠️ /home/jovyan/__ANIMALS/datasets/ds8_auto_label_yolo_architectures/val/images/Uss-2.1.PetrovskyPass_266_1-20-2024_00-21.JPG: corrupt JPEG restored and saved\n",
      "\u001b[34m\u001b[1mval: \u001b[0mWARNING ⚠️ /home/jovyan/__ANIMALS/datasets/ds8_auto_label_yolo_architectures/val/images/Uss-2.1.PetrovskyPass_268_1-20-2024_00-24.JPG: corrupt JPEG restored and saved\n",
      "\u001b[34m\u001b[1mval: \u001b[0mWARNING ⚠️ /home/jovyan/__ANIMALS/datasets/ds8_auto_label_yolo_architectures/val/images/Uss-2.1.PetrovskyPass_282_1-25-2024_16-21.JPG: corrupt JPEG restored and saved\n",
      "\u001b[34m\u001b[1mval: \u001b[0mWARNING ⚠️ /home/jovyan/__ANIMALS/datasets/ds8_auto_label_yolo_architectures/val/images/Uss-2.1.PetrovskyPass_344_1-29-2024_16-53.JPG: corrupt JPEG restored and saved\n",
      "\u001b[34m\u001b[1mval: \u001b[0mWARNING ⚠️ /home/jovyan/__ANIMALS/datasets/ds8_auto_label_yolo_architectures/val/images/Uss-2.1.PetrovskyPass_347_1-29-2024_17-00.JPG: corrupt JPEG restored and saved\n",
      "\u001b[34m\u001b[1mval: \u001b[0mWARNING ⚠️ /home/jovyan/__ANIMALS/datasets/ds8_auto_label_yolo_architectures/val/images/Uss-2.1.PetrovskyPass_361_1-29-2024_21-17.JPG: corrupt JPEG restored and saved\n",
      "\u001b[34m\u001b[1mval: \u001b[0mWARNING ⚠️ /home/jovyan/__ANIMALS/datasets/ds8_auto_label_yolo_architectures/val/images/Uss-2.1.PetrovskyPass_385_1-30-2024_10-08.JPG: corrupt JPEG restored and saved\n",
      "\u001b[34m\u001b[1mval: \u001b[0mWARNING ⚠️ /home/jovyan/__ANIMALS/datasets/ds8_auto_label_yolo_architectures/val/images/Uss-2.1.PetrovskyPass_407_1-31-2024_03-10.JPG: corrupt JPEG restored and saved\n",
      "\u001b[34m\u001b[1mval: \u001b[0mWARNING ⚠️ /home/jovyan/__ANIMALS/datasets/ds8_auto_label_yolo_architectures/val/images/Uss-2.1.PetrovskyPass_416_1-31-2024_04-13.JPG: corrupt JPEG restored and saved\n",
      "\u001b[34m\u001b[1mval: \u001b[0mWARNING ⚠️ /home/jovyan/__ANIMALS/datasets/ds8_auto_label_yolo_architectures/val/images/Uss-2.1.PetrovskyPass_452_2-3-2024_16-56.JPG: corrupt JPEG restored and saved\n",
      "\u001b[34m\u001b[1mval: \u001b[0mWARNING ⚠️ /home/jovyan/__ANIMALS/datasets/ds8_auto_label_yolo_architectures/val/images/Uss-2.1.PetrovskyPass_458_2-5-2024_02-37.JPG: corrupt JPEG restored and saved\n",
      "\u001b[34m\u001b[1mval: \u001b[0mWARNING ⚠️ /home/jovyan/__ANIMALS/datasets/ds8_auto_label_yolo_architectures/val/images/Uss-2.1.PetrovskyPass_459_2-5-2024_02-42.JPG: corrupt JPEG restored and saved\n",
      "\u001b[34m\u001b[1mval: \u001b[0mWARNING ⚠️ /home/jovyan/__ANIMALS/datasets/ds8_auto_label_yolo_architectures/val/images/Uss-2.1.PetrovskyPass_466_2-5-2024_16-04.JPG: corrupt JPEG restored and saved\n",
      "\u001b[34m\u001b[1mval: \u001b[0mWARNING ⚠️ /home/jovyan/__ANIMALS/datasets/ds8_auto_label_yolo_architectures/val/images/Uss-2.1.PetrovskyPass_468_2-5-2024_16-05.JPG: corrupt JPEG restored and saved\n",
      "\u001b[34m\u001b[1mval: \u001b[0mWARNING ⚠️ /home/jovyan/__ANIMALS/datasets/ds8_auto_label_yolo_architectures/val/images/Uss-2.1.PetrovskyPass_469_2-5-2024_16-06.JPG: corrupt JPEG restored and saved\n",
      "\u001b[34m\u001b[1mval: \u001b[0mWARNING ⚠️ /home/jovyan/__ANIMALS/datasets/ds8_auto_label_yolo_architectures/val/images/Uss-2.1.PetrovskyPass_474_2-6-2024_04-31.JPG: corrupt JPEG restored and saved\n",
      "\u001b[34m\u001b[1mval: \u001b[0mWARNING ⚠️ /home/jovyan/__ANIMALS/datasets/ds8_auto_label_yolo_architectures/val/images/Uss-2.1.PetrovskyPass_480_2-6-2024_09-56.JPG: corrupt JPEG restored and saved\n",
      "\u001b[34m\u001b[1mval: \u001b[0mWARNING ⚠️ /home/jovyan/__ANIMALS/datasets/ds8_auto_label_yolo_architectures/val/images/Uss-2.1.PetrovskyPass_482_2-6-2024_11-44.JPG: corrupt JPEG restored and saved\n",
      "\u001b[34m\u001b[1mval: \u001b[0mWARNING ⚠️ /home/jovyan/__ANIMALS/datasets/ds8_auto_label_yolo_architectures/val/images/Uss-2.1.PetrovskyPass_488_2-8-2024_04-53.JPG: corrupt JPEG restored and saved\n",
      "\u001b[34m\u001b[1mval: \u001b[0mWARNING ⚠️ /home/jovyan/__ANIMALS/datasets/ds8_auto_label_yolo_architectures/val/images/Uss-2.1.PetrovskyPass_501_2-11-2024_09-23.JPG: corrupt JPEG restored and saved\n",
      "\u001b[34m\u001b[1mval: \u001b[0mWARNING ⚠️ /home/jovyan/__ANIMALS/datasets/ds8_auto_label_yolo_architectures/val/images/Uss-2.1.PetrovskyPass_507_2-12-2024_15-52.JPG: corrupt JPEG restored and saved\n",
      "\u001b[34m\u001b[1mval: \u001b[0mWARNING ⚠️ /home/jovyan/__ANIMALS/datasets/ds8_auto_label_yolo_architectures/val/images/Uss-2.1.PetrovskyPass_511_2-13-2024_01-59.JPG: corrupt JPEG restored and saved\n",
      "\u001b[34m\u001b[1mval: \u001b[0mWARNING ⚠️ /home/jovyan/__ANIMALS/datasets/ds8_auto_label_yolo_architectures/val/images/Uss-2.1.PetrovskyPass_522_2-16-2024_17-41.JPG: corrupt JPEG restored and saved\n",
      "\u001b[34m\u001b[1mval: \u001b[0mWARNING ⚠️ /home/jovyan/__ANIMALS/datasets/ds8_auto_label_yolo_architectures/val/images/Uss-2.1.PetrovskyPass_531_2-17-2024_13-18.JPG: corrupt JPEG restored and saved\n",
      "\u001b[34m\u001b[1mval: \u001b[0mWARNING ⚠️ /home/jovyan/__ANIMALS/datasets/ds8_auto_label_yolo_architectures/val/images/Uss-2.1.PetrovskyPass_533_2-17-2024_13-21.JPG: corrupt JPEG restored and saved\n",
      "\u001b[34m\u001b[1mval: \u001b[0mWARNING ⚠️ /home/jovyan/__ANIMALS/datasets/ds8_auto_label_yolo_architectures/val/images/Uss-2.1.PetrovskyPass_536_2-17-2024_14-01.JPG: corrupt JPEG restored and saved\n",
      "\u001b[34m\u001b[1mval: \u001b[0mWARNING ⚠️ /home/jovyan/__ANIMALS/datasets/ds8_auto_label_yolo_architectures/val/images/Uss-2.1.PetrovskyPass_538_2-17-2024_14-24.JPG: corrupt JPEG restored and saved\n",
      "\u001b[34m\u001b[1mval: \u001b[0mWARNING ⚠️ /home/jovyan/__ANIMALS/datasets/ds8_auto_label_yolo_architectures/val/images/Uss-2.1.PetrovskyPass_543_2-17-2024_18-13.JPG: corrupt JPEG restored and saved\n",
      "\u001b[34m\u001b[1mval: \u001b[0mWARNING ⚠️ /home/jovyan/__ANIMALS/datasets/ds8_auto_label_yolo_architectures/val/images/Uss-2.1.PetrovskyPass_551_2-18-2024_09-10.JPG: corrupt JPEG restored and saved\n",
      "\u001b[34m\u001b[1mval: \u001b[0mWARNING ⚠️ /home/jovyan/__ANIMALS/datasets/ds8_auto_label_yolo_architectures/val/images/Uss-2.1.PetrovskyPass_552_2-18-2024_09-56.JPG: corrupt JPEG restored and saved\n",
      "\u001b[34m\u001b[1mval: \u001b[0mWARNING ⚠️ /home/jovyan/__ANIMALS/datasets/ds8_auto_label_yolo_architectures/val/images/Uss-2.1.PetrovskyPass_555_2-18-2024_10-58.JPG: corrupt JPEG restored and saved\n",
      "\u001b[34m\u001b[1mval: \u001b[0mWARNING ⚠️ /home/jovyan/__ANIMALS/datasets/ds8_auto_label_yolo_architectures/val/images/Uss-2.1.PetrovskyPass_559_2-18-2024_11-29.JPG: corrupt JPEG restored and saved\n",
      "\u001b[34m\u001b[1mval: \u001b[0mWARNING ⚠️ /home/jovyan/__ANIMALS/datasets/ds8_auto_label_yolo_architectures/val/images/Uss-2.1.PetrovskyPass_560_2-18-2024_11-32.JPG: corrupt JPEG restored and saved\n",
      "\u001b[34m\u001b[1mval: \u001b[0mWARNING ⚠️ /home/jovyan/__ANIMALS/datasets/ds8_auto_label_yolo_architectures/val/images/Uss-2.1.PetrovskyPass_566_2-18-2024_14-35.JPG: corrupt JPEG restored and saved\n",
      "\u001b[34m\u001b[1mval: \u001b[0mWARNING ⚠️ /home/jovyan/__ANIMALS/datasets/ds8_auto_label_yolo_architectures/val/images/Uss-2.1.PetrovskyPass_576_2-19-2024_21-58.JPG: corrupt JPEG restored and saved\n",
      "\u001b[34m\u001b[1mval: \u001b[0mWARNING ⚠️ /home/jovyan/__ANIMALS/datasets/ds8_auto_label_yolo_architectures/val/images/Uss-2.1.PetrovskyPass_583_2-20-2024_03-58.JPG: corrupt JPEG restored and saved\n",
      "\u001b[34m\u001b[1mval: \u001b[0mWARNING ⚠️ /home/jovyan/__ANIMALS/datasets/ds8_auto_label_yolo_architectures/val/images/Uss-2.1.PetrovskyPass_596_2-25-2024_10-00.JPG: corrupt JPEG restored and saved\n",
      "\u001b[34m\u001b[1mval: \u001b[0mWARNING ⚠️ /home/jovyan/__ANIMALS/datasets/ds8_auto_label_yolo_architectures/val/images/Uss-2.1.PetrovskyPass_597_2-25-2024_10-01.JPG: corrupt JPEG restored and saved\n",
      "\u001b[34m\u001b[1mval: \u001b[0mWARNING ⚠️ /home/jovyan/__ANIMALS/datasets/ds8_auto_label_yolo_architectures/val/images/Uss-2.1.PetrovskyPass_598_2-25-2024_10-05.JPG: corrupt JPEG restored and saved\n",
      "\u001b[34m\u001b[1mval: \u001b[0mWARNING ⚠️ /home/jovyan/__ANIMALS/datasets/ds8_auto_label_yolo_architectures/val/images/Uss-2.1.PetrovskyPass_606_2-25-2024_10-26.JPG: corrupt JPEG restored and saved\n",
      "\u001b[34m\u001b[1mval: \u001b[0mWARNING ⚠️ /home/jovyan/__ANIMALS/datasets/ds8_auto_label_yolo_architectures/val/images/Uss-2.1.PetrovskyPass_616_2-25-2024_11-03.JPG: corrupt JPEG restored and saved\n",
      "\u001b[34m\u001b[1mval: \u001b[0mWARNING ⚠️ /home/jovyan/__ANIMALS/datasets/ds8_auto_label_yolo_architectures/val/images/Uss-2.1.PetrovskyPass_617_2-25-2024_11-08.JPG: corrupt JPEG restored and saved\n",
      "\u001b[34m\u001b[1mval: \u001b[0mWARNING ⚠️ /home/jovyan/__ANIMALS/datasets/ds8_auto_label_yolo_architectures/val/images/Uss-2.1.PetrovskyPass_624_2-25-2024_11-25.JPG: corrupt JPEG restored and saved\n",
      "\u001b[34m\u001b[1mval: \u001b[0mWARNING ⚠️ /home/jovyan/__ANIMALS/datasets/ds8_auto_label_yolo_architectures/val/images/Uss-2.1.PetrovskyPass_625_2-25-2024_11-30.JPG: corrupt JPEG restored and saved\n",
      "\u001b[34m\u001b[1mval: \u001b[0mWARNING ⚠️ /home/jovyan/__ANIMALS/datasets/ds8_auto_label_yolo_architectures/val/images/Uss-2.1.PetrovskyPass_626_2-25-2024_11-33.JPG: corrupt JPEG restored and saved\n",
      "\u001b[34m\u001b[1mval: \u001b[0mWARNING ⚠️ /home/jovyan/__ANIMALS/datasets/ds8_auto_label_yolo_architectures/val/images/Uss-2.1.PetrovskyPass_634_3-1-2024_14-40.JPG: corrupt JPEG restored and saved\n",
      "\u001b[34m\u001b[1mval: \u001b[0mWARNING ⚠️ /home/jovyan/__ANIMALS/datasets/ds8_auto_label_yolo_architectures/val/images/Uss-2.1.PetrovskyPass_648_3-7-2024_11-47.JPG: corrupt JPEG restored and saved\n",
      "\u001b[34m\u001b[1mval: \u001b[0mWARNING ⚠️ /home/jovyan/__ANIMALS/datasets/ds8_auto_label_yolo_architectures/val/images/Uss-2.1.PetrovskyPass_684_3-23-2024_16-32.JPG: corrupt JPEG restored and saved\n",
      "\u001b[34m\u001b[1mval: \u001b[0mWARNING ⚠️ /home/jovyan/__ANIMALS/datasets/ds8_auto_label_yolo_architectures/val/images/Uss-2.1.PetrovskyPass_697_4-1-2024_04-33.JPG: corrupt JPEG restored and saved\n",
      "\u001b[34m\u001b[1mval: \u001b[0mWARNING ⚠️ /home/jovyan/__ANIMALS/datasets/ds8_auto_label_yolo_architectures/val/images/Uss-2.1.PetrovskyPass_705_4-4-2024_19-44.JPG: corrupt JPEG restored and saved\n",
      "\u001b[34m\u001b[1mval: \u001b[0mWARNING ⚠️ /home/jovyan/__ANIMALS/datasets/ds8_auto_label_yolo_architectures/val/images/Uss-2.1.PetrovskyPass_708_4-5-2024_23-01.JPG: corrupt JPEG restored and saved\n",
      "\u001b[34m\u001b[1mval: \u001b[0mWARNING ⚠️ /home/jovyan/__ANIMALS/datasets/ds8_auto_label_yolo_architectures/val/images/Uss-2.PetrovskyPass_308_3-22-2024_15-34.JPG: corrupt JPEG restored and saved\n",
      "\u001b[34m\u001b[1mval: \u001b[0mWARNING ⚠️ /home/jovyan/__ANIMALS/datasets/ds8_auto_label_yolo_architectures/val/images/Uss-21.1.Otradnayaupper_039_4-10-2024_13-40.JPG: ignoring corrupt image/label: Label class 20 exceeds dataset class count 18. Possible class labels are 0-17\n",
      "\u001b[34m\u001b[1mval: \u001b[0mWARNING ⚠️ /home/jovyan/__ANIMALS/datasets/ds8_auto_label_yolo_architectures/val/images/Uss-25.1.PravayaKomarovka_057_12-27-2023_09-40.JPG: corrupt JPEG restored and saved\n",
      "\u001b[34m\u001b[1mval: \u001b[0mWARNING ⚠️ /home/jovyan/__ANIMALS/datasets/ds8_auto_label_yolo_architectures/val/images/Uss-25.1.PravayaKomarovka_069_12-30-2023_18-23.JPG: corrupt JPEG restored and saved\n",
      "\u001b[34m\u001b[1mval: \u001b[0mWARNING ⚠️ /home/jovyan/__ANIMALS/datasets/ds8_auto_label_yolo_architectures/val/images/Uss-25.1.PravayaKomarovka_092_1-6-2024_16-24.JPG: corrupt JPEG restored and saved\n",
      "\u001b[34m\u001b[1mval: \u001b[0mWARNING ⚠️ /home/jovyan/__ANIMALS/datasets/ds8_auto_label_yolo_architectures/val/images/Uss-25.1.PravayaKomarovka_093_1-6-2024_16-25.JPG: corrupt JPEG restored and saved\n",
      "\u001b[34m\u001b[1mval: \u001b[0mWARNING ⚠️ /home/jovyan/__ANIMALS/datasets/ds8_auto_label_yolo_architectures/val/images/Uss-25.1.PravayaKomarovka_127_1-14-2024_09-02.JPG: corrupt JPEG restored and saved\n",
      "\u001b[34m\u001b[1mval: \u001b[0mWARNING ⚠️ /home/jovyan/__ANIMALS/datasets/ds8_auto_label_yolo_architectures/val/images/Uss-25.1.PravayaKomarovka_134_1-14-2024_09-24.JPG: corrupt JPEG restored and saved\n",
      "\u001b[34m\u001b[1mval: \u001b[0mWARNING ⚠️ /home/jovyan/__ANIMALS/datasets/ds8_auto_label_yolo_architectures/val/images/Uss-25.1.PravayaKomarovka_137_1-14-2024_09-34.JPG: corrupt JPEG restored and saved\n",
      "\u001b[34m\u001b[1mval: \u001b[0mWARNING ⚠️ /home/jovyan/__ANIMALS/datasets/ds8_auto_label_yolo_architectures/val/images/Uss-25.1.PravayaKomarovka_141_1-14-2024_09-39.JPG: corrupt JPEG restored and saved\n",
      "\u001b[34m\u001b[1mval: \u001b[0mWARNING ⚠️ /home/jovyan/__ANIMALS/datasets/ds8_auto_label_yolo_architectures/val/images/Uss-25.1.PravayaKomarovka_147_1-14-2024_10-49.JPG: corrupt JPEG restored and saved\n",
      "\u001b[34m\u001b[1mval: \u001b[0mWARNING ⚠️ /home/jovyan/__ANIMALS/datasets/ds8_auto_label_yolo_architectures/val/images/Uss-25.1.PravayaKomarovka_149_1-14-2024_10-51.JPG: corrupt JPEG restored and saved\n",
      "\u001b[34m\u001b[1mval: \u001b[0mWARNING ⚠️ /home/jovyan/__ANIMALS/datasets/ds8_auto_label_yolo_architectures/val/images/Uss-25.1.PravayaKomarovka_163_1-18-2024_11-40.JPG: corrupt JPEG restored and saved\n",
      "\u001b[34m\u001b[1mval: \u001b[0mWARNING ⚠️ /home/jovyan/__ANIMALS/datasets/ds8_auto_label_yolo_architectures/val/images/Uss-25.1.PravayaKomarovka_174_1-19-2024_11-14.JPG: corrupt JPEG restored and saved\n",
      "\u001b[34m\u001b[1mval: \u001b[0mWARNING ⚠️ /home/jovyan/__ANIMALS/datasets/ds8_auto_label_yolo_architectures/val/images/Uss-25.1.PravayaKomarovka_176_1-19-2024_11-14.JPG: corrupt JPEG restored and saved\n",
      "\u001b[34m\u001b[1mval: \u001b[0mWARNING ⚠️ /home/jovyan/__ANIMALS/datasets/ds8_auto_label_yolo_architectures/val/images/Uss-25.1.PravayaKomarovka_177_1-19-2024_11-15.JPG: corrupt JPEG restored and saved\n",
      "\u001b[34m\u001b[1mval: \u001b[0mWARNING ⚠️ /home/jovyan/__ANIMALS/datasets/ds8_auto_label_yolo_architectures/val/images/Uss-25.1.PravayaKomarovka_182_1-19-2024_11-26.JPG: corrupt JPEG restored and saved\n",
      "\u001b[34m\u001b[1mval: \u001b[0mWARNING ⚠️ /home/jovyan/__ANIMALS/datasets/ds8_auto_label_yolo_architectures/val/images/Uss-25.1.PravayaKomarovka_186_1-19-2024_12-03.JPG: corrupt JPEG restored and saved\n",
      "\u001b[34m\u001b[1mval: \u001b[0mWARNING ⚠️ /home/jovyan/__ANIMALS/datasets/ds8_auto_label_yolo_architectures/val/images/Uss-25.1.PravayaKomarovka_195_1-21-2024_10-29.JPG: corrupt JPEG restored and saved\n",
      "\u001b[34m\u001b[1mval: \u001b[0mWARNING ⚠️ /home/jovyan/__ANIMALS/datasets/ds8_auto_label_yolo_architectures/val/images/Uss-25.1.PravayaKomarovka_222_1-24-2024_01-14.JPG: corrupt JPEG restored and saved\n",
      "\u001b[34m\u001b[1mval: \u001b[0mWARNING ⚠️ /home/jovyan/__ANIMALS/datasets/ds8_auto_label_yolo_architectures/val/images/Uss-25.1.PravayaKomarovka_236_1-25-2024_12-43.JPG: corrupt JPEG restored and saved\n"
     ]
    },
    {
     "name": "stderr",
     "output_type": "stream",
     "text": [
      "\n"
     ]
    },
    {
     "name": "stdout",
     "output_type": "stream",
     "text": [
      "Plotting labels to runs/detect/wildlife_cpu_minimal/labels.jpg... \n",
      "\u001b[34m\u001b[1moptimizer:\u001b[0m Adam(lr=0.001, momentum=0.937) with parameter groups 57 weight(decay=0.0), 64 weight(decay=0.0005), 63 bias(decay=0.0)\n",
      "\u001b[34m\u001b[1mTensorBoard: \u001b[0mmodel graph visualization added ✅\n",
      "Image sizes 512 train, 512 val\n",
      "Using 0 dataloader workers\n",
      "Logging results to \u001b[1mruns/detect/wildlife_cpu_minimal\u001b[0m\n",
      "Starting training for 250 epochs...\n",
      "\n",
      "      Epoch    GPU_mem   box_loss   cls_loss   dfl_loss  Instances       Size\n"
     ]
    },
    {
     "name": "stderr",
     "output_type": "stream",
     "text": [
      "      1/250         0G      1.339      2.467      1.353          3        512: 100%|██████████| 977/977 [14:05<00:00,  1.16it/s]\n",
      "                 Class     Images  Instances      Box(P          R      mAP50  mAP50-95): 100%|██████████| 129/129 [02:27<00:00,  1.14s/it]"
     ]
    },
    {
     "name": "stdout",
     "output_type": "stream",
     "text": [
      "                   all        515        668      0.466      0.321      0.211      0.142\n"
     ]
    },
    {
     "name": "stderr",
     "output_type": "stream",
     "text": [
      "\n"
     ]
    },
    {
     "name": "stdout",
     "output_type": "stream",
     "text": [
      "\n",
      "      Epoch    GPU_mem   box_loss   cls_loss   dfl_loss  Instances       Size\n"
     ]
    },
    {
     "name": "stderr",
     "output_type": "stream",
     "text": [
      "      3/250         0G      1.252      2.008      1.342          4        512: 100%|██████████| 977/977 [30:38<00:00,  1.88s/it]\n",
      "                 Class     Images  Instances      Box(P          R      mAP50  mAP50-95): 100%|██████████| 129/129 [03:10<00:00,  1.48s/it]"
     ]
    },
    {
     "name": "stdout",
     "output_type": "stream",
     "text": [
      "                   all        515        668       0.55      0.316      0.337      0.226\n"
     ]
    },
    {
     "name": "stderr",
     "output_type": "stream",
     "text": [
      "\n"
     ]
    },
    {
     "name": "stdout",
     "output_type": "stream",
     "text": [
      "\n",
      "      Epoch    GPU_mem   box_loss   cls_loss   dfl_loss  Instances       Size\n"
     ]
    },
    {
     "name": "stderr",
     "output_type": "stream",
     "text": [
      "      4/250         0G      1.235      1.839      1.323          4        512: 100%|██████████| 977/977 [30:18<00:00,  1.86s/it]\n",
      "                 Class     Images  Instances      Box(P          R      mAP50  mAP50-95): 100%|██████████| 129/129 [03:13<00:00,  1.50s/it]"
     ]
    },
    {
     "name": "stdout",
     "output_type": "stream",
     "text": [
      "                   all        515        668      0.399      0.364      0.311      0.218\n"
     ]
    },
    {
     "name": "stderr",
     "output_type": "stream",
     "text": [
      "\n"
     ]
    },
    {
     "name": "stdout",
     "output_type": "stream",
     "text": [
      "\n",
      "      Epoch    GPU_mem   box_loss   cls_loss   dfl_loss  Instances       Size\n"
     ]
    },
    {
     "name": "stderr",
     "output_type": "stream",
     "text": [
      "      5/250         0G       1.21      1.791      1.309          5        512: 100%|██████████| 977/977 [30:06<00:00,  1.85s/it]\n",
      "                 Class     Images  Instances      Box(P          R      mAP50  mAP50-95): 100%|██████████| 129/129 [03:14<00:00,  1.51s/it]"
     ]
    },
    {
     "name": "stdout",
     "output_type": "stream",
     "text": [
      "                   all        515        668      0.457      0.413      0.357       0.25\n"
     ]
    },
    {
     "name": "stderr",
     "output_type": "stream",
     "text": [
      "\n"
     ]
    },
    {
     "name": "stdout",
     "output_type": "stream",
     "text": [
      "\n",
      "      Epoch    GPU_mem   box_loss   cls_loss   dfl_loss  Instances       Size\n"
     ]
    },
    {
     "name": "stderr",
     "output_type": "stream",
     "text": [
      "      6/250         0G      1.181      1.737      1.296          6        512: 100%|██████████| 977/977 [28:18<00:00,  1.74s/it]\n",
      "                 Class     Images  Instances      Box(P          R      mAP50  mAP50-95): 100%|██████████| 129/129 [02:51<00:00,  1.33s/it]"
     ]
    },
    {
     "name": "stdout",
     "output_type": "stream",
     "text": [
      "                   all        515        668      0.583      0.418      0.328      0.235\n"
     ]
    },
    {
     "name": "stderr",
     "output_type": "stream",
     "text": [
      "\n"
     ]
    },
    {
     "name": "stdout",
     "output_type": "stream",
     "text": [
      "\n",
      "      Epoch    GPU_mem   box_loss   cls_loss   dfl_loss  Instances       Size\n"
     ]
    },
    {
     "name": "stderr",
     "output_type": "stream",
     "text": [
      "      7/250         0G       1.16      1.678      1.271          2        512: 100%|██████████| 977/977 [20:00<00:00,  1.23s/it]\n",
      "                 Class     Images  Instances      Box(P          R      mAP50  mAP50-95): 100%|██████████| 129/129 [02:46<00:00,  1.29s/it]"
     ]
    },
    {
     "name": "stdout",
     "output_type": "stream",
     "text": [
      "                   all        515        668      0.327      0.475      0.372      0.268\n"
     ]
    },
    {
     "name": "stderr",
     "output_type": "stream",
     "text": [
      "\n"
     ]
    },
    {
     "name": "stdout",
     "output_type": "stream",
     "text": [
      "\n",
      "      Epoch    GPU_mem   box_loss   cls_loss   dfl_loss  Instances       Size\n"
     ]
    },
    {
     "name": "stderr",
     "output_type": "stream",
     "text": [
      "      8/250         0G      1.126      1.634      1.256          4        512: 100%|██████████| 977/977 [28:53<00:00,  1.77s/it]\n",
      "                 Class     Images  Instances      Box(P          R      mAP50  mAP50-95): 100%|██████████| 129/129 [03:15<00:00,  1.51s/it]"
     ]
    },
    {
     "name": "stdout",
     "output_type": "stream",
     "text": [
      "                   all        515        668      0.396      0.446       0.43      0.309\n"
     ]
    },
    {
     "name": "stderr",
     "output_type": "stream",
     "text": [
      "\n"
     ]
    },
    {
     "name": "stdout",
     "output_type": "stream",
     "text": [
      "\n",
      "      Epoch    GPU_mem   box_loss   cls_loss   dfl_loss  Instances       Size\n"
     ]
    },
    {
     "name": "stderr",
     "output_type": "stream",
     "text": [
      "      9/250         0G       1.12      1.564      1.244          3        512: 100%|██████████| 977/977 [31:05<00:00,  1.91s/it]\n",
      "                 Class     Images  Instances      Box(P          R      mAP50  mAP50-95): 100%|██████████| 129/129 [03:07<00:00,  1.45s/it]"
     ]
    },
    {
     "name": "stdout",
     "output_type": "stream",
     "text": [
      "                   all        515        668      0.602      0.567      0.496      0.361\n"
     ]
    },
    {
     "name": "stderr",
     "output_type": "stream",
     "text": [
      "\n"
     ]
    },
    {
     "name": "stdout",
     "output_type": "stream",
     "text": [
      "\n",
      "      Epoch    GPU_mem   box_loss   cls_loss   dfl_loss  Instances       Size\n"
     ]
    },
    {
     "name": "stderr",
     "output_type": "stream",
     "text": [
      "     10/250         0G      1.084      1.516      1.242          3        512: 100%|██████████| 977/977 [31:03<00:00,  1.91s/it]\n",
      "                 Class     Images  Instances      Box(P          R      mAP50  mAP50-95): 100%|██████████| 129/129 [03:43<00:00,  1.73s/it]"
     ]
    },
    {
     "name": "stdout",
     "output_type": "stream",
     "text": [
      "                   all        515        668      0.462       0.54      0.503      0.355\n"
     ]
    },
    {
     "name": "stderr",
     "output_type": "stream",
     "text": [
      "\n"
     ]
    },
    {
     "name": "stdout",
     "output_type": "stream",
     "text": [
      "\n",
      "      Epoch    GPU_mem   box_loss   cls_loss   dfl_loss  Instances       Size\n"
     ]
    },
    {
     "name": "stderr",
     "output_type": "stream",
     "text": [
      "     11/250         0G      1.073       1.47      1.227          5        512: 100%|██████████| 977/977 [27:52<00:00,  1.71s/it]\n",
      "                 Class     Images  Instances      Box(P          R      mAP50  mAP50-95): 100%|██████████| 129/129 [03:40<00:00,  1.71s/it]"
     ]
    },
    {
     "name": "stdout",
     "output_type": "stream",
     "text": [
      "                   all        515        668      0.424      0.543      0.463      0.344\n"
     ]
    },
    {
     "name": "stderr",
     "output_type": "stream",
     "text": [
      "\n"
     ]
    },
    {
     "name": "stdout",
     "output_type": "stream",
     "text": [
      "\n",
      "      Epoch    GPU_mem   box_loss   cls_loss   dfl_loss  Instances       Size\n"
     ]
    },
    {
     "name": "stderr",
     "output_type": "stream",
     "text": [
      "     12/250         0G      1.093      1.488      1.238          4        512: 100%|██████████| 977/977 [20:32<00:00,  1.26s/it]\n",
      "                 Class     Images  Instances      Box(P          R      mAP50  mAP50-95): 100%|██████████| 129/129 [03:24<00:00,  1.58s/it]"
     ]
    },
    {
     "name": "stdout",
     "output_type": "stream",
     "text": [
      "                   all        515        668      0.314       0.58      0.488      0.356\n"
     ]
    },
    {
     "name": "stderr",
     "output_type": "stream",
     "text": [
      "\n"
     ]
    },
    {
     "name": "stdout",
     "output_type": "stream",
     "text": [
      "\n",
      "      Epoch    GPU_mem   box_loss   cls_loss   dfl_loss  Instances       Size\n"
     ]
    },
    {
     "name": "stderr",
     "output_type": "stream",
     "text": [
      "     13/250         0G      1.064      1.458       1.23          6        512: 100%|██████████| 977/977 [20:19<00:00,  1.25s/it]\n",
      "                 Class     Images  Instances      Box(P          R      mAP50  mAP50-95): 100%|██████████| 129/129 [03:10<00:00,  1.47s/it]"
     ]
    },
    {
     "name": "stdout",
     "output_type": "stream",
     "text": [
      "                   all        515        668      0.569      0.448      0.498      0.353\n"
     ]
    },
    {
     "name": "stderr",
     "output_type": "stream",
     "text": [
      "\n"
     ]
    },
    {
     "name": "stdout",
     "output_type": "stream",
     "text": [
      "\n",
      "      Epoch    GPU_mem   box_loss   cls_loss   dfl_loss  Instances       Size\n"
     ]
    },
    {
     "name": "stderr",
     "output_type": "stream",
     "text": [
      "     14/250         0G      1.041      1.405      1.203          4        512: 100%|██████████| 977/977 [19:56<00:00,  1.23s/it]\n",
      "                 Class     Images  Instances      Box(P          R      mAP50  mAP50-95): 100%|██████████| 129/129 [03:07<00:00,  1.45s/it]"
     ]
    },
    {
     "name": "stdout",
     "output_type": "stream",
     "text": [
      "                   all        515        668      0.527      0.513      0.493      0.362\n"
     ]
    },
    {
     "name": "stderr",
     "output_type": "stream",
     "text": [
      "\n"
     ]
    },
    {
     "name": "stdout",
     "output_type": "stream",
     "text": [
      "\n",
      "      Epoch    GPU_mem   box_loss   cls_loss   dfl_loss  Instances       Size\n"
     ]
    },
    {
     "name": "stderr",
     "output_type": "stream",
     "text": [
      "     15/250         0G      1.041      1.381      1.202          2        512: 100%|██████████| 977/977 [20:03<00:00,  1.23s/it]\n",
      "                 Class     Images  Instances      Box(P          R      mAP50  mAP50-95): 100%|██████████| 129/129 [03:10<00:00,  1.48s/it]"
     ]
    },
    {
     "name": "stdout",
     "output_type": "stream",
     "text": [
      "                   all        515        668      0.408      0.541      0.513      0.373\n"
     ]
    },
    {
     "name": "stderr",
     "output_type": "stream",
     "text": [
      "\n"
     ]
    },
    {
     "name": "stdout",
     "output_type": "stream",
     "text": [
      "\n",
      "      Epoch    GPU_mem   box_loss   cls_loss   dfl_loss  Instances       Size\n"
     ]
    },
    {
     "name": "stderr",
     "output_type": "stream",
     "text": [
      "     16/250         0G      1.021      1.376      1.198          2        512: 100%|██████████| 977/977 [20:05<00:00,  1.23s/it]\n",
      "                 Class     Images  Instances      Box(P          R      mAP50  mAP50-95): 100%|██████████| 129/129 [03:05<00:00,  1.44s/it]"
     ]
    },
    {
     "name": "stdout",
     "output_type": "stream",
     "text": [
      "                   all        515        668      0.399      0.593      0.523      0.376\n"
     ]
    },
    {
     "name": "stderr",
     "output_type": "stream",
     "text": [
      "\n"
     ]
    },
    {
     "name": "stdout",
     "output_type": "stream",
     "text": [
      "\n",
      "      Epoch    GPU_mem   box_loss   cls_loss   dfl_loss  Instances       Size\n"
     ]
    },
    {
     "name": "stderr",
     "output_type": "stream",
     "text": [
      "     17/250         0G      1.039      1.373      1.221          4        512: 100%|██████████| 977/977 [19:54<00:00,  1.22s/it]\n",
      "                 Class     Images  Instances      Box(P          R      mAP50  mAP50-95): 100%|██████████| 129/129 [03:06<00:00,  1.45s/it]"
     ]
    },
    {
     "name": "stdout",
     "output_type": "stream",
     "text": [
      "                   all        515        668      0.421      0.673      0.571      0.409\n"
     ]
    },
    {
     "name": "stderr",
     "output_type": "stream",
     "text": [
      "\n"
     ]
    },
    {
     "name": "stdout",
     "output_type": "stream",
     "text": [
      "\n",
      "      Epoch    GPU_mem   box_loss   cls_loss   dfl_loss  Instances       Size\n"
     ]
    },
    {
     "name": "stderr",
     "output_type": "stream",
     "text": [
      "     18/250         0G      1.013      1.346      1.214          5        512: 100%|██████████| 977/977 [20:22<00:00,  1.25s/it]\n",
      "                 Class     Images  Instances      Box(P          R      mAP50  mAP50-95): 100%|██████████| 129/129 [03:17<00:00,  1.53s/it]"
     ]
    },
    {
     "name": "stdout",
     "output_type": "stream",
     "text": [
      "                   all        515        668      0.476      0.614      0.561      0.416\n"
     ]
    },
    {
     "name": "stderr",
     "output_type": "stream",
     "text": [
      "\n"
     ]
    },
    {
     "name": "stdout",
     "output_type": "stream",
     "text": [
      "\n",
      "      Epoch    GPU_mem   box_loss   cls_loss   dfl_loss  Instances       Size\n"
     ]
    },
    {
     "name": "stderr",
     "output_type": "stream",
     "text": [
      "     19/250         0G     0.9952       1.29      1.193          4        512: 100%|██████████| 977/977 [20:27<00:00,  1.26s/it]\n",
      "                 Class     Images  Instances      Box(P          R      mAP50  mAP50-95): 100%|██████████| 129/129 [03:14<00:00,  1.50s/it]"
     ]
    },
    {
     "name": "stdout",
     "output_type": "stream",
     "text": [
      "                   all        515        668      0.529       0.66      0.598      0.428\n"
     ]
    },
    {
     "name": "stderr",
     "output_type": "stream",
     "text": [
      "\n"
     ]
    },
    {
     "name": "stdout",
     "output_type": "stream",
     "text": [
      "\n",
      "      Epoch    GPU_mem   box_loss   cls_loss   dfl_loss  Instances       Size\n"
     ]
    },
    {
     "name": "stderr",
     "output_type": "stream",
     "text": [
      "     20/250         0G     0.9863      1.252      1.181          5        512: 100%|██████████| 977/977 [20:21<00:00,  1.25s/it]\n",
      "                 Class     Images  Instances      Box(P          R      mAP50  mAP50-95): 100%|██████████| 129/129 [03:13<00:00,  1.50s/it]"
     ]
    },
    {
     "name": "stdout",
     "output_type": "stream",
     "text": [
      "                   all        515        668      0.633      0.526       0.58      0.428\n"
     ]
    },
    {
     "name": "stderr",
     "output_type": "stream",
     "text": [
      "\n"
     ]
    },
    {
     "name": "stdout",
     "output_type": "stream",
     "text": [
      "\n",
      "      Epoch    GPU_mem   box_loss   cls_loss   dfl_loss  Instances       Size\n"
     ]
    },
    {
     "name": "stderr",
     "output_type": "stream",
     "text": [
      "     21/250         0G     0.9914      1.249      1.184          4        512: 100%|██████████| 977/977 [20:14<00:00,  1.24s/it]\n",
      "                 Class     Images  Instances      Box(P          R      mAP50  mAP50-95): 100%|██████████| 129/129 [03:09<00:00,  1.47s/it]"
     ]
    },
    {
     "name": "stdout",
     "output_type": "stream",
     "text": [
      "                   all        515        668      0.632      0.526      0.562       0.42\n"
     ]
    },
    {
     "name": "stderr",
     "output_type": "stream",
     "text": [
      "\n"
     ]
    },
    {
     "name": "stdout",
     "output_type": "stream",
     "text": [
      "\n",
      "      Epoch    GPU_mem   box_loss   cls_loss   dfl_loss  Instances       Size\n"
     ]
    },
    {
     "name": "stderr",
     "output_type": "stream",
     "text": [
      "     22/250         0G     0.9792      1.244      1.176          8        512: 100%|██████████| 977/977 [19:44<00:00,  1.21s/it]\n",
      "                 Class     Images  Instances      Box(P          R      mAP50  mAP50-95): 100%|██████████| 129/129 [02:59<00:00,  1.39s/it]"
     ]
    },
    {
     "name": "stdout",
     "output_type": "stream",
     "text": [
      "                   all        515        668      0.706      0.532      0.613      0.447\n"
     ]
    },
    {
     "name": "stderr",
     "output_type": "stream",
     "text": [
      "\n"
     ]
    },
    {
     "name": "stdout",
     "output_type": "stream",
     "text": [
      "\n",
      "      Epoch    GPU_mem   box_loss   cls_loss   dfl_loss  Instances       Size\n"
     ]
    },
    {
     "name": "stderr",
     "output_type": "stream",
     "text": [
      "     23/250         0G     0.9643      1.245      1.166          3        512: 100%|██████████| 977/977 [19:29<00:00,  1.20s/it]\n",
      "                 Class     Images  Instances      Box(P          R      mAP50  mAP50-95): 100%|██████████| 129/129 [02:58<00:00,  1.39s/it]"
     ]
    },
    {
     "name": "stdout",
     "output_type": "stream",
     "text": [
      "                   all        515        668      0.588      0.591      0.561      0.412\n"
     ]
    },
    {
     "name": "stderr",
     "output_type": "stream",
     "text": [
      "\n"
     ]
    },
    {
     "name": "stdout",
     "output_type": "stream",
     "text": [
      "\n",
      "      Epoch    GPU_mem   box_loss   cls_loss   dfl_loss  Instances       Size\n"
     ]
    },
    {
     "name": "stderr",
     "output_type": "stream",
     "text": [
      "     24/250         0G     0.9426      1.174      1.157          4        512: 100%|██████████| 977/977 [19:23<00:00,  1.19s/it]\n",
      "                 Class     Images  Instances      Box(P          R      mAP50  mAP50-95): 100%|██████████| 129/129 [02:57<00:00,  1.38s/it]"
     ]
    },
    {
     "name": "stdout",
     "output_type": "stream",
     "text": [
      "                   all        515        668      0.642      0.571      0.606      0.447\n"
     ]
    },
    {
     "name": "stderr",
     "output_type": "stream",
     "text": [
      "\n"
     ]
    },
    {
     "name": "stdout",
     "output_type": "stream",
     "text": [
      "\n",
      "      Epoch    GPU_mem   box_loss   cls_loss   dfl_loss  Instances       Size\n"
     ]
    },
    {
     "name": "stderr",
     "output_type": "stream",
     "text": [
      "     25/250         0G     0.9483      1.177      1.168          3        512: 100%|██████████| 977/977 [19:10<00:00,  1.18s/it]\n",
      "                 Class     Images  Instances      Box(P          R      mAP50  mAP50-95): 100%|██████████| 129/129 [03:06<00:00,  1.44s/it]"
     ]
    },
    {
     "name": "stdout",
     "output_type": "stream",
     "text": [
      "                   all        515        668      0.484      0.595      0.576       0.44\n"
     ]
    },
    {
     "name": "stderr",
     "output_type": "stream",
     "text": [
      "\n"
     ]
    },
    {
     "name": "stdout",
     "output_type": "stream",
     "text": [
      "\n",
      "      Epoch    GPU_mem   box_loss   cls_loss   dfl_loss  Instances       Size\n"
     ]
    },
    {
     "name": "stderr",
     "output_type": "stream",
     "text": [
      "     26/250         0G     0.9411      1.158      1.167          8        512: 100%|██████████| 977/977 [19:48<00:00,  1.22s/it]\n",
      "                 Class     Images  Instances      Box(P          R      mAP50  mAP50-95): 100%|██████████| 129/129 [03:05<00:00,  1.44s/it]"
     ]
    },
    {
     "name": "stdout",
     "output_type": "stream",
     "text": [
      "                   all        515        668      0.561      0.592      0.604      0.445\n"
     ]
    },
    {
     "name": "stderr",
     "output_type": "stream",
     "text": [
      "\n"
     ]
    },
    {
     "name": "stdout",
     "output_type": "stream",
     "text": [
      "\n",
      "      Epoch    GPU_mem   box_loss   cls_loss   dfl_loss  Instances       Size\n"
     ]
    },
    {
     "name": "stderr",
     "output_type": "stream",
     "text": [
      "     27/250         0G     0.9591      1.214      1.156         10        512: 100%|██████████| 977/977 [20:06<00:00,  1.23s/it]\n",
      "                 Class     Images  Instances      Box(P          R      mAP50  mAP50-95): 100%|██████████| 129/129 [03:10<00:00,  1.48s/it]"
     ]
    },
    {
     "name": "stdout",
     "output_type": "stream",
     "text": [
      "                   all        515        668      0.703      0.539      0.601      0.445\n"
     ]
    },
    {
     "name": "stderr",
     "output_type": "stream",
     "text": [
      "\n"
     ]
    },
    {
     "name": "stdout",
     "output_type": "stream",
     "text": [
      "\n",
      "      Epoch    GPU_mem   box_loss   cls_loss   dfl_loss  Instances       Size\n"
     ]
    },
    {
     "name": "stderr",
     "output_type": "stream",
     "text": [
      "     28/250         0G     0.9375      1.152      1.155          8        512: 100%|██████████| 977/977 [19:58<00:00,  1.23s/it]\n",
      "                 Class     Images  Instances      Box(P          R      mAP50  mAP50-95): 100%|██████████| 129/129 [03:04<00:00,  1.43s/it]"
     ]
    },
    {
     "name": "stdout",
     "output_type": "stream",
     "text": [
      "                   all        515        668      0.564      0.641      0.609      0.462\n"
     ]
    },
    {
     "name": "stderr",
     "output_type": "stream",
     "text": [
      "\n"
     ]
    },
    {
     "name": "stdout",
     "output_type": "stream",
     "text": [
      "\n",
      "      Epoch    GPU_mem   box_loss   cls_loss   dfl_loss  Instances       Size\n"
     ]
    },
    {
     "name": "stderr",
     "output_type": "stream",
     "text": [
      "     29/250         0G     0.9608      1.157      1.169          5        512: 100%|██████████| 977/977 [19:45<00:00,  1.21s/it]\n",
      "                 Class     Images  Instances      Box(P          R      mAP50  mAP50-95): 100%|██████████| 129/129 [02:59<00:00,  1.39s/it]"
     ]
    },
    {
     "name": "stdout",
     "output_type": "stream",
     "text": [
      "                   all        515        668      0.598       0.57       0.57      0.426\n"
     ]
    },
    {
     "name": "stderr",
     "output_type": "stream",
     "text": [
      "\n"
     ]
    },
    {
     "name": "stdout",
     "output_type": "stream",
     "text": [
      "\n",
      "      Epoch    GPU_mem   box_loss   cls_loss   dfl_loss  Instances       Size\n"
     ]
    },
    {
     "name": "stderr",
     "output_type": "stream",
     "text": [
      "     30/250         0G     0.9266      1.137      1.143          5        512: 100%|██████████| 977/977 [19:49<00:00,  1.22s/it]\n",
      "                 Class     Images  Instances      Box(P          R      mAP50  mAP50-95): 100%|██████████| 129/129 [03:02<00:00,  1.42s/it]"
     ]
    },
    {
     "name": "stdout",
     "output_type": "stream",
     "text": [
      "                   all        515        668      0.646       0.59      0.642      0.488\n"
     ]
    },
    {
     "name": "stderr",
     "output_type": "stream",
     "text": [
      "\n"
     ]
    },
    {
     "name": "stdout",
     "output_type": "stream",
     "text": [
      "\n",
      "      Epoch    GPU_mem   box_loss   cls_loss   dfl_loss  Instances       Size\n"
     ]
    },
    {
     "name": "stderr",
     "output_type": "stream",
     "text": [
      "     31/250         0G     0.9368      1.131       1.16          5        512: 100%|██████████| 977/977 [20:15<00:00,  1.24s/it]\n",
      "                 Class     Images  Instances      Box(P          R      mAP50  mAP50-95): 100%|██████████| 129/129 [03:08<00:00,  1.46s/it]"
     ]
    },
    {
     "name": "stdout",
     "output_type": "stream",
     "text": [
      "                   all        515        668      0.491      0.705      0.628      0.465\n"
     ]
    },
    {
     "name": "stderr",
     "output_type": "stream",
     "text": [
      "\n"
     ]
    },
    {
     "name": "stdout",
     "output_type": "stream",
     "text": [
      "\n",
      "      Epoch    GPU_mem   box_loss   cls_loss   dfl_loss  Instances       Size\n"
     ]
    },
    {
     "name": "stderr",
     "output_type": "stream",
     "text": [
      "     32/250         0G     0.9153      1.127      1.134         11        512: 100%|██████████| 977/977 [20:08<00:00,  1.24s/it]\n",
      "                 Class     Images  Instances      Box(P          R      mAP50  mAP50-95): 100%|██████████| 129/129 [03:04<00:00,  1.43s/it]"
     ]
    },
    {
     "name": "stdout",
     "output_type": "stream",
     "text": [
      "                   all        515        668      0.619      0.609      0.618      0.453\n"
     ]
    },
    {
     "name": "stderr",
     "output_type": "stream",
     "text": [
      "\n"
     ]
    },
    {
     "name": "stdout",
     "output_type": "stream",
     "text": [
      "\n",
      "      Epoch    GPU_mem   box_loss   cls_loss   dfl_loss  Instances       Size\n"
     ]
    },
    {
     "name": "stderr",
     "output_type": "stream",
     "text": [
      "     33/250         0G     0.9218      1.122      1.148          2        512: 100%|██████████| 977/977 [20:06<00:00,  1.23s/it]\n",
      "                 Class     Images  Instances      Box(P          R      mAP50  mAP50-95): 100%|██████████| 129/129 [03:07<00:00,  1.45s/it]"
     ]
    },
    {
     "name": "stdout",
     "output_type": "stream",
     "text": [
      "                   all        515        668       0.61      0.617      0.615      0.461\n"
     ]
    },
    {
     "name": "stderr",
     "output_type": "stream",
     "text": [
      "\n"
     ]
    },
    {
     "name": "stdout",
     "output_type": "stream",
     "text": [
      "\n",
      "      Epoch    GPU_mem   box_loss   cls_loss   dfl_loss  Instances       Size\n"
     ]
    },
    {
     "name": "stderr",
     "output_type": "stream",
     "text": [
      "     35/250         0G     0.9243      1.127      1.145          4        512: 100%|██████████| 977/977 [20:05<00:00,  1.23s/it]  1.41s/it]\n",
      "                 Class     Images  Instances      Box(P          R      mAP50  mAP50-95): 100%|██████████| 129/129 [03:07<00:00,  1.45s/it]"
     ]
    },
    {
     "name": "stdout",
     "output_type": "stream",
     "text": [
      "                   all        515        668      0.535      0.689      0.627      0.472\n"
     ]
    },
    {
     "name": "stderr",
     "output_type": "stream",
     "text": [
      "\n"
     ]
    },
    {
     "name": "stdout",
     "output_type": "stream",
     "text": [
      "\n",
      "      Epoch    GPU_mem   box_loss   cls_loss   dfl_loss  Instances       Size\n"
     ]
    },
    {
     "name": "stderr",
     "output_type": "stream",
     "text": [
      "     36/250         0G     0.9169      1.118      1.138          7        512: 100%|██████████| 977/977 [19:59<00:00,  1.23s/it]\n",
      "                 Class     Images  Instances      Box(P          R      mAP50  mAP50-95): 100%|██████████| 129/129 [03:07<00:00,  1.45s/it]"
     ]
    },
    {
     "name": "stdout",
     "output_type": "stream",
     "text": [
      "                   all        515        668      0.716      0.498      0.608      0.448\n"
     ]
    },
    {
     "name": "stderr",
     "output_type": "stream",
     "text": [
      "\n"
     ]
    },
    {
     "name": "stdout",
     "output_type": "stream",
     "text": [
      "\n",
      "      Epoch    GPU_mem   box_loss   cls_loss   dfl_loss  Instances       Size\n"
     ]
    },
    {
     "name": "stderr",
     "output_type": "stream",
     "text": [
      "     37/250         0G     0.9032      1.101      1.132          5        512: 100%|██████████| 977/977 [20:25<00:00,  1.25s/it]\n",
      "                 Class     Images  Instances      Box(P          R      mAP50  mAP50-95): 100%|██████████| 129/129 [03:32<00:00,  1.65s/it]"
     ]
    },
    {
     "name": "stdout",
     "output_type": "stream",
     "text": [
      "                   all        515        668       0.69      0.579      0.609      0.461\n"
     ]
    },
    {
     "name": "stderr",
     "output_type": "stream",
     "text": [
      "\n"
     ]
    },
    {
     "name": "stdout",
     "output_type": "stream",
     "text": [
      "\n",
      "      Epoch    GPU_mem   box_loss   cls_loss   dfl_loss  Instances       Size\n"
     ]
    },
    {
     "name": "stderr",
     "output_type": "stream",
     "text": [
      "     38/250         0G     0.8931      1.065      1.124         11        512: 100%|██████████| 977/977 [20:51<00:00,  1.28s/it]\n",
      "                 Class     Images  Instances      Box(P          R      mAP50  mAP50-95): 100%|██████████| 129/129 [02:58<00:00,  1.38s/it]"
     ]
    },
    {
     "name": "stdout",
     "output_type": "stream",
     "text": [
      "                   all        515        668      0.656      0.607      0.638      0.471\n"
     ]
    },
    {
     "name": "stderr",
     "output_type": "stream",
     "text": [
      "\n"
     ]
    },
    {
     "name": "stdout",
     "output_type": "stream",
     "text": [
      "\n",
      "      Epoch    GPU_mem   box_loss   cls_loss   dfl_loss  Instances       Size\n"
     ]
    },
    {
     "name": "stderr",
     "output_type": "stream",
     "text": [
      "     39/250         0G     0.9135      1.085      1.146          5        512: 100%|██████████| 977/977 [21:02<00:00,  1.29s/it]\n",
      "                 Class     Images  Instances      Box(P          R      mAP50  mAP50-95): 100%|██████████| 129/129 [03:04<00:00,  1.43s/it]"
     ]
    },
    {
     "name": "stdout",
     "output_type": "stream",
     "text": [
      "                   all        515        668      0.526      0.702      0.631      0.477\n"
     ]
    },
    {
     "name": "stderr",
     "output_type": "stream",
     "text": [
      "\n"
     ]
    },
    {
     "name": "stdout",
     "output_type": "stream",
     "text": [
      "\n",
      "      Epoch    GPU_mem   box_loss   cls_loss   dfl_loss  Instances       Size\n"
     ]
    },
    {
     "name": "stderr",
     "output_type": "stream",
     "text": [
      "     40/250         0G     0.9093      1.059       1.14          6        512: 100%|██████████| 977/977 [20:32<00:00,  1.26s/it]\n",
      "                 Class     Images  Instances      Box(P          R      mAP50  mAP50-95): 100%|██████████| 129/129 [03:01<00:00,  1.41s/it]"
     ]
    },
    {
     "name": "stdout",
     "output_type": "stream",
     "text": [
      "                   all        515        668      0.676      0.632      0.659      0.493\n"
     ]
    },
    {
     "name": "stderr",
     "output_type": "stream",
     "text": [
      "\n"
     ]
    },
    {
     "name": "stdout",
     "output_type": "stream",
     "text": [
      "\n",
      "      Epoch    GPU_mem   box_loss   cls_loss   dfl_loss  Instances       Size\n"
     ]
    },
    {
     "name": "stderr",
     "output_type": "stream",
     "text": [
      "     41/250         0G     0.8907      1.046      1.134          6        512: 100%|██████████| 977/977 [20:52<00:00,  1.28s/it]\n",
      "                 Class     Images  Instances      Box(P          R      mAP50  mAP50-95): 100%|██████████| 129/129 [03:16<00:00,  1.53s/it]"
     ]
    },
    {
     "name": "stdout",
     "output_type": "stream",
     "text": [
      "                   all        515        668      0.695      0.671       0.67      0.507\n"
     ]
    },
    {
     "name": "stderr",
     "output_type": "stream",
     "text": [
      "\n"
     ]
    },
    {
     "name": "stdout",
     "output_type": "stream",
     "text": [
      "\n",
      "      Epoch    GPU_mem   box_loss   cls_loss   dfl_loss  Instances       Size\n"
     ]
    },
    {
     "name": "stderr",
     "output_type": "stream",
     "text": [
      "     42/250         0G     0.8861      1.043      1.126          3        512: 100%|██████████| 977/977 [20:41<00:00,  1.27s/it]\n",
      "                 Class     Images  Instances      Box(P          R      mAP50  mAP50-95): 100%|██████████| 129/129 [03:08<00:00,  1.46s/it]"
     ]
    },
    {
     "name": "stdout",
     "output_type": "stream",
     "text": [
      "                   all        515        668       0.61      0.646      0.664      0.484\n"
     ]
    },
    {
     "name": "stderr",
     "output_type": "stream",
     "text": [
      "\n"
     ]
    },
    {
     "name": "stdout",
     "output_type": "stream",
     "text": [
      "\n",
      "      Epoch    GPU_mem   box_loss   cls_loss   dfl_loss  Instances       Size\n"
     ]
    },
    {
     "name": "stderr",
     "output_type": "stream",
     "text": [
      "     43/250         0G     0.8969      1.016      1.126          4        512: 100%|██████████| 977/977 [20:06<00:00,  1.23s/it]\n",
      "                 Class     Images  Instances      Box(P          R      mAP50  mAP50-95): 100%|██████████| 129/129 [03:08<00:00,  1.46s/it]"
     ]
    },
    {
     "name": "stdout",
     "output_type": "stream",
     "text": [
      "                   all        515        668      0.719      0.614      0.659      0.489\n"
     ]
    },
    {
     "name": "stderr",
     "output_type": "stream",
     "text": [
      "\n"
     ]
    },
    {
     "name": "stdout",
     "output_type": "stream",
     "text": [
      "\n",
      "      Epoch    GPU_mem   box_loss   cls_loss   dfl_loss  Instances       Size\n"
     ]
    },
    {
     "name": "stderr",
     "output_type": "stream",
     "text": [
      "     44/250         0G      0.892       1.05      1.126          2        512: 100%|██████████| 977/977 [20:20<00:00,  1.25s/it]\n",
      "                 Class     Images  Instances      Box(P          R      mAP50  mAP50-95): 100%|██████████| 129/129 [03:06<00:00,  1.44s/it]"
     ]
    },
    {
     "name": "stdout",
     "output_type": "stream",
     "text": [
      "                   all        515        668      0.603      0.672      0.632      0.481\n"
     ]
    },
    {
     "name": "stderr",
     "output_type": "stream",
     "text": [
      "\n"
     ]
    },
    {
     "name": "stdout",
     "output_type": "stream",
     "text": [
      "\n",
      "      Epoch    GPU_mem   box_loss   cls_loss   dfl_loss  Instances       Size\n"
     ]
    },
    {
     "name": "stderr",
     "output_type": "stream",
     "text": [
      "     45/250         0G     0.8731      1.051       1.12          5        512: 100%|██████████| 977/977 [20:10<00:00,  1.24s/it]\n",
      "                 Class     Images  Instances      Box(P          R      mAP50  mAP50-95): 100%|██████████| 129/129 [03:06<00:00,  1.45s/it]"
     ]
    },
    {
     "name": "stdout",
     "output_type": "stream",
     "text": [
      "                   all        515        668      0.555      0.666      0.628      0.482\n"
     ]
    },
    {
     "name": "stderr",
     "output_type": "stream",
     "text": [
      "\n"
     ]
    },
    {
     "name": "stdout",
     "output_type": "stream",
     "text": [
      "\n",
      "      Epoch    GPU_mem   box_loss   cls_loss   dfl_loss  Instances       Size\n"
     ]
    },
    {
     "name": "stderr",
     "output_type": "stream",
     "text": [
      "     46/250         0G     0.8597      0.985      1.101          4        512: 100%|██████████| 977/977 [20:21<00:00,  1.25s/it]\n",
      "                 Class     Images  Instances      Box(P          R      mAP50  mAP50-95): 100%|██████████| 129/129 [03:08<00:00,  1.46s/it]"
     ]
    },
    {
     "name": "stdout",
     "output_type": "stream",
     "text": [
      "                   all        515        668      0.664      0.622      0.665      0.501\n"
     ]
    },
    {
     "name": "stderr",
     "output_type": "stream",
     "text": [
      "\n"
     ]
    },
    {
     "name": "stdout",
     "output_type": "stream",
     "text": [
      "\n",
      "      Epoch    GPU_mem   box_loss   cls_loss   dfl_loss  Instances       Size\n"
     ]
    },
    {
     "name": "stderr",
     "output_type": "stream",
     "text": [
      "     47/250         0G     0.8733      1.009      1.116          3        512: 100%|██████████| 977/977 [20:37<00:00,  1.27s/it]\n",
      "                 Class     Images  Instances      Box(P          R      mAP50  mAP50-95): 100%|██████████| 129/129 [03:10<00:00,  1.48s/it]"
     ]
    },
    {
     "name": "stdout",
     "output_type": "stream",
     "text": [
      "                   all        515        668       0.72      0.596      0.648      0.495\n"
     ]
    },
    {
     "name": "stderr",
     "output_type": "stream",
     "text": [
      "\n"
     ]
    },
    {
     "name": "stdout",
     "output_type": "stream",
     "text": [
      "\n",
      "      Epoch    GPU_mem   box_loss   cls_loss   dfl_loss  Instances       Size\n"
     ]
    },
    {
     "name": "stderr",
     "output_type": "stream",
     "text": [
      "     48/250         0G     0.8896      1.019      1.133          2        512: 100%|██████████| 977/977 [20:04<00:00,  1.23s/it]\n",
      "                 Class     Images  Instances      Box(P          R      mAP50  mAP50-95): 100%|██████████| 129/129 [03:09<00:00,  1.47s/it]"
     ]
    },
    {
     "name": "stdout",
     "output_type": "stream",
     "text": [
      "                   all        515        668      0.593      0.616      0.609      0.461\n"
     ]
    },
    {
     "name": "stderr",
     "output_type": "stream",
     "text": [
      "\n"
     ]
    },
    {
     "name": "stdout",
     "output_type": "stream",
     "text": [
      "\n",
      "      Epoch    GPU_mem   box_loss   cls_loss   dfl_loss  Instances       Size\n"
     ]
    },
    {
     "name": "stderr",
     "output_type": "stream",
     "text": [
      "     49/250         0G     0.8826     0.9952      1.127          5        512: 100%|██████████| 977/977 [20:02<00:00,  1.23s/it]\n",
      "                 Class     Images  Instances      Box(P          R      mAP50  mAP50-95): 100%|██████████| 129/129 [03:06<00:00,  1.44s/it]"
     ]
    },
    {
     "name": "stdout",
     "output_type": "stream",
     "text": [
      "                   all        515        668      0.734      0.593      0.692        0.5\n"
     ]
    },
    {
     "name": "stderr",
     "output_type": "stream",
     "text": [
      "\n"
     ]
    },
    {
     "name": "stdout",
     "output_type": "stream",
     "text": [
      "\n",
      "      Epoch    GPU_mem   box_loss   cls_loss   dfl_loss  Instances       Size\n"
     ]
    },
    {
     "name": "stderr",
     "output_type": "stream",
     "text": [
      "     51/250         0G     0.8762     0.9632      1.122          4        512: 100%|██████████| 977/977 [20:03<00:00,  1.23s/it]\n",
      "                 Class     Images  Instances      Box(P          R      mAP50  mAP50-95): 100%|██████████| 129/129 [03:04<00:00,  1.43s/it]"
     ]
    },
    {
     "name": "stdout",
     "output_type": "stream",
     "text": [
      "                   all        515        668      0.524      0.712      0.635      0.472\n"
     ]
    },
    {
     "name": "stderr",
     "output_type": "stream",
     "text": [
      "\n"
     ]
    },
    {
     "name": "stdout",
     "output_type": "stream",
     "text": [
      "\n",
      "      Epoch    GPU_mem   box_loss   cls_loss   dfl_loss  Instances       Size\n"
     ]
    },
    {
     "name": "stderr",
     "output_type": "stream",
     "text": [
      "     52/250         0G     0.8578     0.9628      1.094          5        512: 100%|██████████| 977/977 [19:40<00:00,  1.21s/it]\n",
      "                 Class     Images  Instances      Box(P          R      mAP50  mAP50-95): 100%|██████████| 129/129 [03:03<00:00,  1.42s/it]"
     ]
    },
    {
     "name": "stdout",
     "output_type": "stream",
     "text": [
      "                   all        515        668      0.758      0.613      0.671      0.503\n"
     ]
    },
    {
     "name": "stderr",
     "output_type": "stream",
     "text": [
      "\n"
     ]
    },
    {
     "name": "stdout",
     "output_type": "stream",
     "text": [
      "\n",
      "      Epoch    GPU_mem   box_loss   cls_loss   dfl_loss  Instances       Size\n"
     ]
    },
    {
     "name": "stderr",
     "output_type": "stream",
     "text": [
      "     53/250         0G     0.8612     0.9601      1.105          3        512: 100%|██████████| 977/977 [19:49<00:00,  1.22s/it]\n",
      "                 Class     Images  Instances      Box(P          R      mAP50  mAP50-95): 100%|██████████| 129/129 [03:04<00:00,  1.43s/it]"
     ]
    },
    {
     "name": "stdout",
     "output_type": "stream",
     "text": [
      "                   all        515        668      0.748      0.539       0.62      0.474\n"
     ]
    },
    {
     "name": "stderr",
     "output_type": "stream",
     "text": [
      "\n"
     ]
    },
    {
     "name": "stdout",
     "output_type": "stream",
     "text": [
      "\n",
      "      Epoch    GPU_mem   box_loss   cls_loss   dfl_loss  Instances       Size\n"
     ]
    },
    {
     "name": "stderr",
     "output_type": "stream",
     "text": [
      "     54/250         0G      0.859     0.9467      1.103          2        512: 100%|██████████| 977/977 [19:44<00:00,  1.21s/it]\n",
      "                 Class     Images  Instances      Box(P          R      mAP50  mAP50-95): 100%|██████████| 129/129 [03:00<00:00,  1.40s/it]"
     ]
    },
    {
     "name": "stdout",
     "output_type": "stream",
     "text": [
      "                   all        515        668      0.744      0.634      0.705      0.521\n"
     ]
    },
    {
     "name": "stderr",
     "output_type": "stream",
     "text": [
      "\n"
     ]
    },
    {
     "name": "stdout",
     "output_type": "stream",
     "text": [
      "\n",
      "      Epoch    GPU_mem   box_loss   cls_loss   dfl_loss  Instances       Size\n"
     ]
    },
    {
     "name": "stderr",
     "output_type": "stream",
     "text": [
      "     55/250         0G     0.8558     0.9584      1.105          4        512: 100%|██████████| 977/977 [19:48<00:00,  1.22s/it]\n",
      "                 Class     Images  Instances      Box(P          R      mAP50  mAP50-95): 100%|██████████| 129/129 [03:03<00:00,  1.42s/it]"
     ]
    },
    {
     "name": "stdout",
     "output_type": "stream",
     "text": [
      "                   all        515        668      0.584      0.704      0.675      0.511\n"
     ]
    },
    {
     "name": "stderr",
     "output_type": "stream",
     "text": [
      "\n"
     ]
    },
    {
     "name": "stdout",
     "output_type": "stream",
     "text": [
      "\n",
      "      Epoch    GPU_mem   box_loss   cls_loss   dfl_loss  Instances       Size\n"
     ]
    },
    {
     "name": "stderr",
     "output_type": "stream",
     "text": [
      "     56/250         0G     0.8459     0.9534        1.1          8        512: 100%|██████████| 977/977 [19:47<00:00,  1.22s/it]\n",
      "                 Class     Images  Instances      Box(P          R      mAP50  mAP50-95): 100%|██████████| 129/129 [03:02<00:00,  1.42s/it]"
     ]
    },
    {
     "name": "stdout",
     "output_type": "stream",
     "text": [
      "                   all        515        668      0.646      0.656      0.699      0.543\n"
     ]
    },
    {
     "name": "stderr",
     "output_type": "stream",
     "text": [
      "\n"
     ]
    },
    {
     "name": "stdout",
     "output_type": "stream",
     "text": [
      "\n",
      "      Epoch    GPU_mem   box_loss   cls_loss   dfl_loss  Instances       Size\n"
     ]
    },
    {
     "name": "stderr",
     "output_type": "stream",
     "text": [
      "     57/250         0G     0.8465     0.9422        1.1          4        512: 100%|██████████| 977/977 [19:53<00:00,  1.22s/it]\n",
      "                 Class     Images  Instances      Box(P          R      mAP50  mAP50-95): 100%|██████████| 129/129 [03:01<00:00,  1.41s/it]"
     ]
    },
    {
     "name": "stdout",
     "output_type": "stream",
     "text": [
      "                   all        515        668      0.566      0.661      0.656      0.505\n"
     ]
    },
    {
     "name": "stderr",
     "output_type": "stream",
     "text": [
      "\n"
     ]
    },
    {
     "name": "stdout",
     "output_type": "stream",
     "text": [
      "\n",
      "      Epoch    GPU_mem   box_loss   cls_loss   dfl_loss  Instances       Size\n"
     ]
    },
    {
     "name": "stderr",
     "output_type": "stream",
     "text": [
      "     58/250         0G     0.8592     0.9548       1.11          4        512: 100%|██████████| 977/977 [19:40<00:00,  1.21s/it]\n",
      "                 Class     Images  Instances      Box(P          R      mAP50  mAP50-95): 100%|██████████| 129/129 [02:56<00:00,  1.37s/it]"
     ]
    },
    {
     "name": "stdout",
     "output_type": "stream",
     "text": [
      "                   all        515        668      0.581      0.751      0.706      0.531\n"
     ]
    },
    {
     "name": "stderr",
     "output_type": "stream",
     "text": [
      "\n"
     ]
    },
    {
     "name": "stdout",
     "output_type": "stream",
     "text": [
      "\n",
      "      Epoch    GPU_mem   box_loss   cls_loss   dfl_loss  Instances       Size\n"
     ]
    },
    {
     "name": "stderr",
     "output_type": "stream",
     "text": [
      "     59/250         0G     0.8547     0.9259      1.107          3        512: 100%|██████████| 977/977 [19:48<00:00,  1.22s/it]\n",
      "                 Class     Images  Instances      Box(P          R      mAP50  mAP50-95): 100%|██████████| 129/129 [03:03<00:00,  1.42s/it]"
     ]
    },
    {
     "name": "stdout",
     "output_type": "stream",
     "text": [
      "                   all        515        668      0.696      0.696      0.724      0.543\n"
     ]
    },
    {
     "name": "stderr",
     "output_type": "stream",
     "text": [
      "\n"
     ]
    },
    {
     "name": "stdout",
     "output_type": "stream",
     "text": [
      "\n",
      "      Epoch    GPU_mem   box_loss   cls_loss   dfl_loss  Instances       Size\n"
     ]
    },
    {
     "name": "stderr",
     "output_type": "stream",
     "text": [
      "     60/250         0G     0.8355     0.9391      1.091          4        512: 100%|██████████| 977/977 [19:59<00:00,  1.23s/it]\n",
      "                 Class     Images  Instances      Box(P          R      mAP50  mAP50-95): 100%|██████████| 129/129 [03:09<00:00,  1.47s/it]"
     ]
    },
    {
     "name": "stdout",
     "output_type": "stream",
     "text": [
      "                   all        515        668      0.709      0.595      0.661        0.5\n"
     ]
    },
    {
     "name": "stderr",
     "output_type": "stream",
     "text": [
      "\n"
     ]
    },
    {
     "name": "stdout",
     "output_type": "stream",
     "text": [
      "\n",
      "      Epoch    GPU_mem   box_loss   cls_loss   dfl_loss  Instances       Size\n"
     ]
    },
    {
     "name": "stderr",
     "output_type": "stream",
     "text": [
      "     61/250         0G     0.8536     0.9592      1.111          5        512: 100%|██████████| 977/977 [20:14<00:00,  1.24s/it]\n",
      "                 Class     Images  Instances      Box(P          R      mAP50  mAP50-95): 100%|██████████| 129/129 [03:05<00:00,  1.44s/it]"
     ]
    },
    {
     "name": "stdout",
     "output_type": "stream",
     "text": [
      "                   all        515        668      0.659      0.762      0.733      0.563\n"
     ]
    },
    {
     "name": "stderr",
     "output_type": "stream",
     "text": [
      "\n"
     ]
    },
    {
     "name": "stdout",
     "output_type": "stream",
     "text": [
      "\n",
      "      Epoch    GPU_mem   box_loss   cls_loss   dfl_loss  Instances       Size\n"
     ]
    },
    {
     "name": "stderr",
     "output_type": "stream",
     "text": [
      "     62/250         0G     0.8562     0.9468      1.102          5        512: 100%|██████████| 977/977 [20:07<00:00,  1.24s/it]\n",
      "                 Class     Images  Instances      Box(P          R      mAP50  mAP50-95): 100%|██████████| 129/129 [03:03<00:00,  1.42s/it]"
     ]
    },
    {
     "name": "stdout",
     "output_type": "stream",
     "text": [
      "                   all        515        668      0.542      0.743      0.704      0.542\n"
     ]
    },
    {
     "name": "stderr",
     "output_type": "stream",
     "text": [
      "\n"
     ]
    },
    {
     "name": "stdout",
     "output_type": "stream",
     "text": [
      "\n",
      "      Epoch    GPU_mem   box_loss   cls_loss   dfl_loss  Instances       Size\n"
     ]
    },
    {
     "name": "stderr",
     "output_type": "stream",
     "text": [
      "     63/250         0G     0.8195      0.898      1.086          4        512: 100%|██████████| 977/977 [21:15<00:00,  1.31s/it]\n",
      "                 Class     Images  Instances      Box(P          R      mAP50  mAP50-95): 100%|██████████| 129/129 [03:04<00:00,  1.43s/it]"
     ]
    },
    {
     "name": "stdout",
     "output_type": "stream",
     "text": [
      "                   all        515        668      0.673      0.625      0.669       0.51\n"
     ]
    },
    {
     "name": "stderr",
     "output_type": "stream",
     "text": [
      "\n"
     ]
    },
    {
     "name": "stdout",
     "output_type": "stream",
     "text": [
      "\n",
      "      Epoch    GPU_mem   box_loss   cls_loss   dfl_loss  Instances       Size\n"
     ]
    },
    {
     "name": "stderr",
     "output_type": "stream",
     "text": [
      "     64/250         0G     0.8441     0.9386      1.101          2        512: 100%|██████████| 977/977 [20:17<00:00,  1.25s/it]\n",
      "                 Class     Images  Instances      Box(P          R      mAP50  mAP50-95): 100%|██████████| 129/129 [03:02<00:00,  1.41s/it]"
     ]
    },
    {
     "name": "stdout",
     "output_type": "stream",
     "text": [
      "                   all        515        668      0.582      0.669      0.697      0.536\n"
     ]
    },
    {
     "name": "stderr",
     "output_type": "stream",
     "text": [
      "\n"
     ]
    },
    {
     "name": "stdout",
     "output_type": "stream",
     "text": [
      "\n",
      "      Epoch    GPU_mem   box_loss   cls_loss   dfl_loss  Instances       Size\n"
     ]
    },
    {
     "name": "stderr",
     "output_type": "stream",
     "text": [
      "     65/250         0G     0.8494     0.9371      1.103          4        512: 100%|██████████| 977/977 [20:10<00:00,  1.24s/it]\n",
      "                 Class     Images  Instances      Box(P          R      mAP50  mAP50-95): 100%|██████████| 129/129 [03:02<00:00,  1.42s/it]"
     ]
    },
    {
     "name": "stdout",
     "output_type": "stream",
     "text": [
      "                   all        515        668      0.667      0.674      0.736      0.569\n"
     ]
    },
    {
     "name": "stderr",
     "output_type": "stream",
     "text": [
      "\n"
     ]
    },
    {
     "name": "stdout",
     "output_type": "stream",
     "text": [
      "\n",
      "      Epoch    GPU_mem   box_loss   cls_loss   dfl_loss  Instances       Size\n"
     ]
    },
    {
     "name": "stderr",
     "output_type": "stream",
     "text": [
      "     66/250         0G     0.8318     0.9139      1.097          2        512: 100%|██████████| 977/977 [19:49<00:00,  1.22s/it]\n",
      "                 Class     Images  Instances      Box(P          R      mAP50  mAP50-95): 100%|██████████| 129/129 [03:05<00:00,  1.44s/it]"
     ]
    },
    {
     "name": "stdout",
     "output_type": "stream",
     "text": [
      "                   all        515        668      0.618      0.714      0.716      0.543\n"
     ]
    },
    {
     "name": "stderr",
     "output_type": "stream",
     "text": [
      "\n"
     ]
    },
    {
     "name": "stdout",
     "output_type": "stream",
     "text": [
      "\n",
      "      Epoch    GPU_mem   box_loss   cls_loss   dfl_loss  Instances       Size\n"
     ]
    },
    {
     "name": "stderr",
     "output_type": "stream",
     "text": [
      "                 Class     Images  Instances      Box(P          R      mAP50  mAP50-95): 100%|██████████| 129/129 [03:00<00:00,  1.40s/it]"
     ]
    },
    {
     "name": "stdout",
     "output_type": "stream",
     "text": [
      "                   all        515        668      0.687      0.654      0.691      0.541\n"
     ]
    },
    {
     "name": "stderr",
     "output_type": "stream",
     "text": [
      "\n"
     ]
    },
    {
     "name": "stdout",
     "output_type": "stream",
     "text": [
      "\n",
      "      Epoch    GPU_mem   box_loss   cls_loss   dfl_loss  Instances       Size\n"
     ]
    },
    {
     "name": "stderr",
     "output_type": "stream",
     "text": [
      "     70/250         0G     0.8308     0.8875      1.085          4        512: 100%|██████████| 977/977 [20:06<00:00,  1.24s/it]\n",
      "                 Class     Images  Instances      Box(P          R      mAP50  mAP50-95): 100%|██████████| 129/129 [03:04<00:00,  1.43s/it]"
     ]
    },
    {
     "name": "stdout",
     "output_type": "stream",
     "text": [
      "                   all        515        668      0.831      0.577      0.715      0.542\n"
     ]
    },
    {
     "name": "stderr",
     "output_type": "stream",
     "text": [
      "\n"
     ]
    },
    {
     "name": "stdout",
     "output_type": "stream",
     "text": [
      "\n",
      "      Epoch    GPU_mem   box_loss   cls_loss   dfl_loss  Instances       Size\n"
     ]
    },
    {
     "name": "stderr",
     "output_type": "stream",
     "text": [
      "     71/250         0G     0.8113     0.8729      1.084          7        512: 100%|██████████| 977/977 [19:51<00:00,  1.22s/it]\n",
      "                 Class     Images  Instances      Box(P          R      mAP50  mAP50-95): 100%|██████████| 129/129 [02:58<00:00,  1.38s/it]"
     ]
    },
    {
     "name": "stdout",
     "output_type": "stream",
     "text": [
      "                   all        515        668      0.687      0.716      0.738      0.559\n"
     ]
    },
    {
     "name": "stderr",
     "output_type": "stream",
     "text": [
      "\n"
     ]
    },
    {
     "name": "stdout",
     "output_type": "stream",
     "text": [
      "\n",
      "      Epoch    GPU_mem   box_loss   cls_loss   dfl_loss  Instances       Size\n"
     ]
    },
    {
     "name": "stderr",
     "output_type": "stream",
     "text": [
      "     72/250         0G     0.8195     0.8706      1.086          3        512: 100%|██████████| 977/977 [19:40<00:00,  1.21s/it]\n",
      "                 Class     Images  Instances      Box(P          R      mAP50  mAP50-95): 100%|██████████| 129/129 [03:04<00:00,  1.43s/it]"
     ]
    },
    {
     "name": "stdout",
     "output_type": "stream",
     "text": [
      "                   all        515        668      0.718        0.7      0.706      0.533\n"
     ]
    },
    {
     "name": "stderr",
     "output_type": "stream",
     "text": [
      "\n"
     ]
    },
    {
     "name": "stdout",
     "output_type": "stream",
     "text": [
      "\n",
      "      Epoch    GPU_mem   box_loss   cls_loss   dfl_loss  Instances       Size\n"
     ]
    },
    {
     "name": "stderr",
     "output_type": "stream",
     "text": [
      "     73/250         0G     0.8039     0.8504      1.072          5        512: 100%|██████████| 977/977 [19:51<00:00,  1.22s/it]\n",
      "                 Class     Images  Instances      Box(P          R      mAP50  mAP50-95): 100%|██████████| 129/129 [03:00<00:00,  1.40s/it]"
     ]
    },
    {
     "name": "stdout",
     "output_type": "stream",
     "text": [
      "                   all        515        668      0.649      0.722      0.712      0.548\n"
     ]
    },
    {
     "name": "stderr",
     "output_type": "stream",
     "text": [
      "\n"
     ]
    },
    {
     "name": "stdout",
     "output_type": "stream",
     "text": [
      "\n",
      "      Epoch    GPU_mem   box_loss   cls_loss   dfl_loss  Instances       Size\n"
     ]
    },
    {
     "name": "stderr",
     "output_type": "stream",
     "text": [
      "     74/250         0G     0.8056     0.8435      1.086          7        512: 100%|██████████| 977/977 [19:43<00:00,  1.21s/it]\n",
      "                 Class     Images  Instances      Box(P          R      mAP50  mAP50-95): 100%|██████████| 129/129 [03:05<00:00,  1.44s/it]"
     ]
    },
    {
     "name": "stdout",
     "output_type": "stream",
     "text": [
      "                   all        515        668      0.735      0.671      0.714      0.554\n"
     ]
    },
    {
     "name": "stderr",
     "output_type": "stream",
     "text": [
      "\n"
     ]
    },
    {
     "name": "stdout",
     "output_type": "stream",
     "text": [
      "\n",
      "      Epoch    GPU_mem   box_loss   cls_loss   dfl_loss  Instances       Size\n"
     ]
    },
    {
     "name": "stderr",
     "output_type": "stream",
     "text": [
      "     75/250         0G      0.812     0.8567      1.086          3        512: 100%|██████████| 977/977 [20:00<00:00,  1.23s/it]\n",
      "                 Class     Images  Instances      Box(P          R      mAP50  mAP50-95): 100%|██████████| 129/129 [03:07<00:00,  1.45s/it]"
     ]
    },
    {
     "name": "stdout",
     "output_type": "stream",
     "text": [
      "                   all        515        668      0.649      0.592      0.672       0.52\n"
     ]
    },
    {
     "name": "stderr",
     "output_type": "stream",
     "text": [
      "\n"
     ]
    },
    {
     "name": "stdout",
     "output_type": "stream",
     "text": [
      "\n",
      "      Epoch    GPU_mem   box_loss   cls_loss   dfl_loss  Instances       Size\n"
     ]
    },
    {
     "name": "stderr",
     "output_type": "stream",
     "text": [
      "     76/250         0G     0.7912     0.8526      1.077          5        512: 100%|██████████| 977/977 [19:58<00:00,  1.23s/it]\n",
      "                 Class     Images  Instances      Box(P          R      mAP50  mAP50-95): 100%|██████████| 129/129 [02:58<00:00,  1.38s/it]"
     ]
    },
    {
     "name": "stdout",
     "output_type": "stream",
     "text": [
      "                   all        515        668      0.775       0.71       0.78      0.569\n"
     ]
    },
    {
     "name": "stderr",
     "output_type": "stream",
     "text": [
      "\n"
     ]
    },
    {
     "name": "stdout",
     "output_type": "stream",
     "text": [
      "\n",
      "      Epoch    GPU_mem   box_loss   cls_loss   dfl_loss  Instances       Size\n"
     ]
    },
    {
     "name": "stderr",
     "output_type": "stream",
     "text": [
      "     77/250         0G     0.8021     0.8327      1.077          6        512: 100%|██████████| 977/977 [19:47<00:00,  1.22s/it]\n",
      "                 Class     Images  Instances      Box(P          R      mAP50  mAP50-95): 100%|██████████| 129/129 [03:04<00:00,  1.43s/it]"
     ]
    },
    {
     "name": "stdout",
     "output_type": "stream",
     "text": [
      "                   all        515        668      0.717      0.642      0.694      0.537\n"
     ]
    },
    {
     "name": "stderr",
     "output_type": "stream",
     "text": [
      "\n"
     ]
    },
    {
     "name": "stdout",
     "output_type": "stream",
     "text": [
      "\n",
      "      Epoch    GPU_mem   box_loss   cls_loss   dfl_loss  Instances       Size\n"
     ]
    },
    {
     "name": "stderr",
     "output_type": "stream",
     "text": [
      "     78/250         0G     0.7996     0.8506      1.079          3        512: 100%|██████████| 977/977 [19:43<00:00,  1.21s/it]\n",
      "                 Class     Images  Instances      Box(P          R      mAP50  mAP50-95): 100%|██████████| 129/129 [02:56<00:00,  1.37s/it]"
     ]
    },
    {
     "name": "stdout",
     "output_type": "stream",
     "text": [
      "                   all        515        668      0.708      0.693      0.712      0.551\n"
     ]
    },
    {
     "name": "stderr",
     "output_type": "stream",
     "text": [
      "\n"
     ]
    },
    {
     "name": "stdout",
     "output_type": "stream",
     "text": [
      "\n",
      "      Epoch    GPU_mem   box_loss   cls_loss   dfl_loss  Instances       Size\n"
     ]
    },
    {
     "name": "stderr",
     "output_type": "stream",
     "text": [
      "     79/250         0G     0.8081     0.8288      1.089          5        512: 100%|██████████| 977/977 [19:28<00:00,  1.20s/it]\n",
      "                 Class     Images  Instances      Box(P          R      mAP50  mAP50-95): 100%|██████████| 129/129 [02:58<00:00,  1.38s/it]"
     ]
    },
    {
     "name": "stdout",
     "output_type": "stream",
     "text": [
      "                   all        515        668       0.72      0.723       0.74      0.565\n"
     ]
    },
    {
     "name": "stderr",
     "output_type": "stream",
     "text": [
      "\n"
     ]
    },
    {
     "name": "stdout",
     "output_type": "stream",
     "text": [
      "\n",
      "      Epoch    GPU_mem   box_loss   cls_loss   dfl_loss  Instances       Size\n"
     ]
    },
    {
     "name": "stderr",
     "output_type": "stream",
     "text": [
      "     80/250         0G     0.7905     0.8454      1.067          4        512: 100%|██████████| 977/977 [19:49<00:00,  1.22s/it]\n",
      "                 Class     Images  Instances      Box(P          R      mAP50  mAP50-95): 100%|██████████| 129/129 [03:07<00:00,  1.45s/it]"
     ]
    },
    {
     "name": "stdout",
     "output_type": "stream",
     "text": [
      "                   all        515        668      0.782      0.649      0.724      0.564\n"
     ]
    },
    {
     "name": "stderr",
     "output_type": "stream",
     "text": [
      "\n"
     ]
    },
    {
     "name": "stdout",
     "output_type": "stream",
     "text": [
      "\n",
      "      Epoch    GPU_mem   box_loss   cls_loss   dfl_loss  Instances       Size\n"
     ]
    },
    {
     "name": "stderr",
     "output_type": "stream",
     "text": [
      "     81/250         0G     0.7896     0.8457      1.068          6        512: 100%|██████████| 977/977 [19:52<00:00,  1.22s/it]\n",
      "                 Class     Images  Instances      Box(P          R      mAP50  mAP50-95): 100%|██████████| 129/129 [03:03<00:00,  1.42s/it]"
     ]
    },
    {
     "name": "stdout",
     "output_type": "stream",
     "text": [
      "                   all        515        668      0.749      0.672      0.698      0.538\n"
     ]
    },
    {
     "name": "stderr",
     "output_type": "stream",
     "text": [
      "\n"
     ]
    },
    {
     "name": "stdout",
     "output_type": "stream",
     "text": [
      "\n",
      "      Epoch    GPU_mem   box_loss   cls_loss   dfl_loss  Instances       Size\n"
     ]
    },
    {
     "name": "stderr",
     "output_type": "stream",
     "text": [
      "     82/250         0G     0.7999     0.8489      1.083          4        512: 100%|██████████| 977/977 [19:25<00:00,  1.19s/it]\n",
      "                 Class     Images  Instances      Box(P          R      mAP50  mAP50-95): 100%|██████████| 129/129 [03:00<00:00,  1.40s/it]"
     ]
    },
    {
     "name": "stdout",
     "output_type": "stream",
     "text": [
      "                   all        515        668      0.688      0.616      0.712      0.558\n"
     ]
    },
    {
     "name": "stderr",
     "output_type": "stream",
     "text": [
      "\n"
     ]
    },
    {
     "name": "stdout",
     "output_type": "stream",
     "text": [
      "\n",
      "      Epoch    GPU_mem   box_loss   cls_loss   dfl_loss  Instances       Size\n"
     ]
    },
    {
     "name": "stderr",
     "output_type": "stream",
     "text": [
      "     83/250         0G     0.8023     0.8421      1.073          4        512: 100%|██████████| 977/977 [19:20<00:00,  1.19s/it]\n",
      "                 Class     Images  Instances      Box(P          R      mAP50  mAP50-95): 100%|██████████| 129/129 [03:01<00:00,  1.41s/it]"
     ]
    },
    {
     "name": "stdout",
     "output_type": "stream",
     "text": [
      "                   all        515        668      0.708      0.689      0.717      0.558\n"
     ]
    },
    {
     "name": "stderr",
     "output_type": "stream",
     "text": [
      "\n"
     ]
    },
    {
     "name": "stdout",
     "output_type": "stream",
     "text": [
      "\n",
      "      Epoch    GPU_mem   box_loss   cls_loss   dfl_loss  Instances       Size\n"
     ]
    },
    {
     "name": "stderr",
     "output_type": "stream",
     "text": [
      "     84/250         0G     0.8039     0.8229      1.081          5        512: 100%|██████████| 977/977 [19:11<00:00,  1.18s/it]\n",
      "                 Class     Images  Instances      Box(P          R      mAP50  mAP50-95): 100%|██████████| 129/129 [02:55<00:00,  1.36s/it]"
     ]
    },
    {
     "name": "stdout",
     "output_type": "stream",
     "text": [
      "                   all        515        668      0.814      0.664      0.736      0.573\n"
     ]
    },
    {
     "name": "stderr",
     "output_type": "stream",
     "text": [
      "\n"
     ]
    },
    {
     "name": "stdout",
     "output_type": "stream",
     "text": [
      "\n",
      "      Epoch    GPU_mem   box_loss   cls_loss   dfl_loss  Instances       Size\n"
     ]
    },
    {
     "name": "stderr",
     "output_type": "stream",
     "text": [
      "     85/250         0G     0.7877     0.8289      1.064          7        512: 100%|██████████| 977/977 [19:08<00:00,  1.18s/it]\n",
      "                 Class     Images  Instances      Box(P          R      mAP50  mAP50-95): 100%|██████████| 129/129 [02:57<00:00,  1.38s/it]"
     ]
    },
    {
     "name": "stdout",
     "output_type": "stream",
     "text": [
      "                   all        515        668      0.582       0.76      0.733      0.573\n"
     ]
    },
    {
     "name": "stderr",
     "output_type": "stream",
     "text": [
      "\n"
     ]
    },
    {
     "name": "stdout",
     "output_type": "stream",
     "text": [
      "\n",
      "      Epoch    GPU_mem   box_loss   cls_loss   dfl_loss  Instances       Size\n"
     ]
    },
    {
     "name": "stderr",
     "output_type": "stream",
     "text": [
      "     86/250         0G     0.7798      0.816      1.073          5        512: 100%|██████████| 977/977 [19:12<00:00,  1.18s/it]\n",
      "                 Class     Images  Instances      Box(P          R      mAP50  mAP50-95): 100%|██████████| 129/129 [02:56<00:00,  1.37s/it]"
     ]
    },
    {
     "name": "stdout",
     "output_type": "stream",
     "text": [
      "                   all        515        668      0.795      0.668      0.767      0.593\n"
     ]
    },
    {
     "name": "stderr",
     "output_type": "stream",
     "text": [
      "\n"
     ]
    },
    {
     "name": "stdout",
     "output_type": "stream",
     "text": [
      "\n",
      "      Epoch    GPU_mem   box_loss   cls_loss   dfl_loss  Instances       Size\n"
     ]
    },
    {
     "name": "stderr",
     "output_type": "stream",
     "text": [
      "     87/250         0G     0.7848      0.802       1.06          8        512: 100%|██████████| 977/977 [19:02<00:00,  1.17s/it]\n",
      "                 Class     Images  Instances      Box(P          R      mAP50  mAP50-95): 100%|██████████| 129/129 [02:58<00:00,  1.38s/it]"
     ]
    },
    {
     "name": "stdout",
     "output_type": "stream",
     "text": [
      "                   all        515        668      0.737      0.687      0.735      0.577\n"
     ]
    },
    {
     "name": "stderr",
     "output_type": "stream",
     "text": [
      "\n"
     ]
    },
    {
     "name": "stdout",
     "output_type": "stream",
     "text": [
      "\n",
      "      Epoch    GPU_mem   box_loss   cls_loss   dfl_loss  Instances       Size\n"
     ]
    },
    {
     "name": "stderr",
     "output_type": "stream",
     "text": [
      "     88/250         0G     0.7761     0.8062      1.064          4        512: 100%|██████████| 977/977 [19:43<00:00,  1.21s/it]\n",
      "                 Class     Images  Instances      Box(P          R      mAP50  mAP50-95): 100%|██████████| 129/129 [03:02<00:00,  1.42s/it]"
     ]
    },
    {
     "name": "stdout",
     "output_type": "stream",
     "text": [
      "                   all        515        668      0.661       0.67      0.709      0.557\n"
     ]
    },
    {
     "name": "stderr",
     "output_type": "stream",
     "text": [
      "\n"
     ]
    },
    {
     "name": "stdout",
     "output_type": "stream",
     "text": [
      "\n",
      "      Epoch    GPU_mem   box_loss   cls_loss   dfl_loss  Instances       Size\n"
     ]
    },
    {
     "name": "stderr",
     "output_type": "stream",
     "text": [
      "     89/250         0G      0.772     0.8052      1.071          4        512: 100%|██████████| 977/977 [19:42<00:00,  1.21s/it]\n",
      "                 Class     Images  Instances      Box(P          R      mAP50  mAP50-95): 100%|██████████| 129/129 [03:02<00:00,  1.42s/it]"
     ]
    },
    {
     "name": "stdout",
     "output_type": "stream",
     "text": [
      "                   all        515        668      0.752      0.737      0.766      0.597\n"
     ]
    },
    {
     "name": "stderr",
     "output_type": "stream",
     "text": [
      "\n"
     ]
    },
    {
     "name": "stdout",
     "output_type": "stream",
     "text": [
      "\n",
      "      Epoch    GPU_mem   box_loss   cls_loss   dfl_loss  Instances       Size\n"
     ]
    },
    {
     "name": "stderr",
     "output_type": "stream",
     "text": [
      "     90/250         0G     0.7593     0.7849      1.054         13        512: 100%|██████████| 977/977 [19:43<00:00,  1.21s/it]\n",
      "                 Class     Images  Instances      Box(P          R      mAP50  mAP50-95): 100%|██████████| 129/129 [02:58<00:00,  1.38s/it]"
     ]
    },
    {
     "name": "stdout",
     "output_type": "stream",
     "text": [
      "                   all        515        668      0.743      0.663      0.725      0.576\n"
     ]
    },
    {
     "name": "stderr",
     "output_type": "stream",
     "text": [
      "\n"
     ]
    },
    {
     "name": "stdout",
     "output_type": "stream",
     "text": [
      "\n",
      "      Epoch    GPU_mem   box_loss   cls_loss   dfl_loss  Instances       Size\n"
     ]
    },
    {
     "name": "stderr",
     "output_type": "stream",
     "text": [
      "     91/250         0G     0.7628     0.7635       1.06          7        512: 100%|██████████| 977/977 [19:31<00:00,  1.20s/it]\n",
      "                 Class     Images  Instances      Box(P          R      mAP50  mAP50-95): 100%|██████████| 129/129 [02:54<00:00,  1.35s/it]"
     ]
    },
    {
     "name": "stdout",
     "output_type": "stream",
     "text": [
      "                   all        515        668      0.748      0.695      0.757      0.597\n"
     ]
    },
    {
     "name": "stderr",
     "output_type": "stream",
     "text": [
      "\n"
     ]
    },
    {
     "name": "stdout",
     "output_type": "stream",
     "text": [
      "\n",
      "      Epoch    GPU_mem   box_loss   cls_loss   dfl_loss  Instances       Size\n"
     ]
    },
    {
     "name": "stderr",
     "output_type": "stream",
     "text": [
      "     92/250         0G     0.7678      0.761      1.055          5        512: 100%|██████████| 977/977 [19:30<00:00,  1.20s/it]\n",
      "                 Class     Images  Instances      Box(P          R      mAP50  mAP50-95): 100%|██████████| 129/129 [03:00<00:00,  1.40s/it]"
     ]
    },
    {
     "name": "stdout",
     "output_type": "stream",
     "text": [
      "                   all        515        668       0.72       0.74      0.736      0.569\n"
     ]
    },
    {
     "name": "stderr",
     "output_type": "stream",
     "text": [
      "\n"
     ]
    },
    {
     "name": "stdout",
     "output_type": "stream",
     "text": [
      "\n",
      "      Epoch    GPU_mem   box_loss   cls_loss   dfl_loss  Instances       Size\n"
     ]
    },
    {
     "name": "stderr",
     "output_type": "stream",
     "text": [
      "     93/250         0G     0.7742      0.808      1.064          3        512: 100%|██████████| 977/977 [19:45<00:00,  1.21s/it]\n",
      "                 Class     Images  Instances      Box(P          R      mAP50  mAP50-95): 100%|██████████| 129/129 [03:01<00:00,  1.41s/it]"
     ]
    },
    {
     "name": "stdout",
     "output_type": "stream",
     "text": [
      "                   all        515        668      0.591      0.708      0.699      0.538\n"
     ]
    },
    {
     "name": "stderr",
     "output_type": "stream",
     "text": [
      "\n"
     ]
    },
    {
     "name": "stdout",
     "output_type": "stream",
     "text": [
      "\n",
      "      Epoch    GPU_mem   box_loss   cls_loss   dfl_loss  Instances       Size\n"
     ]
    },
    {
     "name": "stderr",
     "output_type": "stream",
     "text": [
      "     94/250         0G     0.7657     0.7804      1.053          5        512: 100%|██████████| 977/977 [19:47<00:00,  1.21s/it]\n",
      "                 Class     Images  Instances      Box(P          R      mAP50  mAP50-95): 100%|██████████| 129/129 [02:56<00:00,  1.37s/it]"
     ]
    },
    {
     "name": "stdout",
     "output_type": "stream",
     "text": [
      "                   all        515        668      0.644       0.78      0.774      0.596\n"
     ]
    },
    {
     "name": "stderr",
     "output_type": "stream",
     "text": [
      "\n"
     ]
    },
    {
     "name": "stdout",
     "output_type": "stream",
     "text": [
      "\n",
      "      Epoch    GPU_mem   box_loss   cls_loss   dfl_loss  Instances       Size\n"
     ]
    },
    {
     "name": "stderr",
     "output_type": "stream",
     "text": [
      "     95/250         0G     0.7449     0.7439      1.044          3        512: 100%|██████████| 977/977 [19:43<00:00,  1.21s/it]\n",
      "                 Class     Images  Instances      Box(P          R      mAP50  mAP50-95): 100%|██████████| 129/129 [02:59<00:00,  1.39s/it]"
     ]
    },
    {
     "name": "stdout",
     "output_type": "stream",
     "text": [
      "                   all        515        668      0.768      0.718       0.75       0.58\n"
     ]
    },
    {
     "name": "stderr",
     "output_type": "stream",
     "text": [
      "\n"
     ]
    },
    {
     "name": "stdout",
     "output_type": "stream",
     "text": [
      "\n",
      "      Epoch    GPU_mem   box_loss   cls_loss   dfl_loss  Instances       Size\n"
     ]
    },
    {
     "name": "stderr",
     "output_type": "stream",
     "text": [
      "     96/250         0G     0.7608     0.7791      1.059          9        512: 100%|██████████| 977/977 [19:49<00:00,  1.22s/it]\n",
      "                 Class     Images  Instances      Box(P          R      mAP50  mAP50-95): 100%|██████████| 129/129 [03:01<00:00,  1.41s/it]"
     ]
    },
    {
     "name": "stdout",
     "output_type": "stream",
     "text": [
      "                   all        515        668      0.724      0.632      0.713      0.549\n"
     ]
    },
    {
     "name": "stderr",
     "output_type": "stream",
     "text": [
      "\n"
     ]
    },
    {
     "name": "stdout",
     "output_type": "stream",
     "text": [
      "\n",
      "      Epoch    GPU_mem   box_loss   cls_loss   dfl_loss  Instances       Size\n"
     ]
    },
    {
     "name": "stderr",
     "output_type": "stream",
     "text": [
      "     97/250         0G     0.7535      0.744      1.048          3        512: 100%|██████████| 977/977 [19:43<00:00,  1.21s/it]\n",
      "                 Class     Images  Instances      Box(P          R      mAP50  mAP50-95): 100%|██████████| 129/129 [03:02<00:00,  1.42s/it]"
     ]
    },
    {
     "name": "stdout",
     "output_type": "stream",
     "text": [
      "                   all        515        668      0.807      0.741      0.791       0.63\n"
     ]
    },
    {
     "name": "stderr",
     "output_type": "stream",
     "text": [
      "\n"
     ]
    },
    {
     "name": "stdout",
     "output_type": "stream",
     "text": [
      "\n",
      "      Epoch    GPU_mem   box_loss   cls_loss   dfl_loss  Instances       Size\n"
     ]
    },
    {
     "name": "stderr",
     "output_type": "stream",
     "text": [
      "     98/250         0G     0.7536      0.734      1.053          6        512: 100%|██████████| 977/977 [20:00<00:00,  1.23s/it]\n",
      "                 Class     Images  Instances      Box(P          R      mAP50  mAP50-95): 100%|██████████| 129/129 [02:58<00:00,  1.38s/it]"
     ]
    },
    {
     "name": "stdout",
     "output_type": "stream",
     "text": [
      "                   all        515        668      0.785      0.687      0.748      0.583\n"
     ]
    },
    {
     "name": "stderr",
     "output_type": "stream",
     "text": [
      "\n"
     ]
    },
    {
     "name": "stdout",
     "output_type": "stream",
     "text": [
      "\n",
      "      Epoch    GPU_mem   box_loss   cls_loss   dfl_loss  Instances       Size\n"
     ]
    },
    {
     "name": "stderr",
     "output_type": "stream",
     "text": [
      "     99/250         0G     0.7659     0.7889       1.06          7        512: 100%|██████████| 977/977 [20:33<00:00,  1.26s/it]\n",
      "                 Class     Images  Instances      Box(P          R      mAP50  mAP50-95): 100%|██████████| 129/129 [03:00<00:00,  1.40s/it]"
     ]
    },
    {
     "name": "stdout",
     "output_type": "stream",
     "text": [
      "                   all        515        668      0.615       0.75      0.722      0.561\n"
     ]
    },
    {
     "name": "stderr",
     "output_type": "stream",
     "text": [
      "\n"
     ]
    },
    {
     "name": "stdout",
     "output_type": "stream",
     "text": [
      "\n",
      "      Epoch    GPU_mem   box_loss   cls_loss   dfl_loss  Instances       Size\n"
     ]
    },
    {
     "name": "stderr",
     "output_type": "stream",
     "text": [
      "    100/250         0G     0.7641     0.7472      1.062          3        512: 100%|██████████| 977/977 [20:41<00:00,  1.27s/it]\n",
      "                 Class     Images  Instances      Box(P          R      mAP50  mAP50-95): 100%|██████████| 129/129 [02:55<00:00,  1.36s/it]"
     ]
    },
    {
     "name": "stdout",
     "output_type": "stream",
     "text": [
      "                   all        515        668      0.745      0.662      0.712      0.557\n"
     ]
    },
    {
     "name": "stderr",
     "output_type": "stream",
     "text": [
      "\n"
     ]
    },
    {
     "name": "stdout",
     "output_type": "stream",
     "text": [
      "\n",
      "      Epoch    GPU_mem   box_loss   cls_loss   dfl_loss  Instances       Size\n"
     ]
    },
    {
     "name": "stderr",
     "output_type": "stream",
     "text": [
      "    101/250         0G     0.7642     0.7579      1.067          1        512: 100%|██████████| 977/977 [15:59<00:00,  1.02it/s]\n",
      "                 Class     Images  Instances      Box(P          R      mAP50  mAP50-95): 100%|██████████| 129/129 [02:37<00:00,  1.22s/it]"
     ]
    },
    {
     "name": "stdout",
     "output_type": "stream",
     "text": [
      "                   all        515        668      0.632      0.803      0.743       0.58\n"
     ]
    },
    {
     "name": "stderr",
     "output_type": "stream",
     "text": [
      "\n"
     ]
    },
    {
     "name": "stdout",
     "output_type": "stream",
     "text": [
      "\n",
      "      Epoch    GPU_mem   box_loss   cls_loss   dfl_loss  Instances       Size\n"
     ]
    },
    {
     "name": "stderr",
     "output_type": "stream",
     "text": [
      "    102/250         0G     0.7951     0.7428       1.05          5        512:   9%|▊         | 84/977 [01:09<11:38,  1.28it/s]"
     ]
    }
   ],
   "source": [
    "# ======================\n",
    "# 4. Training Execution\n",
    "# ======================\n",
    "def train_model():\n",
    "    # Initialize\n",
    "    model = YOLO(\"yolov8s.pt\")\n",
    "    \n",
    "    # Add callbacks\n",
    "    phase_manager = PhaseManager()\n",
    "    model.add_callback(\"on_train_epoch_start\", phase_manager.on_train_epoch_start)\n",
    "    \n",
    "    # Check for existing checkpoints\n",
    "    checkpoint_dir = os.path.join(\"runs\", \"detect\", training_config[\"name\"])\n",
    "    last_checkpoint = None\n",
    "    \n",
    "    if os.path.exists(checkpoint_dir):\n",
    "        checkpoints = [f for f in os.listdir(checkpoint_dir) \n",
    "                      if f.endswith(\".pt\") and \"temp\" not in f]\n",
    "        if checkpoints:\n",
    "            checkpoints.sort(key=lambda x: os.path.getmtime(os.path.join(checkpoint_dir, x)))\n",
    "            last_checkpoint = os.path.join(checkpoint_dir, checkpoints[-1])\n",
    "            print(f\"Resuming from: {last_checkpoint}\")\n",
    "            training_config[\"resume\"] = last_checkpoint\n",
    "    \n",
    "    # Start training with error handling\n",
    "    try:\n",
    "        results = model.train(**training_config)\n",
    "    except Exception as e:\n",
    "        print(f\"Training failed: {e}\")\n",
    "        print(\"Attempting minimal configuration...\")\n",
    "        minimal_config = {\n",
    "            \"data\": training_config[\"data\"],\n",
    "            \"epochs\": training_config[\"epochs\"],\n",
    "            \"batch\": 2,\n",
    "            \"imgsz\": 512,\n",
    "            \"device\": \"cpu\",\n",
    "            \"workers\": 4,\n",
    "            \"optimizer\": \"Adam\",\n",
    "            \"lr0\": 0.001,\n",
    "            \"name\": training_config[\"name\"] + \"_minimal\"\n",
    "        }\n",
    "        results = model.train(**minimal_config)\n",
    "    \n",
    "    return results\n",
    "\n",
    "# Run training\n",
    "if __name__ == \"__main__\":\n",
    "    train_model()"
   ]
  },
  {
   "cell_type": "code",
   "execution_count": null,
   "id": "2e3bb2fc-5dc4-43d5-b7ba-0f9272733a86",
   "metadata": {},
   "outputs": [],
   "source": [
    "if epoch > 200 and trainer.metrics.ap50 > 0.8:\n",
    "    trainer.args.val_augment = True  # TTA\n",
    "    trainer.args.conf = 0.001        # Lower confidence threshold"
   ]
  }
 ],
 "metadata": {
  "kernelspec": {
   "display_name": "Python 3 (ipykernel)",
   "language": "python",
   "name": "python3"
  },
  "language_info": {
   "codemirror_mode": {
    "name": "ipython",
    "version": 3
   },
   "file_extension": ".py",
   "mimetype": "text/x-python",
   "name": "python",
   "nbconvert_exporter": "python",
   "pygments_lexer": "ipython3",
   "version": "3.12.7"
  }
 },
 "nbformat": 4,
 "nbformat_minor": 5
}
